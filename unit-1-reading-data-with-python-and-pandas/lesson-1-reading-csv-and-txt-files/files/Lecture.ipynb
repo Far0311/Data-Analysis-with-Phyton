{
  "cells": [
    {
      "cell_type": "markdown",
      "metadata": {
        "id": "gbpVuZE5xx_d"
      },
      "source": [
        "![rmotr](https://user-images.githubusercontent.com/7065401/52071918-bda15380-2562-11e9-828c-7f95297e4a82.png)\n",
        "<hr style=\"margin-bottom: 40px;\">\n",
        "\n",
        "<img src=\"https://user-images.githubusercontent.com/7065401/68501079-0695df00-023c-11ea-841f-455dac84a089.jpg\"\n",
        "    style=\"width:400px; float: right; margin: 0 40px 40px 40px;\"></img>\n",
        "\n",
        "# Reading CSV and TXT files\n",
        "\n",
        "Rather than creating `Series` or `DataFrames` strutures from scratch, or even from Python core sequences or `ndarrays`, the most typical use of **pandas** is based on the loading of information from files or sources of information for further exploration, transformation and analysis.\n",
        "\n",
        "In this lecture we'll learn how to read comma-separated values files (.csv) and raw text files (.txt) into pandas `DataFrame`s."
      ]
    },
    {
      "cell_type": "markdown",
      "metadata": {
        "id": "fKzin2OZxx_g"
      },
      "source": [
        "![purple-divider](https://user-images.githubusercontent.com/7065401/52071927-c1cd7100-2562-11e9-908a-dde91ba14e59.png)\n",
        "\n",
        "## Hands on!"
      ]
    },
    {
      "cell_type": "code",
      "execution_count": null,
      "metadata": {
        "id": "lUJ0daJ6xx_h"
      },
      "outputs": [],
      "source": [
        "import pandas as pd"
      ]
    },
    {
      "cell_type": "markdown",
      "metadata": {
        "id": "WNkXEEgLxx_j"
      },
      "source": [
        "![green-divider](https://user-images.githubusercontent.com/7065401/52071924-c003ad80-2562-11e9-8297-1c6595f8a7ff.png)\n",
        "\n",
        "## Reading data with Python\n",
        "\n",
        "As we saw on previous courses we can read data simply using Python.\n",
        "\n",
        "When you want to work with a file, the first thing to do is to open it. This is done by invoking the `open()` built-in function.\n",
        "\n",
        "`open()` has a single required argument that is the path to the file and has a single return, the file object.\n",
        "\n",
        "The `with` statement automatically takes care of closing the file once it leaves the `with` block, even in cases of error."
      ]
    },
    {
      "cell_type": "code",
      "execution_count": null,
      "metadata": {
        "id": "V6KzFMftxx_j",
        "outputId": "601f9df6-8a8c-4ac1-9ef4-2ce866b52ff1"
      },
      "outputs": [
        {
          "name": "stdout",
          "output_type": "stream",
          "text": [
            "<_io.TextIOWrapper name='btc-market-price.csv' mode='r' encoding='UTF-8'>\n"
          ]
        }
      ],
      "source": [
        "filepath = 'btc-market-price.csv'\n",
        "\n",
        "with open(filepath, 'r') as reader:\n",
        "    print(reader)"
      ]
    },
    {
      "cell_type": "markdown",
      "metadata": {
        "id": "glyPzBsdxx_j"
      },
      "source": [
        "Once the file is opened, we can read its content as follows:"
      ]
    },
    {
      "cell_type": "code",
      "execution_count": null,
      "metadata": {
        "id": "wtlZsXJUxx_k",
        "outputId": "352a6d47-9442-46a7-8f25-eb98deecae43"
      },
      "outputs": [
        {
          "name": "stdout",
          "output_type": "stream",
          "text": [
            "0 2/4/17 0:00,1099.169125\n",
            "\n",
            "1 3/4/17 0:00,1141.813\n",
            "\n",
            "2 4/4/17 0:00,?\n",
            "\n",
            "3 5/4/17 0:00,1133.079314\n",
            "\n",
            "4 6/4/17 0:00,-\n",
            "\n",
            "5 7/4/17 0:00,-\n",
            "\n",
            "6 8/4/17 0:00,1181.149838\n",
            "\n",
            "7 9/4/17 0:00,1208.8005\n",
            "\n",
            "8 10/4/17 0:00,1207.744875\n",
            "\n",
            "9 11/4/17 0:00,1226.617038\n",
            "\n"
          ]
        }
      ],
      "source": [
        "filepath = 'btc-market-price.csv'\n",
        "\n",
        "with open(filepath, 'r') as reader:\n",
        "    for index, line in enumerate(reader.readlines()):\n",
        "        # read just the first 10 lines\n",
        "        if (index < 10):\n",
        "            print(index, line)"
      ]
    },
    {
      "cell_type": "markdown",
      "metadata": {
        "id": "Q8cx8pMOxx_k"
      },
      "source": [
        "![green-divider](https://user-images.githubusercontent.com/7065401/52071924-c003ad80-2562-11e9-8297-1c6595f8a7ff.png)\n",
        "\n",
        "## Reading data with Pandas\n",
        "\n",
        "Probably one of the most recurrent types of work for data analysis: public data sources, logs, historical information tables, exports from databases. So the pandas library offers us functions to read and write files in multiple formats like CSV, JSON, XML and Excel's XLSX, all of them creating a `DataFrame` with the information read from the file.\n",
        "\n",
        "We'll learn how to read different type of data including:\n",
        "- CSV files (.csv)\n",
        "- Raw text files (.txt)\n",
        "- JSON data from a file and from an API\n",
        "- Data from a SQL query over a database\n",
        "\n",
        "There are many other available reading functions as the following table shows:\n",
        "\n",
        "![pandas read data table](https://user-images.githubusercontent.com/7065401/68400151-51d5c200-0156-11ea-9732-aa00400c8e4b.png)"
      ]
    },
    {
      "cell_type": "markdown",
      "metadata": {
        "id": "tA1qFhvuxx_k"
      },
      "source": [
        "![green-divider](https://user-images.githubusercontent.com/7065401/52071924-c003ad80-2562-11e9-8297-1c6595f8a7ff.png)\n",
        "\n",
        "## The `read_csv` method\n",
        "\n",
        "The first method we'll learn is **read_csv**, that let us read comma-separated values (CSV) files and raw text (TXT) files into a `DataFrame`.\n",
        "\n",
        "The `read_csv` function is extremely powerful and you can specify a very broad set of parameters at import time that allow us to accurately configure how the data will be read and parsed by specifying the correct structure, enconding and other details. The most common parameters are as follows:\n",
        "\n",
        "- `filepath`: Path of the file to be read.\n",
        "- `sep`: Character(s) that are used as a field separator in the file.\n",
        "- `header`: Index of the row containing the names of the columns (None if none).\n",
        "- `index_col`: Index of the column or sequence of indexes that should be used as index of rows of the data.\n",
        "- `names`: Sequence containing the names of the columns (used together with header = None).\n",
        "- `skiprows`: Number of rows or sequence of row indexes to ignore in the load.\n",
        "- `na_values`: Sequence of values that, if found in the file, should be treated as NaN.\n",
        "- `dtype`: Dictionary in which the keys will be column names and the values will be types of NumPy to which their content must be converted.\n",
        "- `parse_dates`: Flag that indicates if Python should try to parse data with a format similar to dates as dates. You can enter a list of column names that must be joined for the parsing as a date.\n",
        "- `date_parser`: Function to use to try to parse dates.\n",
        "- `nrows`: Number of rows to read from the beginning of the file.\n",
        "- `skip_footer`: Number of rows to ignore at the end of the file.\n",
        "- `encoding`: Encoding to be expected from the file read.\n",
        "- `squeeze`: Flag that indicates that if the data read only contains one column the result is a Series instead of a DataFrame.\n",
        "- `thousands`: Character to use to detect the thousands separator.\n",
        "- `decimal`: Character to use to detect the decimal separator.\n",
        "- `skip_blank_lines`: Flag that indicates whether blank lines should be ignored.\n",
        "\n",
        "> Full `read_csv` documentation can be found here: https://pandas.pydata.org/pandas-docs/stable/reference/api/pandas.read_csv.html."
      ]
    },
    {
      "cell_type": "markdown",
      "metadata": {
        "id": "oS9oR-Szxx_k"
      },
      "source": [
        "In this case we'll try to read our `btc-market-price.csv` CSV file using different parameters to parse it correctly.\n",
        "\n",
        "This file contains records of the mean price of Bitcoin per date."
      ]
    },
    {
      "cell_type": "markdown",
      "metadata": {
        "id": "FNWmJGJyxx_l"
      },
      "source": [
        "![green-divider](https://user-images.githubusercontent.com/7065401/52071924-c003ad80-2562-11e9-8297-1c6595f8a7ff.png)\n",
        "\n",
        "## Reading our first CSV file\n",
        "\n",
        "Everytime we call `read_csv` method, we'll need to pass an explicit `filepath` parameter indicating the path where our CSV file is.\n",
        "\n",
        "Any valid string path is acceptable. The string could be a URL. Valid URL schemes include HTTP, FTP, S3, and file. For file URLs, a host is expected. A local file could be: `file://localhost/path/to/table.csv`.\n",
        "\n",
        "For example we can use `read_csv` method to load data directly from an URL:"
      ]
    },
    {
      "cell_type": "code",
      "execution_count": null,
      "metadata": {
        "id": "ZsNwiI10xx_l",
        "outputId": "cf04d4bc-d4bd-46cd-d356-b107199d077b"
      },
      "outputs": [
        {
          "data": {
            "text/html": [
              "<div>\n",
              "<style scoped>\n",
              "    .dataframe tbody tr th:only-of-type {\n",
              "        vertical-align: middle;\n",
              "    }\n",
              "\n",
              "    .dataframe tbody tr th {\n",
              "        vertical-align: top;\n",
              "    }\n",
              "\n",
              "    .dataframe thead th {\n",
              "        text-align: right;\n",
              "    }\n",
              "</style>\n",
              "<table border=\"1\" class=\"dataframe\">\n",
              "  <thead>\n",
              "    <tr style=\"text-align: right;\">\n",
              "      <th></th>\n",
              "      <th>Country Name</th>\n",
              "      <th>Country Code</th>\n",
              "      <th>Year</th>\n",
              "      <th>Value</th>\n",
              "    </tr>\n",
              "  </thead>\n",
              "  <tbody>\n",
              "    <tr>\n",
              "      <th>0</th>\n",
              "      <td>Arab World</td>\n",
              "      <td>ARB</td>\n",
              "      <td>1968</td>\n",
              "      <td>2.576068e+10</td>\n",
              "    </tr>\n",
              "    <tr>\n",
              "      <th>1</th>\n",
              "      <td>Arab World</td>\n",
              "      <td>ARB</td>\n",
              "      <td>1969</td>\n",
              "      <td>2.843420e+10</td>\n",
              "    </tr>\n",
              "    <tr>\n",
              "      <th>2</th>\n",
              "      <td>Arab World</td>\n",
              "      <td>ARB</td>\n",
              "      <td>1970</td>\n",
              "      <td>3.138550e+10</td>\n",
              "    </tr>\n",
              "    <tr>\n",
              "      <th>3</th>\n",
              "      <td>Arab World</td>\n",
              "      <td>ARB</td>\n",
              "      <td>1971</td>\n",
              "      <td>3.642691e+10</td>\n",
              "    </tr>\n",
              "    <tr>\n",
              "      <th>4</th>\n",
              "      <td>Arab World</td>\n",
              "      <td>ARB</td>\n",
              "      <td>1972</td>\n",
              "      <td>4.331606e+10</td>\n",
              "    </tr>\n",
              "  </tbody>\n",
              "</table>\n",
              "</div>"
            ],
            "text/plain": [
              "  Country Name Country Code  Year         Value\n",
              "0   Arab World          ARB  1968  2.576068e+10\n",
              "1   Arab World          ARB  1969  2.843420e+10\n",
              "2   Arab World          ARB  1970  3.138550e+10\n",
              "3   Arab World          ARB  1971  3.642691e+10\n",
              "4   Arab World          ARB  1972  4.331606e+10"
            ]
          },
          "execution_count": 4,
          "metadata": {},
          "output_type": "execute_result"
        }
      ],
      "source": [
        "csv_url = \"https://raw.githubusercontent.com/datasets/gdp/master/data/gdp.csv\"\n",
        "\n",
        "pd.read_csv(csv_url).head()"
      ]
    },
    {
      "cell_type": "markdown",
      "metadata": {
        "id": "M7LJTefQxx_l"
      },
      "source": [
        "Or just use a local file:"
      ]
    },
    {
      "cell_type": "code",
      "execution_count": null,
      "metadata": {
        "scrolled": true,
        "id": "IZSBPcxGxx_m",
        "outputId": "f56f7f93-9e22-442d-8093-6d6a203a10f2"
      },
      "outputs": [
        {
          "data": {
            "text/html": [
              "<div>\n",
              "<style scoped>\n",
              "    .dataframe tbody tr th:only-of-type {\n",
              "        vertical-align: middle;\n",
              "    }\n",
              "\n",
              "    .dataframe tbody tr th {\n",
              "        vertical-align: top;\n",
              "    }\n",
              "\n",
              "    .dataframe thead th {\n",
              "        text-align: right;\n",
              "    }\n",
              "</style>\n",
              "<table border=\"1\" class=\"dataframe\">\n",
              "  <thead>\n",
              "    <tr style=\"text-align: right;\">\n",
              "      <th></th>\n",
              "      <th>2/4/17 0:00</th>\n",
              "      <th>1099.169125</th>\n",
              "    </tr>\n",
              "  </thead>\n",
              "  <tbody>\n",
              "    <tr>\n",
              "      <th>0</th>\n",
              "      <td>3/4/17 0:00</td>\n",
              "      <td>1141.813</td>\n",
              "    </tr>\n",
              "    <tr>\n",
              "      <th>1</th>\n",
              "      <td>4/4/17 0:00</td>\n",
              "      <td>?</td>\n",
              "    </tr>\n",
              "    <tr>\n",
              "      <th>2</th>\n",
              "      <td>5/4/17 0:00</td>\n",
              "      <td>1133.079314</td>\n",
              "    </tr>\n",
              "    <tr>\n",
              "      <th>3</th>\n",
              "      <td>6/4/17 0:00</td>\n",
              "      <td>-</td>\n",
              "    </tr>\n",
              "    <tr>\n",
              "      <th>4</th>\n",
              "      <td>7/4/17 0:00</td>\n",
              "      <td>-</td>\n",
              "    </tr>\n",
              "  </tbody>\n",
              "</table>\n",
              "</div>"
            ],
            "text/plain": [
              "   2/4/17 0:00  1099.169125\n",
              "0  3/4/17 0:00     1141.813\n",
              "1  4/4/17 0:00            ?\n",
              "2  5/4/17 0:00  1133.079314\n",
              "3  6/4/17 0:00            -\n",
              "4  7/4/17 0:00            -"
            ]
          },
          "execution_count": 5,
          "metadata": {},
          "output_type": "execute_result"
        }
      ],
      "source": [
        "df = pd.read_csv('btc-market-price.csv')\n",
        "\n",
        "df.head()"
      ]
    },
    {
      "cell_type": "markdown",
      "metadata": {
        "id": "1PfR8sqMxx_m"
      },
      "source": [
        "In this case we let pandas infer everything related to our data, but in most of the cases we'll need to explicitly tell pandas how we want our data to be loaded. To do that we use parameters.\n",
        "\n",
        "Let's see how theses parameters work."
      ]
    },
    {
      "cell_type": "markdown",
      "metadata": {
        "id": "EwWCpbgVxx_m"
      },
      "source": [
        "![green-divider](https://user-images.githubusercontent.com/7065401/52071924-c003ad80-2562-11e9-8297-1c6595f8a7ff.png)\n",
        "\n",
        "## First row behaviour with `header` parameter\n",
        "\n",
        "The CSV file we're reading has only two columns: `Timestamp` and `Price`. It doesn't have a header. Pandas automatically assigned the first row of data as headers, which is incorrect. We can overwrite this behavior with the `header` parameter."
      ]
    },
    {
      "cell_type": "code",
      "execution_count": null,
      "metadata": {
        "id": "DNohe1_Xxx_n"
      },
      "outputs": [],
      "source": [
        "df = pd.read_csv('btc-market-price.csv',\n",
        "                 header=None)"
      ]
    },
    {
      "cell_type": "code",
      "execution_count": null,
      "metadata": {
        "id": "cjXo_YRBxx_n",
        "outputId": "bbea6e81-c7df-4701-ddc8-5b298ab1dcd2"
      },
      "outputs": [
        {
          "data": {
            "text/html": [
              "<div>\n",
              "<style scoped>\n",
              "    .dataframe tbody tr th:only-of-type {\n",
              "        vertical-align: middle;\n",
              "    }\n",
              "\n",
              "    .dataframe tbody tr th {\n",
              "        vertical-align: top;\n",
              "    }\n",
              "\n",
              "    .dataframe thead th {\n",
              "        text-align: right;\n",
              "    }\n",
              "</style>\n",
              "<table border=\"1\" class=\"dataframe\">\n",
              "  <thead>\n",
              "    <tr style=\"text-align: right;\">\n",
              "      <th></th>\n",
              "      <th>0</th>\n",
              "      <th>1</th>\n",
              "    </tr>\n",
              "  </thead>\n",
              "  <tbody>\n",
              "    <tr>\n",
              "      <th>0</th>\n",
              "      <td>2/4/17 0:00</td>\n",
              "      <td>1099.169125</td>\n",
              "    </tr>\n",
              "    <tr>\n",
              "      <th>1</th>\n",
              "      <td>3/4/17 0:00</td>\n",
              "      <td>1141.813</td>\n",
              "    </tr>\n",
              "    <tr>\n",
              "      <th>2</th>\n",
              "      <td>4/4/17 0:00</td>\n",
              "      <td>?</td>\n",
              "    </tr>\n",
              "    <tr>\n",
              "      <th>3</th>\n",
              "      <td>5/4/17 0:00</td>\n",
              "      <td>1133.079314</td>\n",
              "    </tr>\n",
              "    <tr>\n",
              "      <th>4</th>\n",
              "      <td>6/4/17 0:00</td>\n",
              "      <td>-</td>\n",
              "    </tr>\n",
              "  </tbody>\n",
              "</table>\n",
              "</div>"
            ],
            "text/plain": [
              "             0            1\n",
              "0  2/4/17 0:00  1099.169125\n",
              "1  3/4/17 0:00     1141.813\n",
              "2  4/4/17 0:00            ?\n",
              "3  5/4/17 0:00  1133.079314\n",
              "4  6/4/17 0:00            -"
            ]
          },
          "execution_count": 7,
          "metadata": {},
          "output_type": "execute_result"
        }
      ],
      "source": [
        "df.head()"
      ]
    },
    {
      "cell_type": "markdown",
      "metadata": {
        "id": "U8ZdbNqLxx_n"
      },
      "source": [
        "![green-divider](https://user-images.githubusercontent.com/7065401/52071924-c003ad80-2562-11e9-8297-1c6595f8a7ff.png)\n",
        "\n",
        "## Missing values with `na_values` parameter\n",
        "\n",
        "We can define a `na_values` parameter with the values we want to be recognized as NA/NaN. In this case empty strings `''`, `?` and `-` will be recognized as null values."
      ]
    },
    {
      "cell_type": "code",
      "execution_count": null,
      "metadata": {
        "id": "8mkunmIixx_o"
      },
      "outputs": [],
      "source": [
        "df = pd.read_csv('btc-market-price.csv',\n",
        "                 header=None,\n",
        "                 na_values=['', '?', '-'])"
      ]
    },
    {
      "cell_type": "code",
      "execution_count": null,
      "metadata": {
        "id": "uNuTUIjrxx_o",
        "outputId": "32117c13-5626-4f5b-fc6c-c1bcc3c45722"
      },
      "outputs": [
        {
          "data": {
            "text/html": [
              "<div>\n",
              "<style scoped>\n",
              "    .dataframe tbody tr th:only-of-type {\n",
              "        vertical-align: middle;\n",
              "    }\n",
              "\n",
              "    .dataframe tbody tr th {\n",
              "        vertical-align: top;\n",
              "    }\n",
              "\n",
              "    .dataframe thead th {\n",
              "        text-align: right;\n",
              "    }\n",
              "</style>\n",
              "<table border=\"1\" class=\"dataframe\">\n",
              "  <thead>\n",
              "    <tr style=\"text-align: right;\">\n",
              "      <th></th>\n",
              "      <th>0</th>\n",
              "      <th>1</th>\n",
              "    </tr>\n",
              "  </thead>\n",
              "  <tbody>\n",
              "    <tr>\n",
              "      <th>0</th>\n",
              "      <td>2/4/17 0:00</td>\n",
              "      <td>1099.169125</td>\n",
              "    </tr>\n",
              "    <tr>\n",
              "      <th>1</th>\n",
              "      <td>3/4/17 0:00</td>\n",
              "      <td>1141.813000</td>\n",
              "    </tr>\n",
              "    <tr>\n",
              "      <th>2</th>\n",
              "      <td>4/4/17 0:00</td>\n",
              "      <td>NaN</td>\n",
              "    </tr>\n",
              "    <tr>\n",
              "      <th>3</th>\n",
              "      <td>5/4/17 0:00</td>\n",
              "      <td>1133.079314</td>\n",
              "    </tr>\n",
              "    <tr>\n",
              "      <th>4</th>\n",
              "      <td>6/4/17 0:00</td>\n",
              "      <td>NaN</td>\n",
              "    </tr>\n",
              "  </tbody>\n",
              "</table>\n",
              "</div>"
            ],
            "text/plain": [
              "             0            1\n",
              "0  2/4/17 0:00  1099.169125\n",
              "1  3/4/17 0:00  1141.813000\n",
              "2  4/4/17 0:00          NaN\n",
              "3  5/4/17 0:00  1133.079314\n",
              "4  6/4/17 0:00          NaN"
            ]
          },
          "execution_count": 9,
          "metadata": {},
          "output_type": "execute_result"
        }
      ],
      "source": [
        "df.head()"
      ]
    },
    {
      "cell_type": "markdown",
      "metadata": {
        "id": "vmm_xvR0xx_p"
      },
      "source": [
        "![green-divider](https://user-images.githubusercontent.com/7065401/52071924-c003ad80-2562-11e9-8297-1c6595f8a7ff.png)\n",
        "\n",
        "## Column names using `names` parameter\n",
        "\n",
        "We'll add that columns names using the `names` parameter."
      ]
    },
    {
      "cell_type": "code",
      "execution_count": null,
      "metadata": {
        "id": "jy0p5LSvxx_p"
      },
      "outputs": [],
      "source": [
        "df = pd.read_csv('btc-market-price.csv',\n",
        "                 header=None,\n",
        "                 na_values=['', '?', '-'],\n",
        "                 names=['Timestamp', 'Price'])"
      ]
    },
    {
      "cell_type": "code",
      "execution_count": null,
      "metadata": {
        "scrolled": true,
        "id": "uVR9Kxbmxx_p",
        "outputId": "a47253cb-0390-43cd-c08e-2f5b510c98e5"
      },
      "outputs": [
        {
          "data": {
            "text/html": [
              "<div>\n",
              "<style scoped>\n",
              "    .dataframe tbody tr th:only-of-type {\n",
              "        vertical-align: middle;\n",
              "    }\n",
              "\n",
              "    .dataframe tbody tr th {\n",
              "        vertical-align: top;\n",
              "    }\n",
              "\n",
              "    .dataframe thead th {\n",
              "        text-align: right;\n",
              "    }\n",
              "</style>\n",
              "<table border=\"1\" class=\"dataframe\">\n",
              "  <thead>\n",
              "    <tr style=\"text-align: right;\">\n",
              "      <th></th>\n",
              "      <th>Timestamp</th>\n",
              "      <th>Price</th>\n",
              "    </tr>\n",
              "  </thead>\n",
              "  <tbody>\n",
              "    <tr>\n",
              "      <th>0</th>\n",
              "      <td>2/4/17 0:00</td>\n",
              "      <td>1099.169125</td>\n",
              "    </tr>\n",
              "    <tr>\n",
              "      <th>1</th>\n",
              "      <td>3/4/17 0:00</td>\n",
              "      <td>1141.813000</td>\n",
              "    </tr>\n",
              "    <tr>\n",
              "      <th>2</th>\n",
              "      <td>4/4/17 0:00</td>\n",
              "      <td>NaN</td>\n",
              "    </tr>\n",
              "    <tr>\n",
              "      <th>3</th>\n",
              "      <td>5/4/17 0:00</td>\n",
              "      <td>1133.079314</td>\n",
              "    </tr>\n",
              "    <tr>\n",
              "      <th>4</th>\n",
              "      <td>6/4/17 0:00</td>\n",
              "      <td>NaN</td>\n",
              "    </tr>\n",
              "  </tbody>\n",
              "</table>\n",
              "</div>"
            ],
            "text/plain": [
              "     Timestamp        Price\n",
              "0  2/4/17 0:00  1099.169125\n",
              "1  3/4/17 0:00  1141.813000\n",
              "2  4/4/17 0:00          NaN\n",
              "3  5/4/17 0:00  1133.079314\n",
              "4  6/4/17 0:00          NaN"
            ]
          },
          "execution_count": 11,
          "metadata": {},
          "output_type": "execute_result"
        }
      ],
      "source": [
        "df.head()"
      ]
    },
    {
      "cell_type": "markdown",
      "metadata": {
        "id": "A-FkKmNfxx_p"
      },
      "source": [
        "![green-divider](https://user-images.githubusercontent.com/7065401/52071924-c003ad80-2562-11e9-8297-1c6595f8a7ff.png)\n",
        "\n",
        "## Column types using `dtype` parameter\n",
        "\n",
        "\n",
        "Without using the `dtype` parameter pandas will try to figure it out the type of each column automatically. We can use `dtype` parameter to force pandas to use certain dtype.\n",
        "\n",
        "In this case we'll force the `Price` column to be `float`."
      ]
    },
    {
      "cell_type": "code",
      "execution_count": null,
      "metadata": {
        "id": "ZjUg_vyJxx_p"
      },
      "outputs": [],
      "source": [
        "df = pd.read_csv('btc-market-price.csv',\n",
        "                 header=None,\n",
        "                 na_values=['', '?', '-'],\n",
        "                 names=['Timestamp', 'Price'],\n",
        "                 dtype={'Price': 'float'})"
      ]
    },
    {
      "cell_type": "code",
      "execution_count": null,
      "metadata": {
        "id": "DXk0Eowhxx_q",
        "outputId": "af8925e8-54e3-4507-b005-049e95873f1b"
      },
      "outputs": [
        {
          "data": {
            "text/html": [
              "<div>\n",
              "<style scoped>\n",
              "    .dataframe tbody tr th:only-of-type {\n",
              "        vertical-align: middle;\n",
              "    }\n",
              "\n",
              "    .dataframe tbody tr th {\n",
              "        vertical-align: top;\n",
              "    }\n",
              "\n",
              "    .dataframe thead th {\n",
              "        text-align: right;\n",
              "    }\n",
              "</style>\n",
              "<table border=\"1\" class=\"dataframe\">\n",
              "  <thead>\n",
              "    <tr style=\"text-align: right;\">\n",
              "      <th></th>\n",
              "      <th>Timestamp</th>\n",
              "      <th>Price</th>\n",
              "    </tr>\n",
              "  </thead>\n",
              "  <tbody>\n",
              "    <tr>\n",
              "      <th>0</th>\n",
              "      <td>2/4/17 0:00</td>\n",
              "      <td>1099.169125</td>\n",
              "    </tr>\n",
              "    <tr>\n",
              "      <th>1</th>\n",
              "      <td>3/4/17 0:00</td>\n",
              "      <td>1141.813000</td>\n",
              "    </tr>\n",
              "    <tr>\n",
              "      <th>2</th>\n",
              "      <td>4/4/17 0:00</td>\n",
              "      <td>NaN</td>\n",
              "    </tr>\n",
              "    <tr>\n",
              "      <th>3</th>\n",
              "      <td>5/4/17 0:00</td>\n",
              "      <td>1133.079314</td>\n",
              "    </tr>\n",
              "    <tr>\n",
              "      <th>4</th>\n",
              "      <td>6/4/17 0:00</td>\n",
              "      <td>NaN</td>\n",
              "    </tr>\n",
              "  </tbody>\n",
              "</table>\n",
              "</div>"
            ],
            "text/plain": [
              "     Timestamp        Price\n",
              "0  2/4/17 0:00  1099.169125\n",
              "1  3/4/17 0:00  1141.813000\n",
              "2  4/4/17 0:00          NaN\n",
              "3  5/4/17 0:00  1133.079314\n",
              "4  6/4/17 0:00          NaN"
            ]
          },
          "execution_count": 13,
          "metadata": {},
          "output_type": "execute_result"
        }
      ],
      "source": [
        "df.head()"
      ]
    },
    {
      "cell_type": "code",
      "execution_count": null,
      "metadata": {
        "id": "3l7Ie6hvxx_q",
        "outputId": "32e8ef4b-38b5-4f57-e194-075e3a80801b"
      },
      "outputs": [
        {
          "data": {
            "text/plain": [
              "Timestamp     object\n",
              "Price        float64\n",
              "dtype: object"
            ]
          },
          "execution_count": 14,
          "metadata": {},
          "output_type": "execute_result"
        }
      ],
      "source": [
        "df.dtypes"
      ]
    },
    {
      "cell_type": "markdown",
      "metadata": {
        "id": "2-PPBuyLxx_q"
      },
      "source": [
        "The `Timestamp` column was interpreted as a regular string (`object` in pandas notation), we can parse it manually using a vectorized operation as we saw on previous courses.\n",
        "\n",
        "We'll parse `Timestamp` column to `Datetime` objects using `to_datetime` method:"
      ]
    },
    {
      "cell_type": "code",
      "execution_count": null,
      "metadata": {
        "id": "kTViu4foxx_q",
        "outputId": "ab00b59a-8166-41ab-f30a-ac4b4e6e9584"
      },
      "outputs": [
        {
          "data": {
            "text/plain": [
              "0   2017-02-04\n",
              "1   2017-03-04\n",
              "2   2017-04-04\n",
              "3   2017-05-04\n",
              "4   2017-06-04\n",
              "Name: Timestamp, dtype: datetime64[ns]"
            ]
          },
          "execution_count": 15,
          "metadata": {},
          "output_type": "execute_result"
        }
      ],
      "source": [
        "pd.to_datetime(df['Timestamp']).head()"
      ]
    },
    {
      "cell_type": "code",
      "execution_count": null,
      "metadata": {
        "id": "hsZpoLtSxx_r"
      },
      "outputs": [],
      "source": [
        "df['Timestamp'] = pd.to_datetime(df['Timestamp'])"
      ]
    },
    {
      "cell_type": "code",
      "execution_count": null,
      "metadata": {
        "id": "AmQNsJMCxx_r",
        "outputId": "888c92ef-b6e7-40d7-ed4a-088b145f3515"
      },
      "outputs": [
        {
          "data": {
            "text/html": [
              "<div>\n",
              "<style scoped>\n",
              "    .dataframe tbody tr th:only-of-type {\n",
              "        vertical-align: middle;\n",
              "    }\n",
              "\n",
              "    .dataframe tbody tr th {\n",
              "        vertical-align: top;\n",
              "    }\n",
              "\n",
              "    .dataframe thead th {\n",
              "        text-align: right;\n",
              "    }\n",
              "</style>\n",
              "<table border=\"1\" class=\"dataframe\">\n",
              "  <thead>\n",
              "    <tr style=\"text-align: right;\">\n",
              "      <th></th>\n",
              "      <th>Timestamp</th>\n",
              "      <th>Price</th>\n",
              "    </tr>\n",
              "  </thead>\n",
              "  <tbody>\n",
              "    <tr>\n",
              "      <th>0</th>\n",
              "      <td>2017-02-04</td>\n",
              "      <td>1099.169125</td>\n",
              "    </tr>\n",
              "    <tr>\n",
              "      <th>1</th>\n",
              "      <td>2017-03-04</td>\n",
              "      <td>1141.813000</td>\n",
              "    </tr>\n",
              "    <tr>\n",
              "      <th>2</th>\n",
              "      <td>2017-04-04</td>\n",
              "      <td>NaN</td>\n",
              "    </tr>\n",
              "    <tr>\n",
              "      <th>3</th>\n",
              "      <td>2017-05-04</td>\n",
              "      <td>1133.079314</td>\n",
              "    </tr>\n",
              "    <tr>\n",
              "      <th>4</th>\n",
              "      <td>2017-06-04</td>\n",
              "      <td>NaN</td>\n",
              "    </tr>\n",
              "  </tbody>\n",
              "</table>\n",
              "</div>"
            ],
            "text/plain": [
              "   Timestamp        Price\n",
              "0 2017-02-04  1099.169125\n",
              "1 2017-03-04  1141.813000\n",
              "2 2017-04-04          NaN\n",
              "3 2017-05-04  1133.079314\n",
              "4 2017-06-04          NaN"
            ]
          },
          "execution_count": 17,
          "metadata": {},
          "output_type": "execute_result"
        }
      ],
      "source": [
        "df.head()"
      ]
    },
    {
      "cell_type": "code",
      "execution_count": null,
      "metadata": {
        "id": "mcq7qTkXxx_r",
        "outputId": "a4a0e211-157d-4f02-86c3-9b56eb94b3ce"
      },
      "outputs": [
        {
          "data": {
            "text/plain": [
              "Timestamp    datetime64[ns]\n",
              "Price               float64\n",
              "dtype: object"
            ]
          },
          "execution_count": 18,
          "metadata": {},
          "output_type": "execute_result"
        }
      ],
      "source": [
        "df.dtypes"
      ]
    },
    {
      "cell_type": "markdown",
      "metadata": {
        "id": "x6QV4DZFxx_s"
      },
      "source": [
        "![green-divider](https://user-images.githubusercontent.com/7065401/52071924-c003ad80-2562-11e9-8297-1c6595f8a7ff.png)\n",
        "\n",
        "## Date parser using `parse_dates` parameter\n",
        "\n",
        "Another way of dealing with `Datetime` objects is using `parse_dates` parameter with the position of the columns with dates."
      ]
    },
    {
      "cell_type": "code",
      "execution_count": null,
      "metadata": {
        "scrolled": false,
        "id": "fv8wrOSNxx_t"
      },
      "outputs": [],
      "source": [
        "df = pd.read_csv('btc-market-price.csv',\n",
        "                 header=None,\n",
        "                 na_values=['', '?', '-'],\n",
        "                 names=['Timestamp', 'Price'],\n",
        "                 dtype={'Price': 'float'},\n",
        "                 parse_dates=[0])"
      ]
    },
    {
      "cell_type": "code",
      "execution_count": null,
      "metadata": {
        "id": "CE9V4sZixx_t",
        "outputId": "95c5db6b-79fd-4019-c623-7592981c6f25"
      },
      "outputs": [
        {
          "data": {
            "text/html": [
              "<div>\n",
              "<style scoped>\n",
              "    .dataframe tbody tr th:only-of-type {\n",
              "        vertical-align: middle;\n",
              "    }\n",
              "\n",
              "    .dataframe tbody tr th {\n",
              "        vertical-align: top;\n",
              "    }\n",
              "\n",
              "    .dataframe thead th {\n",
              "        text-align: right;\n",
              "    }\n",
              "</style>\n",
              "<table border=\"1\" class=\"dataframe\">\n",
              "  <thead>\n",
              "    <tr style=\"text-align: right;\">\n",
              "      <th></th>\n",
              "      <th>Timestamp</th>\n",
              "      <th>Price</th>\n",
              "    </tr>\n",
              "  </thead>\n",
              "  <tbody>\n",
              "    <tr>\n",
              "      <th>0</th>\n",
              "      <td>2017-02-04</td>\n",
              "      <td>1099.169125</td>\n",
              "    </tr>\n",
              "    <tr>\n",
              "      <th>1</th>\n",
              "      <td>2017-03-04</td>\n",
              "      <td>1141.813000</td>\n",
              "    </tr>\n",
              "    <tr>\n",
              "      <th>2</th>\n",
              "      <td>2017-04-04</td>\n",
              "      <td>NaN</td>\n",
              "    </tr>\n",
              "    <tr>\n",
              "      <th>3</th>\n",
              "      <td>2017-05-04</td>\n",
              "      <td>1133.079314</td>\n",
              "    </tr>\n",
              "    <tr>\n",
              "      <th>4</th>\n",
              "      <td>2017-06-04</td>\n",
              "      <td>NaN</td>\n",
              "    </tr>\n",
              "  </tbody>\n",
              "</table>\n",
              "</div>"
            ],
            "text/plain": [
              "   Timestamp        Price\n",
              "0 2017-02-04  1099.169125\n",
              "1 2017-03-04  1141.813000\n",
              "2 2017-04-04          NaN\n",
              "3 2017-05-04  1133.079314\n",
              "4 2017-06-04          NaN"
            ]
          },
          "execution_count": 20,
          "metadata": {},
          "output_type": "execute_result"
        }
      ],
      "source": [
        "df.head()"
      ]
    },
    {
      "cell_type": "code",
      "execution_count": null,
      "metadata": {
        "id": "DBtZzaq4xx_t",
        "outputId": "4df1dc32-98b0-44cf-899b-f5a13e78031b"
      },
      "outputs": [
        {
          "data": {
            "text/plain": [
              "Timestamp    datetime64[ns]\n",
              "Price               float64\n",
              "dtype: object"
            ]
          },
          "execution_count": 21,
          "metadata": {},
          "output_type": "execute_result"
        }
      ],
      "source": [
        "df.dtypes"
      ]
    },
    {
      "cell_type": "markdown",
      "metadata": {
        "id": "9bcIpOt5xx_u"
      },
      "source": [
        "![green-divider](https://user-images.githubusercontent.com/7065401/52071924-c003ad80-2562-11e9-8297-1c6595f8a7ff.png)\n",
        "\n",
        "## Adding index to our data using `index_col` parameter\n",
        "\n",
        "By default, pandas will automatically assign a numeric autoincremental index or row label starting with zero. You may want to leave the default index as such if your data doesn’t have a column with unique values that can serve as a better index. In case there is a column that you feel would serve as a better index, you can override the default behavior by setting `index_col` property to a column. It takes a numeric value representing the index or a string of the column name for setting a single column as index or a list of numeric values or strings for creating a multi-index.\n",
        "\n",
        "In our data, we are choosing the first column, `Timestamp`, as index (index=0) by passing zero to the `index_col` argument."
      ]
    },
    {
      "cell_type": "code",
      "execution_count": null,
      "metadata": {
        "id": "Rwh9xHAIxx_u"
      },
      "outputs": [],
      "source": [
        "df = pd.read_csv('btc-market-price.csv',\n",
        "                 header=None,\n",
        "                 na_values=['', '?', '-'],\n",
        "                 names=['Timestamp', 'Price'],\n",
        "                 dtype={'Price': 'float'},\n",
        "                 parse_dates=[0],\n",
        "                 index_col=[0])"
      ]
    },
    {
      "cell_type": "code",
      "execution_count": null,
      "metadata": {
        "id": "mN0cc22Gxx_v",
        "outputId": "ce4a2d1c-2cb8-42d7-ca7d-7e169baf7cce"
      },
      "outputs": [
        {
          "data": {
            "text/html": [
              "<div>\n",
              "<style scoped>\n",
              "    .dataframe tbody tr th:only-of-type {\n",
              "        vertical-align: middle;\n",
              "    }\n",
              "\n",
              "    .dataframe tbody tr th {\n",
              "        vertical-align: top;\n",
              "    }\n",
              "\n",
              "    .dataframe thead th {\n",
              "        text-align: right;\n",
              "    }\n",
              "</style>\n",
              "<table border=\"1\" class=\"dataframe\">\n",
              "  <thead>\n",
              "    <tr style=\"text-align: right;\">\n",
              "      <th></th>\n",
              "      <th>Price</th>\n",
              "    </tr>\n",
              "    <tr>\n",
              "      <th>Timestamp</th>\n",
              "      <th></th>\n",
              "    </tr>\n",
              "  </thead>\n",
              "  <tbody>\n",
              "    <tr>\n",
              "      <th>2017-02-04</th>\n",
              "      <td>1099.169125</td>\n",
              "    </tr>\n",
              "    <tr>\n",
              "      <th>2017-03-04</th>\n",
              "      <td>1141.813000</td>\n",
              "    </tr>\n",
              "    <tr>\n",
              "      <th>2017-04-04</th>\n",
              "      <td>NaN</td>\n",
              "    </tr>\n",
              "    <tr>\n",
              "      <th>2017-05-04</th>\n",
              "      <td>1133.079314</td>\n",
              "    </tr>\n",
              "    <tr>\n",
              "      <th>2017-06-04</th>\n",
              "      <td>NaN</td>\n",
              "    </tr>\n",
              "  </tbody>\n",
              "</table>\n",
              "</div>"
            ],
            "text/plain": [
              "                  Price\n",
              "Timestamp              \n",
              "2017-02-04  1099.169125\n",
              "2017-03-04  1141.813000\n",
              "2017-04-04          NaN\n",
              "2017-05-04  1133.079314\n",
              "2017-06-04          NaN"
            ]
          },
          "execution_count": 5,
          "metadata": {},
          "output_type": "execute_result"
        }
      ],
      "source": [
        "df.head()"
      ]
    },
    {
      "cell_type": "code",
      "execution_count": null,
      "metadata": {
        "id": "yr46gWpAxx_v",
        "outputId": "1b2f3518-94d5-4578-8103-e789a00abdd4"
      },
      "outputs": [
        {
          "data": {
            "text/plain": [
              "Price    float64\n",
              "dtype: object"
            ]
          },
          "execution_count": 24,
          "metadata": {},
          "output_type": "execute_result"
        }
      ],
      "source": [
        "df.dtypes"
      ]
    },
    {
      "cell_type": "markdown",
      "metadata": {
        "id": "B0Fuitzjxx_v"
      },
      "source": [
        "![green-divider](https://user-images.githubusercontent.com/7065401/52071924-c003ad80-2562-11e9-8297-1c6595f8a7ff.png)\n",
        "\n",
        "## A more challenging parsing\n",
        "\n",
        "Now we'll read another CSV file. This file has the following columns:\n",
        "\n",
        "- `first_name`\n",
        "- `last_name`\n",
        "- `age`\n",
        "- `math_score`\n",
        "- `french_score`\n",
        "- `next_test_date`\n",
        "\n",
        "Let's read it and see how it looks like."
      ]
    },
    {
      "cell_type": "code",
      "execution_count": null,
      "metadata": {
        "id": "jn5xIMiUxx_v"
      },
      "outputs": [],
      "source": [
        "exam_df = pd.read_csv('exam_review.csv')"
      ]
    },
    {
      "cell_type": "code",
      "execution_count": null,
      "metadata": {
        "scrolled": true,
        "id": "WHOQe73sxx_w",
        "outputId": "5bc7fa1a-359c-49d3-bae5-6d499c4e6cbe"
      },
      "outputs": [
        {
          "data": {
            "text/html": [
              "<div>\n",
              "<style scoped>\n",
              "    .dataframe tbody tr th:only-of-type {\n",
              "        vertical-align: middle;\n",
              "    }\n",
              "\n",
              "    .dataframe tbody tr th {\n",
              "        vertical-align: top;\n",
              "    }\n",
              "\n",
              "    .dataframe thead th {\n",
              "        text-align: right;\n",
              "    }\n",
              "</style>\n",
              "<table border=\"1\" class=\"dataframe\">\n",
              "  <thead>\n",
              "    <tr style=\"text-align: right;\">\n",
              "      <th></th>\n",
              "      <th></th>\n",
              "      <th>first_name&gt;last_name&gt;age&gt;math_score&gt;french_score</th>\n",
              "    </tr>\n",
              "  </thead>\n",
              "  <tbody>\n",
              "    <tr>\n",
              "      <th>Ray&gt;Morley&gt;18&gt;\"68</th>\n",
              "      <th>000\"&gt;\"75</th>\n",
              "      <td>000\"</td>\n",
              "    </tr>\n",
              "    <tr>\n",
              "      <th>Melvin&gt;Scott&gt;24&gt;77&gt;83</th>\n",
              "      <th>NaN</th>\n",
              "      <td>NaN</td>\n",
              "    </tr>\n",
              "    <tr>\n",
              "      <th>Amirah&gt;Haley&gt;22&gt;92&gt;67</th>\n",
              "      <th>NaN</th>\n",
              "      <td>NaN</td>\n",
              "    </tr>\n",
              "    <tr>\n",
              "      <th>Gerard&gt;Mills&gt;19&gt;\"78</th>\n",
              "      <th>000\"&gt;72</th>\n",
              "      <td>NaN</td>\n",
              "    </tr>\n",
              "    <tr>\n",
              "      <th>Amy&gt;Grimes&gt;23&gt;91&gt;81</th>\n",
              "      <th>NaN</th>\n",
              "      <td>NaN</td>\n",
              "    </tr>\n",
              "  </tbody>\n",
              "</table>\n",
              "</div>"
            ],
            "text/plain": [
              "                               first_name>last_name>age>math_score>french_score\n",
              "Ray>Morley>18>\"68     000\">\"75                                             000\"\n",
              "Melvin>Scott>24>77>83 NaN                                                   NaN\n",
              "Amirah>Haley>22>92>67 NaN                                                   NaN\n",
              "Gerard>Mills>19>\"78   000\">72                                               NaN\n",
              "Amy>Grimes>23>91>81   NaN                                                   NaN"
            ]
          },
          "execution_count": 7,
          "metadata": {},
          "output_type": "execute_result"
        }
      ],
      "source": [
        "exam_df"
      ]
    },
    {
      "cell_type": "markdown",
      "metadata": {
        "id": "Ennx0Awpxx_w"
      },
      "source": [
        "![green-divider](https://user-images.githubusercontent.com/7065401/52071924-c003ad80-2562-11e9-8297-1c6595f8a7ff.png)\n",
        "\n",
        "## Custom data delimiters using `sep` parameter\n",
        "\n",
        "We can define which delimiter to use by using the `sep` parameter. If we don't use the `sep` parameter, pandas will automatically detect the separator.\n",
        "\n",
        "In most of the CSV files separator will be comma (`,`) and will be automatically detected. But we can find files with other separators like semicolon (`;`), tabs (`\\t`, specially on TSV files), whitespaces or any other special character.\n",
        "\n",
        "In this case the separator is a `>` character."
      ]
    },
    {
      "cell_type": "code",
      "execution_count": null,
      "metadata": {
        "id": "UHV7VjuExx_w"
      },
      "outputs": [],
      "source": [
        "exam_df = pd.read_csv('exam_review.csv',\n",
        "                      sep='>')"
      ]
    },
    {
      "cell_type": "code",
      "execution_count": null,
      "metadata": {
        "scrolled": true,
        "id": "sM55IBl4xx_w",
        "outputId": "b8208eea-b0dd-46a1-ebbc-c48800aea50e"
      },
      "outputs": [
        {
          "data": {
            "text/html": [
              "<div>\n",
              "<style scoped>\n",
              "    .dataframe tbody tr th:only-of-type {\n",
              "        vertical-align: middle;\n",
              "    }\n",
              "\n",
              "    .dataframe tbody tr th {\n",
              "        vertical-align: top;\n",
              "    }\n",
              "\n",
              "    .dataframe thead th {\n",
              "        text-align: right;\n",
              "    }\n",
              "</style>\n",
              "<table border=\"1\" class=\"dataframe\">\n",
              "  <thead>\n",
              "    <tr style=\"text-align: right;\">\n",
              "      <th></th>\n",
              "      <th>first_name</th>\n",
              "      <th>last_name</th>\n",
              "      <th>age</th>\n",
              "      <th>math_score</th>\n",
              "      <th>french_score</th>\n",
              "    </tr>\n",
              "  </thead>\n",
              "  <tbody>\n",
              "    <tr>\n",
              "      <th>0</th>\n",
              "      <td>Ray</td>\n",
              "      <td>Morley</td>\n",
              "      <td>18</td>\n",
              "      <td>68,000</td>\n",
              "      <td>75,000</td>\n",
              "    </tr>\n",
              "    <tr>\n",
              "      <th>1</th>\n",
              "      <td>Melvin</td>\n",
              "      <td>Scott</td>\n",
              "      <td>24</td>\n",
              "      <td>77</td>\n",
              "      <td>83</td>\n",
              "    </tr>\n",
              "    <tr>\n",
              "      <th>2</th>\n",
              "      <td>Amirah</td>\n",
              "      <td>Haley</td>\n",
              "      <td>22</td>\n",
              "      <td>92</td>\n",
              "      <td>67</td>\n",
              "    </tr>\n",
              "    <tr>\n",
              "      <th>3</th>\n",
              "      <td>Gerard</td>\n",
              "      <td>Mills</td>\n",
              "      <td>19</td>\n",
              "      <td>78,000</td>\n",
              "      <td>72</td>\n",
              "    </tr>\n",
              "    <tr>\n",
              "      <th>4</th>\n",
              "      <td>Amy</td>\n",
              "      <td>Grimes</td>\n",
              "      <td>23</td>\n",
              "      <td>91</td>\n",
              "      <td>81</td>\n",
              "    </tr>\n",
              "  </tbody>\n",
              "</table>\n",
              "</div>"
            ],
            "text/plain": [
              "  first_name last_name  age math_score french_score\n",
              "0        Ray    Morley   18     68,000       75,000\n",
              "1     Melvin     Scott   24         77           83\n",
              "2     Amirah     Haley   22         92           67\n",
              "3     Gerard     Mills   19     78,000           72\n",
              "4        Amy    Grimes   23         91           81"
            ]
          },
          "execution_count": 9,
          "metadata": {},
          "output_type": "execute_result"
        }
      ],
      "source": [
        "exam_df"
      ]
    },
    {
      "cell_type": "markdown",
      "metadata": {
        "id": "TMjps0Pfxx_x"
      },
      "source": [
        "![green-divider](https://user-images.githubusercontent.com/7065401/52071924-c003ad80-2562-11e9-8297-1c6595f8a7ff.png)\n",
        "\n",
        "## Custom data encoding\n",
        "\n",
        "Files are stored using different \"encodings\". You've probably heard about ASCII, UTF-8, latin1, etc.\n",
        "\n",
        "While reading data custom encoding can be defined with the `encoding` parameter.\n",
        "\n",
        "- `encoding='UTF-8'`: will be used if data is UTF-8 encoded.\n",
        "- `encoding='iso-8859-1'`: will be used if data is ISO/IEC 8859-1 (\"extended ASCII\") encoded.\n",
        "\n",
        "In our case we don't need a custom enconding as data is properly loaded."
      ]
    },
    {
      "cell_type": "markdown",
      "metadata": {
        "id": "ar2wWHBmxx_x"
      },
      "source": [
        "![green-divider](https://user-images.githubusercontent.com/7065401/52071924-c003ad80-2562-11e9-8297-1c6595f8a7ff.png)\n",
        "\n",
        "## Custom numeric `decimal` and `thousands` character  \n",
        "\n",
        "The decimal and thousands characters could change between datasets. If we have a column containing a comma (`,`) to indicate the decimal or thousands place, then this column would be considered a string and not numeric."
      ]
    },
    {
      "cell_type": "code",
      "execution_count": null,
      "metadata": {
        "id": "-GfokMD0xx_x"
      },
      "outputs": [],
      "source": [
        "exam_df = pd.read_csv('exam_review.csv',\n",
        "                      sep='>')"
      ]
    },
    {
      "cell_type": "code",
      "execution_count": null,
      "metadata": {
        "id": "uSD1lwJLxx_x",
        "outputId": "c171f870-c3f0-41c4-cc96-7353a1991843"
      },
      "outputs": [
        {
          "data": {
            "text/html": [
              "<div>\n",
              "<style scoped>\n",
              "    .dataframe tbody tr th:only-of-type {\n",
              "        vertical-align: middle;\n",
              "    }\n",
              "\n",
              "    .dataframe tbody tr th {\n",
              "        vertical-align: top;\n",
              "    }\n",
              "\n",
              "    .dataframe thead th {\n",
              "        text-align: right;\n",
              "    }\n",
              "</style>\n",
              "<table border=\"1\" class=\"dataframe\">\n",
              "  <thead>\n",
              "    <tr style=\"text-align: right;\">\n",
              "      <th></th>\n",
              "      <th>first_name</th>\n",
              "      <th>last_name</th>\n",
              "      <th>age</th>\n",
              "      <th>math_score</th>\n",
              "      <th>french_score</th>\n",
              "    </tr>\n",
              "  </thead>\n",
              "  <tbody>\n",
              "    <tr>\n",
              "      <th>0</th>\n",
              "      <td>Ray</td>\n",
              "      <td>Morley</td>\n",
              "      <td>18</td>\n",
              "      <td>68,000</td>\n",
              "      <td>75,000</td>\n",
              "    </tr>\n",
              "    <tr>\n",
              "      <th>1</th>\n",
              "      <td>Melvin</td>\n",
              "      <td>Scott</td>\n",
              "      <td>24</td>\n",
              "      <td>77</td>\n",
              "      <td>83</td>\n",
              "    </tr>\n",
              "    <tr>\n",
              "      <th>2</th>\n",
              "      <td>Amirah</td>\n",
              "      <td>Haley</td>\n",
              "      <td>22</td>\n",
              "      <td>92</td>\n",
              "      <td>67</td>\n",
              "    </tr>\n",
              "    <tr>\n",
              "      <th>3</th>\n",
              "      <td>Gerard</td>\n",
              "      <td>Mills</td>\n",
              "      <td>19</td>\n",
              "      <td>78,000</td>\n",
              "      <td>72</td>\n",
              "    </tr>\n",
              "    <tr>\n",
              "      <th>4</th>\n",
              "      <td>Amy</td>\n",
              "      <td>Grimes</td>\n",
              "      <td>23</td>\n",
              "      <td>91</td>\n",
              "      <td>81</td>\n",
              "    </tr>\n",
              "  </tbody>\n",
              "</table>\n",
              "</div>"
            ],
            "text/plain": [
              "  first_name last_name  age math_score french_score\n",
              "0        Ray    Morley   18     68,000       75,000\n",
              "1     Melvin     Scott   24         77           83\n",
              "2     Amirah     Haley   22         92           67\n",
              "3     Gerard     Mills   19     78,000           72\n",
              "4        Amy    Grimes   23         91           81"
            ]
          },
          "execution_count": 13,
          "metadata": {},
          "output_type": "execute_result"
        }
      ],
      "source": [
        "exam_df"
      ]
    },
    {
      "cell_type": "code",
      "execution_count": null,
      "metadata": {
        "id": "0tU9rMtoxx_y",
        "outputId": "fb1c8f09-8c52-4b0c-8b49-9c9e9ae923c5"
      },
      "outputs": [
        {
          "data": {
            "text/plain": [
              "math_score      object\n",
              "french_score    object\n",
              "dtype: object"
            ]
          },
          "execution_count": 14,
          "metadata": {},
          "output_type": "execute_result"
        }
      ],
      "source": [
        "exam_df[['math_score', 'french_score']].dtypes"
      ]
    },
    {
      "cell_type": "markdown",
      "metadata": {
        "id": "W-2GhkMsxx_y"
      },
      "source": [
        "To solve that, ensuring such columns are interpreted as integer values, we'll need to use the `decimal` and/or `thousands` parameters to indicate correct decimal and/or thousands indicators."
      ]
    },
    {
      "cell_type": "code",
      "execution_count": null,
      "metadata": {
        "id": "xxcQSnUSxx_y"
      },
      "outputs": [],
      "source": [
        "exam_df = pd.read_csv('exam_review.csv',\n",
        "                      sep='>',\n",
        "                      decimal=',')"
      ]
    },
    {
      "cell_type": "code",
      "execution_count": null,
      "metadata": {
        "id": "oIFuY4s8xx_y",
        "outputId": "c90897c2-e77b-4899-d0c3-30f6460de466"
      },
      "outputs": [
        {
          "data": {
            "text/html": [
              "<div>\n",
              "<style scoped>\n",
              "    .dataframe tbody tr th:only-of-type {\n",
              "        vertical-align: middle;\n",
              "    }\n",
              "\n",
              "    .dataframe tbody tr th {\n",
              "        vertical-align: top;\n",
              "    }\n",
              "\n",
              "    .dataframe thead th {\n",
              "        text-align: right;\n",
              "    }\n",
              "</style>\n",
              "<table border=\"1\" class=\"dataframe\">\n",
              "  <thead>\n",
              "    <tr style=\"text-align: right;\">\n",
              "      <th></th>\n",
              "      <th>first_name</th>\n",
              "      <th>last_name</th>\n",
              "      <th>age</th>\n",
              "      <th>math_score</th>\n",
              "      <th>french_score</th>\n",
              "    </tr>\n",
              "  </thead>\n",
              "  <tbody>\n",
              "    <tr>\n",
              "      <th>0</th>\n",
              "      <td>Ray</td>\n",
              "      <td>Morley</td>\n",
              "      <td>18</td>\n",
              "      <td>68.0</td>\n",
              "      <td>75.0</td>\n",
              "    </tr>\n",
              "    <tr>\n",
              "      <th>1</th>\n",
              "      <td>Melvin</td>\n",
              "      <td>Scott</td>\n",
              "      <td>24</td>\n",
              "      <td>77.0</td>\n",
              "      <td>83.0</td>\n",
              "    </tr>\n",
              "    <tr>\n",
              "      <th>2</th>\n",
              "      <td>Amirah</td>\n",
              "      <td>Haley</td>\n",
              "      <td>22</td>\n",
              "      <td>92.0</td>\n",
              "      <td>67.0</td>\n",
              "    </tr>\n",
              "    <tr>\n",
              "      <th>3</th>\n",
              "      <td>Gerard</td>\n",
              "      <td>Mills</td>\n",
              "      <td>19</td>\n",
              "      <td>78.0</td>\n",
              "      <td>72.0</td>\n",
              "    </tr>\n",
              "    <tr>\n",
              "      <th>4</th>\n",
              "      <td>Amy</td>\n",
              "      <td>Grimes</td>\n",
              "      <td>23</td>\n",
              "      <td>91.0</td>\n",
              "      <td>81.0</td>\n",
              "    </tr>\n",
              "  </tbody>\n",
              "</table>\n",
              "</div>"
            ],
            "text/plain": [
              "  first_name last_name  age  math_score  french_score\n",
              "0        Ray    Morley   18        68.0          75.0\n",
              "1     Melvin     Scott   24        77.0          83.0\n",
              "2     Amirah     Haley   22        92.0          67.0\n",
              "3     Gerard     Mills   19        78.0          72.0\n",
              "4        Amy    Grimes   23        91.0          81.0"
            ]
          },
          "execution_count": 16,
          "metadata": {},
          "output_type": "execute_result"
        }
      ],
      "source": [
        "exam_df"
      ]
    },
    {
      "cell_type": "code",
      "execution_count": null,
      "metadata": {
        "id": "wI5NRufkxx_z",
        "outputId": "8e18f13b-4bee-40d7-f7bc-8c33c0d53e44"
      },
      "outputs": [
        {
          "data": {
            "text/plain": [
              "math_score      float64\n",
              "french_score    float64\n",
              "dtype: object"
            ]
          },
          "execution_count": 34,
          "metadata": {},
          "output_type": "execute_result"
        }
      ],
      "source": [
        "exam_df[['math_score', 'french_score']].dtypes"
      ]
    },
    {
      "cell_type": "markdown",
      "metadata": {
        "id": "Oz5HHm2Rxx_z"
      },
      "source": [
        "Let's see what happens with the `thousands` parameter:"
      ]
    },
    {
      "cell_type": "code",
      "execution_count": null,
      "metadata": {
        "id": "TRiNTFu2xx_z",
        "outputId": "e387bdec-fd7f-41c4-9ef9-8bcd0426b687"
      },
      "outputs": [
        {
          "data": {
            "text/html": [
              "<div>\n",
              "<style scoped>\n",
              "    .dataframe tbody tr th:only-of-type {\n",
              "        vertical-align: middle;\n",
              "    }\n",
              "\n",
              "    .dataframe tbody tr th {\n",
              "        vertical-align: top;\n",
              "    }\n",
              "\n",
              "    .dataframe thead th {\n",
              "        text-align: right;\n",
              "    }\n",
              "</style>\n",
              "<table border=\"1\" class=\"dataframe\">\n",
              "  <thead>\n",
              "    <tr style=\"text-align: right;\">\n",
              "      <th></th>\n",
              "      <th>first_name</th>\n",
              "      <th>last_name</th>\n",
              "      <th>age</th>\n",
              "      <th>math_score</th>\n",
              "      <th>french_score</th>\n",
              "    </tr>\n",
              "  </thead>\n",
              "  <tbody>\n",
              "    <tr>\n",
              "      <th>0</th>\n",
              "      <td>Ray</td>\n",
              "      <td>Morley</td>\n",
              "      <td>18</td>\n",
              "      <td>68000</td>\n",
              "      <td>75000</td>\n",
              "    </tr>\n",
              "    <tr>\n",
              "      <th>1</th>\n",
              "      <td>Melvin</td>\n",
              "      <td>Scott</td>\n",
              "      <td>24</td>\n",
              "      <td>77</td>\n",
              "      <td>83</td>\n",
              "    </tr>\n",
              "    <tr>\n",
              "      <th>2</th>\n",
              "      <td>Amirah</td>\n",
              "      <td>Haley</td>\n",
              "      <td>22</td>\n",
              "      <td>92</td>\n",
              "      <td>67</td>\n",
              "    </tr>\n",
              "    <tr>\n",
              "      <th>3</th>\n",
              "      <td>Gerard</td>\n",
              "      <td>Mills</td>\n",
              "      <td>19</td>\n",
              "      <td>78000</td>\n",
              "      <td>72</td>\n",
              "    </tr>\n",
              "    <tr>\n",
              "      <th>4</th>\n",
              "      <td>Amy</td>\n",
              "      <td>Grimes</td>\n",
              "      <td>23</td>\n",
              "      <td>91</td>\n",
              "      <td>81</td>\n",
              "    </tr>\n",
              "  </tbody>\n",
              "</table>\n",
              "</div>"
            ],
            "text/plain": [
              "  first_name last_name  age  math_score  french_score\n",
              "0        Ray    Morley   18       68000         75000\n",
              "1     Melvin     Scott   24          77            83\n",
              "2     Amirah     Haley   22          92            67\n",
              "3     Gerard     Mills   19       78000            72\n",
              "4        Amy    Grimes   23          91            81"
            ]
          },
          "execution_count": 35,
          "metadata": {},
          "output_type": "execute_result"
        }
      ],
      "source": [
        "pd.read_csv('exam_review.csv',\n",
        "            sep='>',\n",
        "            thousands=',')"
      ]
    },
    {
      "cell_type": "markdown",
      "metadata": {
        "id": "MXjJfzo7xx_0"
      },
      "source": [
        "![green-divider](https://user-images.githubusercontent.com/7065401/52071924-c003ad80-2562-11e9-8297-1c6595f8a7ff.png)\n",
        "\n",
        "## Excluding specific rows\n",
        "\n",
        "We can use the `skiprows` to:\n",
        "\n",
        "- Exclude reading specified number of rows from the beginning of a file, by passing an integer argument. **This removes the header too**.\n",
        "- Skip reading specific row indices from a file, by passing a list containing row indices to skip."
      ]
    },
    {
      "cell_type": "code",
      "execution_count": null,
      "metadata": {
        "id": "seksKwv1xx_0"
      },
      "outputs": [],
      "source": [
        "exam_df = pd.read_csv('exam_review.csv',\n",
        "                      sep='>',\n",
        "                      decimal=',')"
      ]
    },
    {
      "cell_type": "code",
      "execution_count": null,
      "metadata": {
        "id": "2jMmEDQsxx_0",
        "outputId": "169e8449-4363-420d-bc3f-b43d90f6842d"
      },
      "outputs": [
        {
          "data": {
            "text/html": [
              "<div>\n",
              "<style scoped>\n",
              "    .dataframe tbody tr th:only-of-type {\n",
              "        vertical-align: middle;\n",
              "    }\n",
              "\n",
              "    .dataframe tbody tr th {\n",
              "        vertical-align: top;\n",
              "    }\n",
              "\n",
              "    .dataframe thead th {\n",
              "        text-align: right;\n",
              "    }\n",
              "</style>\n",
              "<table border=\"1\" class=\"dataframe\">\n",
              "  <thead>\n",
              "    <tr style=\"text-align: right;\">\n",
              "      <th></th>\n",
              "      <th>first_name</th>\n",
              "      <th>last_name</th>\n",
              "      <th>age</th>\n",
              "      <th>math_score</th>\n",
              "      <th>french_score</th>\n",
              "    </tr>\n",
              "  </thead>\n",
              "  <tbody>\n",
              "    <tr>\n",
              "      <th>0</th>\n",
              "      <td>Ray</td>\n",
              "      <td>Morley</td>\n",
              "      <td>18</td>\n",
              "      <td>68.0</td>\n",
              "      <td>75.0</td>\n",
              "    </tr>\n",
              "    <tr>\n",
              "      <th>1</th>\n",
              "      <td>Melvin</td>\n",
              "      <td>Scott</td>\n",
              "      <td>24</td>\n",
              "      <td>77.0</td>\n",
              "      <td>83.0</td>\n",
              "    </tr>\n",
              "    <tr>\n",
              "      <th>2</th>\n",
              "      <td>Amirah</td>\n",
              "      <td>Haley</td>\n",
              "      <td>22</td>\n",
              "      <td>92.0</td>\n",
              "      <td>67.0</td>\n",
              "    </tr>\n",
              "    <tr>\n",
              "      <th>3</th>\n",
              "      <td>Gerard</td>\n",
              "      <td>Mills</td>\n",
              "      <td>19</td>\n",
              "      <td>78.0</td>\n",
              "      <td>72.0</td>\n",
              "    </tr>\n",
              "    <tr>\n",
              "      <th>4</th>\n",
              "      <td>Amy</td>\n",
              "      <td>Grimes</td>\n",
              "      <td>23</td>\n",
              "      <td>91.0</td>\n",
              "      <td>81.0</td>\n",
              "    </tr>\n",
              "  </tbody>\n",
              "</table>\n",
              "</div>"
            ],
            "text/plain": [
              "  first_name last_name  age  math_score  french_score\n",
              "0        Ray    Morley   18        68.0          75.0\n",
              "1     Melvin     Scott   24        77.0          83.0\n",
              "2     Amirah     Haley   22        92.0          67.0\n",
              "3     Gerard     Mills   19        78.0          72.0\n",
              "4        Amy    Grimes   23        91.0          81.0"
            ]
          },
          "execution_count": 18,
          "metadata": {},
          "output_type": "execute_result"
        }
      ],
      "source": [
        "exam_df"
      ]
    },
    {
      "cell_type": "markdown",
      "metadata": {
        "id": "MhmxAbwJxx_0"
      },
      "source": [
        "To skip reading the first 2 rows from this file, we can use `skiprows=2`:"
      ]
    },
    {
      "cell_type": "code",
      "execution_count": null,
      "metadata": {
        "id": "Ht050b-2xx_1",
        "outputId": "53428a36-79e3-4ccc-a691-e8cfdc4444f0"
      },
      "outputs": [
        {
          "data": {
            "text/html": [
              "<div>\n",
              "<style scoped>\n",
              "    .dataframe tbody tr th:only-of-type {\n",
              "        vertical-align: middle;\n",
              "    }\n",
              "\n",
              "    .dataframe tbody tr th {\n",
              "        vertical-align: top;\n",
              "    }\n",
              "\n",
              "    .dataframe thead th {\n",
              "        text-align: right;\n",
              "    }\n",
              "</style>\n",
              "<table border=\"1\" class=\"dataframe\">\n",
              "  <thead>\n",
              "    <tr style=\"text-align: right;\">\n",
              "      <th></th>\n",
              "      <th>Melvin</th>\n",
              "      <th>Scott</th>\n",
              "      <th>24</th>\n",
              "      <th>77</th>\n",
              "      <th>83</th>\n",
              "    </tr>\n",
              "  </thead>\n",
              "  <tbody>\n",
              "    <tr>\n",
              "      <th>0</th>\n",
              "      <td>Amirah</td>\n",
              "      <td>Haley</td>\n",
              "      <td>22</td>\n",
              "      <td>92</td>\n",
              "      <td>67</td>\n",
              "    </tr>\n",
              "    <tr>\n",
              "      <th>1</th>\n",
              "      <td>Gerard</td>\n",
              "      <td>Mills</td>\n",
              "      <td>19</td>\n",
              "      <td>78,000</td>\n",
              "      <td>72</td>\n",
              "    </tr>\n",
              "    <tr>\n",
              "      <th>2</th>\n",
              "      <td>Amy</td>\n",
              "      <td>Grimes</td>\n",
              "      <td>23</td>\n",
              "      <td>91</td>\n",
              "      <td>81</td>\n",
              "    </tr>\n",
              "  </tbody>\n",
              "</table>\n",
              "</div>"
            ],
            "text/plain": [
              "   Melvin   Scott  24      77  83\n",
              "0  Amirah   Haley  22      92  67\n",
              "1  Gerard   Mills  19  78,000  72\n",
              "2     Amy  Grimes  23      91  81"
            ]
          },
          "execution_count": 19,
          "metadata": {},
          "output_type": "execute_result"
        }
      ],
      "source": [
        "pd.read_csv('exam_review.csv',\n",
        "            sep='>',\n",
        "            skiprows=2)"
      ]
    },
    {
      "cell_type": "markdown",
      "metadata": {
        "id": "DVCtFTABxx_1"
      },
      "source": [
        "As the header is considered as the first row, to skip reading data rows 1 and 3, we can use `skiprows=[1,3]`:"
      ]
    },
    {
      "cell_type": "code",
      "execution_count": null,
      "metadata": {
        "id": "3IUAB0Pkxx_1"
      },
      "outputs": [],
      "source": [
        "exam_df = pd.read_csv('exam_review.csv',\n",
        "                      sep='>',\n",
        "                      decimal=',',\n",
        "                      skiprows=[1,3])"
      ]
    },
    {
      "cell_type": "code",
      "execution_count": null,
      "metadata": {
        "id": "CubTlN0dxx_1",
        "outputId": "584810cd-5550-4e67-8e2e-786cb93fc40e"
      },
      "outputs": [
        {
          "data": {
            "text/html": [
              "<div>\n",
              "<style scoped>\n",
              "    .dataframe tbody tr th:only-of-type {\n",
              "        vertical-align: middle;\n",
              "    }\n",
              "\n",
              "    .dataframe tbody tr th {\n",
              "        vertical-align: top;\n",
              "    }\n",
              "\n",
              "    .dataframe thead th {\n",
              "        text-align: right;\n",
              "    }\n",
              "</style>\n",
              "<table border=\"1\" class=\"dataframe\">\n",
              "  <thead>\n",
              "    <tr style=\"text-align: right;\">\n",
              "      <th></th>\n",
              "      <th>first_name</th>\n",
              "      <th>last_name</th>\n",
              "      <th>age</th>\n",
              "      <th>math_score</th>\n",
              "      <th>french_score</th>\n",
              "    </tr>\n",
              "  </thead>\n",
              "  <tbody>\n",
              "    <tr>\n",
              "      <th>0</th>\n",
              "      <td>Melvin</td>\n",
              "      <td>Scott</td>\n",
              "      <td>24</td>\n",
              "      <td>77.0</td>\n",
              "      <td>83</td>\n",
              "    </tr>\n",
              "    <tr>\n",
              "      <th>1</th>\n",
              "      <td>Gerard</td>\n",
              "      <td>Mills</td>\n",
              "      <td>19</td>\n",
              "      <td>78.0</td>\n",
              "      <td>72</td>\n",
              "    </tr>\n",
              "    <tr>\n",
              "      <th>2</th>\n",
              "      <td>Amy</td>\n",
              "      <td>Grimes</td>\n",
              "      <td>23</td>\n",
              "      <td>91.0</td>\n",
              "      <td>81</td>\n",
              "    </tr>\n",
              "  </tbody>\n",
              "</table>\n",
              "</div>"
            ],
            "text/plain": [
              "  first_name last_name  age  math_score  french_score\n",
              "0     Melvin     Scott   24        77.0            83\n",
              "1     Gerard     Mills   19        78.0            72\n",
              "2        Amy    Grimes   23        91.0            81"
            ]
          },
          "execution_count": 21,
          "metadata": {},
          "output_type": "execute_result"
        }
      ],
      "source": [
        "exam_df"
      ]
    },
    {
      "cell_type": "markdown",
      "metadata": {
        "id": "oTy5nY_Dxx_2"
      },
      "source": [
        "![green-divider](https://user-images.githubusercontent.com/7065401/52071924-c003ad80-2562-11e9-8297-1c6595f8a7ff.png)\n",
        "\n",
        "## Get rid of blank lines\n",
        "\n",
        "The `skip_blank_lines` parameter is set to `True` so blank lines are skipped while we read files.\n",
        "\n",
        "If we set this parameter to `False`, then every blank line will be loaded with `NaN` values into the `DataFrame`."
      ]
    },
    {
      "cell_type": "code",
      "execution_count": null,
      "metadata": {
        "id": "iNCZSkQoxx_2",
        "outputId": "6e761943-7bd0-4cc5-b660-6b7cc7d9a86a"
      },
      "outputs": [
        {
          "data": {
            "text/html": [
              "<div>\n",
              "<style scoped>\n",
              "    .dataframe tbody tr th:only-of-type {\n",
              "        vertical-align: middle;\n",
              "    }\n",
              "\n",
              "    .dataframe tbody tr th {\n",
              "        vertical-align: top;\n",
              "    }\n",
              "\n",
              "    .dataframe thead th {\n",
              "        text-align: right;\n",
              "    }\n",
              "</style>\n",
              "<table border=\"1\" class=\"dataframe\">\n",
              "  <thead>\n",
              "    <tr style=\"text-align: right;\">\n",
              "      <th></th>\n",
              "      <th>first_name</th>\n",
              "      <th>last_name</th>\n",
              "      <th>age</th>\n",
              "      <th>math_score</th>\n",
              "      <th>french_score</th>\n",
              "    </tr>\n",
              "  </thead>\n",
              "  <tbody>\n",
              "    <tr>\n",
              "      <th>0</th>\n",
              "      <td>Ray</td>\n",
              "      <td>Morley</td>\n",
              "      <td>18.0</td>\n",
              "      <td>68,000</td>\n",
              "      <td>75,000</td>\n",
              "    </tr>\n",
              "    <tr>\n",
              "      <th>1</th>\n",
              "      <td>Melvin</td>\n",
              "      <td>Scott</td>\n",
              "      <td>24.0</td>\n",
              "      <td>77</td>\n",
              "      <td>83</td>\n",
              "    </tr>\n",
              "    <tr>\n",
              "      <th>2</th>\n",
              "      <td>Amirah</td>\n",
              "      <td>Haley</td>\n",
              "      <td>22.0</td>\n",
              "      <td>92</td>\n",
              "      <td>67</td>\n",
              "    </tr>\n",
              "    <tr>\n",
              "      <th>3</th>\n",
              "      <td>NaN</td>\n",
              "      <td>NaN</td>\n",
              "      <td>NaN</td>\n",
              "      <td>NaN</td>\n",
              "      <td>NaN</td>\n",
              "    </tr>\n",
              "    <tr>\n",
              "      <th>4</th>\n",
              "      <td>Gerard</td>\n",
              "      <td>Mills</td>\n",
              "      <td>19.0</td>\n",
              "      <td>78,000</td>\n",
              "      <td>72</td>\n",
              "    </tr>\n",
              "    <tr>\n",
              "      <th>5</th>\n",
              "      <td>Amy</td>\n",
              "      <td>Grimes</td>\n",
              "      <td>23.0</td>\n",
              "      <td>91</td>\n",
              "      <td>81</td>\n",
              "    </tr>\n",
              "  </tbody>\n",
              "</table>\n",
              "</div>"
            ],
            "text/plain": [
              "  first_name last_name   age math_score french_score\n",
              "0        Ray    Morley  18.0     68,000       75,000\n",
              "1     Melvin     Scott  24.0         77           83\n",
              "2     Amirah     Haley  22.0         92           67\n",
              "3        NaN       NaN   NaN        NaN          NaN\n",
              "4     Gerard     Mills  19.0     78,000           72\n",
              "5        Amy    Grimes  23.0         91           81"
            ]
          },
          "execution_count": 22,
          "metadata": {},
          "output_type": "execute_result"
        }
      ],
      "source": [
        "pd.read_csv('exam_review.csv',\n",
        "            sep='>',\n",
        "            skip_blank_lines=False)"
      ]
    },
    {
      "cell_type": "markdown",
      "metadata": {
        "id": "hhqrAWLYxx_2"
      },
      "source": [
        "![green-divider](https://user-images.githubusercontent.com/7065401/52071924-c003ad80-2562-11e9-8297-1c6595f8a7ff.png)\n",
        "\n",
        "## Loading specific columns\n",
        "\n",
        "We can use the `usecols` parameter when we want to load just specific columns and not all of them.\n",
        "\n",
        "Performance wise, it is better because instead of loading an entire dataframe into memory and then deleting the not required columns, we can select the columns that we’ll need, while loading the dataset itself.\n",
        "\n",
        "As a parameter to `usecols`, you can pass either a list of strings corresponding to the column names or a list of integers corresponding to column index."
      ]
    },
    {
      "cell_type": "code",
      "execution_count": null,
      "metadata": {
        "id": "RHAIsoF4xx_2",
        "outputId": "6cb3f8ae-eba9-44fe-d092-1c89ff89e80f"
      },
      "outputs": [
        {
          "data": {
            "text/html": [
              "<div>\n",
              "<style scoped>\n",
              "    .dataframe tbody tr th:only-of-type {\n",
              "        vertical-align: middle;\n",
              "    }\n",
              "\n",
              "    .dataframe tbody tr th {\n",
              "        vertical-align: top;\n",
              "    }\n",
              "\n",
              "    .dataframe thead th {\n",
              "        text-align: right;\n",
              "    }\n",
              "</style>\n",
              "<table border=\"1\" class=\"dataframe\">\n",
              "  <thead>\n",
              "    <tr style=\"text-align: right;\">\n",
              "      <th></th>\n",
              "      <th>first_name</th>\n",
              "      <th>last_name</th>\n",
              "      <th>age</th>\n",
              "    </tr>\n",
              "  </thead>\n",
              "  <tbody>\n",
              "    <tr>\n",
              "      <th>0</th>\n",
              "      <td>Ray</td>\n",
              "      <td>Morley</td>\n",
              "      <td>18</td>\n",
              "    </tr>\n",
              "    <tr>\n",
              "      <th>1</th>\n",
              "      <td>Melvin</td>\n",
              "      <td>Scott</td>\n",
              "      <td>24</td>\n",
              "    </tr>\n",
              "    <tr>\n",
              "      <th>2</th>\n",
              "      <td>Amirah</td>\n",
              "      <td>Haley</td>\n",
              "      <td>22</td>\n",
              "    </tr>\n",
              "    <tr>\n",
              "      <th>3</th>\n",
              "      <td>Gerard</td>\n",
              "      <td>Mills</td>\n",
              "      <td>19</td>\n",
              "    </tr>\n",
              "    <tr>\n",
              "      <th>4</th>\n",
              "      <td>Amy</td>\n",
              "      <td>Grimes</td>\n",
              "      <td>23</td>\n",
              "    </tr>\n",
              "  </tbody>\n",
              "</table>\n",
              "</div>"
            ],
            "text/plain": [
              "  first_name last_name  age\n",
              "0        Ray    Morley   18\n",
              "1     Melvin     Scott   24\n",
              "2     Amirah     Haley   22\n",
              "3     Gerard     Mills   19\n",
              "4        Amy    Grimes   23"
            ]
          },
          "execution_count": 42,
          "metadata": {},
          "output_type": "execute_result"
        }
      ],
      "source": [
        "pd.read_csv('exam_review.csv',\n",
        "            usecols=['first_name', 'last_name', 'age'],\n",
        "            sep='>')"
      ]
    },
    {
      "cell_type": "markdown",
      "metadata": {
        "id": "z2_0_3uExx_3"
      },
      "source": [
        "Or using just the column position:"
      ]
    },
    {
      "cell_type": "code",
      "execution_count": null,
      "metadata": {
        "id": "sAqCLRYrxx_3",
        "outputId": "63031469-7500-4ec8-ca7d-05a6c95b2c3e"
      },
      "outputs": [
        {
          "data": {
            "text/html": [
              "<div>\n",
              "<style scoped>\n",
              "    .dataframe tbody tr th:only-of-type {\n",
              "        vertical-align: middle;\n",
              "    }\n",
              "\n",
              "    .dataframe tbody tr th {\n",
              "        vertical-align: top;\n",
              "    }\n",
              "\n",
              "    .dataframe thead th {\n",
              "        text-align: right;\n",
              "    }\n",
              "</style>\n",
              "<table border=\"1\" class=\"dataframe\">\n",
              "  <thead>\n",
              "    <tr style=\"text-align: right;\">\n",
              "      <th></th>\n",
              "      <th>first_name</th>\n",
              "      <th>last_name</th>\n",
              "      <th>age</th>\n",
              "    </tr>\n",
              "  </thead>\n",
              "  <tbody>\n",
              "    <tr>\n",
              "      <th>0</th>\n",
              "      <td>Ray</td>\n",
              "      <td>Morley</td>\n",
              "      <td>18</td>\n",
              "    </tr>\n",
              "    <tr>\n",
              "      <th>1</th>\n",
              "      <td>Melvin</td>\n",
              "      <td>Scott</td>\n",
              "      <td>24</td>\n",
              "    </tr>\n",
              "    <tr>\n",
              "      <th>2</th>\n",
              "      <td>Amirah</td>\n",
              "      <td>Haley</td>\n",
              "      <td>22</td>\n",
              "    </tr>\n",
              "    <tr>\n",
              "      <th>3</th>\n",
              "      <td>Gerard</td>\n",
              "      <td>Mills</td>\n",
              "      <td>19</td>\n",
              "    </tr>\n",
              "    <tr>\n",
              "      <th>4</th>\n",
              "      <td>Amy</td>\n",
              "      <td>Grimes</td>\n",
              "      <td>23</td>\n",
              "    </tr>\n",
              "  </tbody>\n",
              "</table>\n",
              "</div>"
            ],
            "text/plain": [
              "  first_name last_name  age\n",
              "0        Ray    Morley   18\n",
              "1     Melvin     Scott   24\n",
              "2     Amirah     Haley   22\n",
              "3     Gerard     Mills   19\n",
              "4        Amy    Grimes   23"
            ]
          },
          "execution_count": 43,
          "metadata": {},
          "output_type": "execute_result"
        }
      ],
      "source": [
        "pd.read_csv('exam_review.csv',\n",
        "            usecols=[0, 1, 2],\n",
        "            sep='>')"
      ]
    },
    {
      "cell_type": "markdown",
      "metadata": {
        "id": "MowIrG-oxx_3"
      },
      "source": [
        "![green-divider](https://user-images.githubusercontent.com/7065401/52071924-c003ad80-2562-11e9-8297-1c6595f8a7ff.png)\n",
        "\n",
        "## Using a `Series` instead of `DataFrame`\n",
        "\n",
        "If the parsed data only contains one column then we can return a Series by setting the `squeeze` parameter to `True`."
      ]
    },
    {
      "cell_type": "code",
      "execution_count": null,
      "metadata": {
        "id": "TNWzeyPsxx_4"
      },
      "outputs": [],
      "source": [
        "exam_test_1 = pd.read_csv('exam_review.csv',\n",
        "                          sep='>',\n",
        "                          usecols=['last_name'])"
      ]
    },
    {
      "cell_type": "code",
      "execution_count": null,
      "metadata": {
        "id": "8COvD4zvxx_4",
        "outputId": "0c54a33e-9b7b-41e4-99f7-f0d0bf08d923"
      },
      "outputs": [
        {
          "data": {
            "text/plain": [
              "pandas.core.frame.DataFrame"
            ]
          },
          "execution_count": 45,
          "metadata": {},
          "output_type": "execute_result"
        }
      ],
      "source": [
        "type(exam_test_1)"
      ]
    },
    {
      "cell_type": "code",
      "execution_count": null,
      "metadata": {
        "id": "Ol78tgCSxx_4"
      },
      "outputs": [],
      "source": [
        "exam_test_2 = pd.read_csv('exam_review.csv',\n",
        "                          sep='>',\n",
        "                          usecols=['last_name'],\n",
        "                          squeeze=True)"
      ]
    },
    {
      "cell_type": "code",
      "execution_count": null,
      "metadata": {
        "id": "HTjr1cEqxx_4",
        "outputId": "5d9f460d-08d8-4a91-ee5a-dca82e2db8ae"
      },
      "outputs": [
        {
          "data": {
            "text/plain": [
              "pandas.core.series.Series"
            ]
          },
          "execution_count": 47,
          "metadata": {},
          "output_type": "execute_result"
        }
      ],
      "source": [
        "type(exam_test_2)"
      ]
    },
    {
      "cell_type": "markdown",
      "metadata": {
        "id": "bOUNjiXyxx_5"
      },
      "source": [
        "![green-divider](https://user-images.githubusercontent.com/7065401/52071924-c003ad80-2562-11e9-8297-1c6595f8a7ff.png)\n",
        "\n",
        "## Save to CSV file\n",
        "\n",
        "Finally we can also save our `DataFrame` as a CSV file."
      ]
    },
    {
      "cell_type": "code",
      "execution_count": null,
      "metadata": {
        "id": "azOSgwJTxx_5",
        "outputId": "edfddded-49ac-4b29-c27d-4ed5802d1a3f"
      },
      "outputs": [
        {
          "data": {
            "text/html": [
              "<div>\n",
              "<style scoped>\n",
              "    .dataframe tbody tr th:only-of-type {\n",
              "        vertical-align: middle;\n",
              "    }\n",
              "\n",
              "    .dataframe tbody tr th {\n",
              "        vertical-align: top;\n",
              "    }\n",
              "\n",
              "    .dataframe thead th {\n",
              "        text-align: right;\n",
              "    }\n",
              "</style>\n",
              "<table border=\"1\" class=\"dataframe\">\n",
              "  <thead>\n",
              "    <tr style=\"text-align: right;\">\n",
              "      <th></th>\n",
              "      <th>first_name</th>\n",
              "      <th>last_name</th>\n",
              "      <th>age</th>\n",
              "      <th>math_score</th>\n",
              "      <th>french_score</th>\n",
              "    </tr>\n",
              "  </thead>\n",
              "  <tbody>\n",
              "    <tr>\n",
              "      <th>0</th>\n",
              "      <td>Melvin</td>\n",
              "      <td>Scott</td>\n",
              "      <td>24</td>\n",
              "      <td>77.0</td>\n",
              "      <td>83</td>\n",
              "    </tr>\n",
              "    <tr>\n",
              "      <th>1</th>\n",
              "      <td>Gerard</td>\n",
              "      <td>Mills</td>\n",
              "      <td>19</td>\n",
              "      <td>78.0</td>\n",
              "      <td>72</td>\n",
              "    </tr>\n",
              "    <tr>\n",
              "      <th>2</th>\n",
              "      <td>Amy</td>\n",
              "      <td>Grimes</td>\n",
              "      <td>23</td>\n",
              "      <td>91.0</td>\n",
              "      <td>81</td>\n",
              "    </tr>\n",
              "  </tbody>\n",
              "</table>\n",
              "</div>"
            ],
            "text/plain": [
              "  first_name last_name  age  math_score  french_score\n",
              "0     Melvin     Scott   24        77.0            83\n",
              "1     Gerard     Mills   19        78.0            72\n",
              "2        Amy    Grimes   23        91.0            81"
            ]
          },
          "execution_count": 48,
          "metadata": {},
          "output_type": "execute_result"
        }
      ],
      "source": [
        "exam_df"
      ]
    },
    {
      "cell_type": "markdown",
      "metadata": {
        "id": "6cYEbOc8xx_5"
      },
      "source": [
        "We can simply generate a CSV string from our `DataFrame`:"
      ]
    },
    {
      "cell_type": "code",
      "execution_count": null,
      "metadata": {
        "id": "s2gFWwk7xx_5",
        "outputId": "e132222c-fc0b-4cf8-d40a-5692d180d44b"
      },
      "outputs": [
        {
          "data": {
            "text/plain": [
              "',first_name,last_name,age,math_score,french_score\\n0,Melvin,Scott,24,77.0,83\\n1,Gerard,Mills,19,78.0,72\\n2,Amy,Grimes,23,91.0,81\\n'"
            ]
          },
          "execution_count": 49,
          "metadata": {},
          "output_type": "execute_result"
        }
      ],
      "source": [
        "exam_df.to_csv()"
      ]
    },
    {
      "cell_type": "markdown",
      "metadata": {
        "id": "3UtbvIRzxx_6"
      },
      "source": [
        "Or specify a file path where we want our generated CSV code to be saved:"
      ]
    },
    {
      "cell_type": "code",
      "execution_count": null,
      "metadata": {
        "id": "xeJIWJPKxx_6"
      },
      "outputs": [],
      "source": [
        "exam_df.to_csv('out.csv')"
      ]
    },
    {
      "cell_type": "code",
      "execution_count": null,
      "metadata": {
        "id": "g0s717BJxx_6",
        "outputId": "ba3aa6c7-a945-4788-9f03-2fcd3d9416a5"
      },
      "outputs": [
        {
          "data": {
            "text/html": [
              "<div>\n",
              "<style scoped>\n",
              "    .dataframe tbody tr th:only-of-type {\n",
              "        vertical-align: middle;\n",
              "    }\n",
              "\n",
              "    .dataframe tbody tr th {\n",
              "        vertical-align: top;\n",
              "    }\n",
              "\n",
              "    .dataframe thead th {\n",
              "        text-align: right;\n",
              "    }\n",
              "</style>\n",
              "<table border=\"1\" class=\"dataframe\">\n",
              "  <thead>\n",
              "    <tr style=\"text-align: right;\">\n",
              "      <th></th>\n",
              "      <th>Unnamed: 0</th>\n",
              "      <th>first_name</th>\n",
              "      <th>last_name</th>\n",
              "      <th>age</th>\n",
              "      <th>math_score</th>\n",
              "      <th>french_score</th>\n",
              "    </tr>\n",
              "  </thead>\n",
              "  <tbody>\n",
              "    <tr>\n",
              "      <th>0</th>\n",
              "      <td>0</td>\n",
              "      <td>Melvin</td>\n",
              "      <td>Scott</td>\n",
              "      <td>24</td>\n",
              "      <td>77.0</td>\n",
              "      <td>83</td>\n",
              "    </tr>\n",
              "    <tr>\n",
              "      <th>1</th>\n",
              "      <td>1</td>\n",
              "      <td>Gerard</td>\n",
              "      <td>Mills</td>\n",
              "      <td>19</td>\n",
              "      <td>78.0</td>\n",
              "      <td>72</td>\n",
              "    </tr>\n",
              "    <tr>\n",
              "      <th>2</th>\n",
              "      <td>2</td>\n",
              "      <td>Amy</td>\n",
              "      <td>Grimes</td>\n",
              "      <td>23</td>\n",
              "      <td>91.0</td>\n",
              "      <td>81</td>\n",
              "    </tr>\n",
              "  </tbody>\n",
              "</table>\n",
              "</div>"
            ],
            "text/plain": [
              "   Unnamed: 0 first_name last_name  age  math_score  french_score\n",
              "0           0     Melvin     Scott   24        77.0            83\n",
              "1           1     Gerard     Mills   19        78.0            72\n",
              "2           2        Amy    Grimes   23        91.0            81"
            ]
          },
          "execution_count": 51,
          "metadata": {},
          "output_type": "execute_result"
        }
      ],
      "source": [
        "pd.read_csv('out.csv')"
      ]
    },
    {
      "cell_type": "code",
      "execution_count": null,
      "metadata": {
        "id": "nh_KI12fxx_6"
      },
      "outputs": [],
      "source": [
        "exam_df.to_csv('out.csv',\n",
        "               index=None)"
      ]
    },
    {
      "cell_type": "code",
      "execution_count": null,
      "metadata": {
        "scrolled": true,
        "id": "URZV6ahpxx_7",
        "outputId": "0bda6279-d65b-4de3-f88e-e278791a08c3"
      },
      "outputs": [
        {
          "data": {
            "text/html": [
              "<div>\n",
              "<style scoped>\n",
              "    .dataframe tbody tr th:only-of-type {\n",
              "        vertical-align: middle;\n",
              "    }\n",
              "\n",
              "    .dataframe tbody tr th {\n",
              "        vertical-align: top;\n",
              "    }\n",
              "\n",
              "    .dataframe thead th {\n",
              "        text-align: right;\n",
              "    }\n",
              "</style>\n",
              "<table border=\"1\" class=\"dataframe\">\n",
              "  <thead>\n",
              "    <tr style=\"text-align: right;\">\n",
              "      <th></th>\n",
              "      <th>first_name</th>\n",
              "      <th>last_name</th>\n",
              "      <th>age</th>\n",
              "      <th>math_score</th>\n",
              "      <th>french_score</th>\n",
              "    </tr>\n",
              "  </thead>\n",
              "  <tbody>\n",
              "    <tr>\n",
              "      <th>0</th>\n",
              "      <td>Melvin</td>\n",
              "      <td>Scott</td>\n",
              "      <td>24</td>\n",
              "      <td>77.0</td>\n",
              "      <td>83</td>\n",
              "    </tr>\n",
              "    <tr>\n",
              "      <th>1</th>\n",
              "      <td>Gerard</td>\n",
              "      <td>Mills</td>\n",
              "      <td>19</td>\n",
              "      <td>78.0</td>\n",
              "      <td>72</td>\n",
              "    </tr>\n",
              "    <tr>\n",
              "      <th>2</th>\n",
              "      <td>Amy</td>\n",
              "      <td>Grimes</td>\n",
              "      <td>23</td>\n",
              "      <td>91.0</td>\n",
              "      <td>81</td>\n",
              "    </tr>\n",
              "  </tbody>\n",
              "</table>\n",
              "</div>"
            ],
            "text/plain": [
              "  first_name last_name  age  math_score  french_score\n",
              "0     Melvin     Scott   24        77.0            83\n",
              "1     Gerard     Mills   19        78.0            72\n",
              "2        Amy    Grimes   23        91.0            81"
            ]
          },
          "execution_count": 53,
          "metadata": {},
          "output_type": "execute_result"
        }
      ],
      "source": [
        "pd.read_csv('out.csv')"
      ]
    },
    {
      "cell_type": "markdown",
      "metadata": {
        "id": "jXRAw8jsxx_7"
      },
      "source": [
        "![purple-divider](https://user-images.githubusercontent.com/7065401/52071927-c1cd7100-2562-11e9-908a-dde91ba14e59.png)"
      ]
    }
  ],
  "metadata": {
    "kernelspec": {
      "display_name": "Python 3",
      "language": "python",
      "name": "python3"
    },
    "language_info": {
      "codemirror_mode": {
        "name": "ipython",
        "version": 3
      },
      "file_extension": ".py",
      "mimetype": "text/x-python",
      "name": "python",
      "nbconvert_exporter": "python",
      "pygments_lexer": "ipython3",
      "version": "3.6.8"
    },
    "colab": {
      "provenance": []
    }
  },
  "nbformat": 4,
  "nbformat_minor": 0
}