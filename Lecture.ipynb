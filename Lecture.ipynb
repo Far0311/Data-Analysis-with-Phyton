{
  "cells": [
    {
      "cell_type": "markdown",
      "metadata": {
        "id": "cGQAi_cD4d2F"
      },
      "source": [
        "![rmotr](https://user-images.githubusercontent.com/7065401/52071918-bda15380-2562-11e9-828c-7f95297e4a82.png)\n",
        "<hr style=\"margin-bottom: 40px;\">\n",
        "\n",
        "<img src=\"https://user-images.githubusercontent.com/7065401/55025843-7d99a280-4fe0-11e9-938a-4879d95c4130.png\"\n",
        "    style=\"width:150px; float: right; margin: 0 40px 40px 40px;\"></img>\n",
        "\n",
        "# Python in under 10 minutes\n",
        "\n",
        "Ok, so this will techincally take us more than 10 minutes, but you get the idea: this is a very high level overview of the Python programming language. Specially for those of you that already know some other programming language (R, Javascript, Ruby, etc) and want to do the switch to Python.\n",
        "\n",
        "![purple-divider](https://user-images.githubusercontent.com/7065401/52071927-c1cd7100-2562-11e9-908a-dde91ba14e59.png)"
      ]
    },
    {
      "cell_type": "markdown",
      "metadata": {
        "id": "Hio80nwo4d2L"
      },
      "source": [
        "### The high level\n",
        "\n",
        "[Python](https://en.wikipedia.org/wiki/Python_%28programming_language%29) is a interpreted, high level programming language created by Dutch programmer [Guido van Rossum](https://en.wikipedia.org/wiki/Guido_van_Rossum) and released in 1991.\n",
        "\n",
        "As I always say, Python *is old*. It gained a lot of traction around 2006, with its popularity being driven its beauty and simplicity to do Web Development (its main Web Development Framework, [Django](https://www.djangoproject.com/), was released in 2006). From there, it took off as one of the most popular scripting languages.\n",
        "\n",
        "Python is multi-paradigm: you can write code using Object Oriented, Functional and/or Imperative programming. Python is interpreted and uses a dynamic type system, although considered _strongly typed_.\n",
        "\n",
        "It has an extensive builtin standard library with features that ranges from time management, to http servers, concurrency and async programming.\n",
        "\n",
        "Python is Open Source and is managed by a non-profit organization: the [Python Software Foundation](https://en.wikipedia.org/wiki/Python_Software_Foundation).\n",
        "\n",
        "![green-divider](https://user-images.githubusercontent.com/7065401/52071924-c003ad80-2562-11e9-8297-1c6595f8a7ff.png)\n",
        "\n",
        "## Python 3 vs Python 2\n",
        "\n",
        "You might have heard that there are two main versions of Python around: _Python 2_ and _Python 3_. Well, I'll keep it simple for you:\n",
        "\n",
        "### 👍 Python 3: YES!\n",
        "### 🙅 Python 2: NO!\n",
        "\n",
        "Python 2 [will be deprecated in 2020](https://pythonclock.org/). So **stick to Python 3**, it's the present and the future of the language (at least until we start planning Python 4 😅, just kidding).\n",
        "\n",
        "## A quick note about different \"implementations\"\n",
        "\n",
        "Finally, all what I'm saying here technically applies to \"CPython\", Python's main _implementation_. Don't worry if this doesn't make sense. It's just for the curious ones. If you're interested, we've written an entire post about it: [A quick guide about Python implementations](https://blog.rmotr.com/a-quick-guide-about-python-implementations-aa224109f321).\n",
        "\n",
        "![green-divider](https://user-images.githubusercontent.com/7065401/52071924-c003ad80-2562-11e9-8297-1c6595f8a7ff.png)\n",
        "\n",
        "# Syntax Overview\n",
        "\n",
        "The following paragraphs will be dedicated to Python's syntax and technical details. There are more to Python than just syntax, as its community, events, email lists, etc. But after all, this is just a technical introduction.\n",
        "\n",
        "### Indentation based\n",
        "\n",
        "This might feel weird at first, but in Python we do NOT use curly braces to denote blocks of code. We use _\"indentation\"_ instead. This is similar to Ruby. For example, this is a very simple `add_numbers` function in javascript:\n",
        "\n",
        "```javascript\n",
        "function add_numbers(x, y){\n",
        "    return x + y\n",
        "}\n",
        "```\n",
        "\n",
        "In Python, we'd write it in this way:"
      ]
    },
    {
      "cell_type": "code",
      "execution_count": null,
      "metadata": {
        "id": "3FuQEwtm4d2N"
      },
      "outputs": [],
      "source": [
        "def add_numbers(x, y):\n",
        "    return x + y"
      ]
    },
    {
      "cell_type": "markdown",
      "metadata": {
        "id": "pxO3ASVv4d2P"
      },
      "source": [
        "An `if-else` block in Javascript:\n",
        "\n",
        "```javascript\n",
        "let language = \"Python\"\n",
        "\n",
        "if (language === \"Python\"){\n",
        "    console.log(\"Let the fun begin\");\n",
        "} else {\n",
        "    console.log(\"You sure?\");\n",
        "}\n",
        "```\n",
        "\n",
        "In Python:"
      ]
    },
    {
      "cell_type": "code",
      "execution_count": null,
      "metadata": {
        "id": "gGqeElqC4d2Q"
      },
      "outputs": [],
      "source": [
        "# try changing \"Python\" to something else.\n",
        "# Don't remove the quotes.\n",
        "language = \"Python\"\n",
        "\n",
        "if language == \"Python\":\n",
        "    print(\"Let the fun begin!\")\n",
        "else:\n",
        "    print(\"You sure?\")"
      ]
    },
    {
      "cell_type": "markdown",
      "metadata": {
        "id": "N_QpFOMT4d2R"
      },
      "source": [
        "![green-divider](https://user-images.githubusercontent.com/7065401/52071924-c003ad80-2562-11e9-8297-1c6595f8a7ff.png)\n",
        "\n",
        "### Comments\n",
        "\n",
        "You've seen comments in the previous block of code: they're prefixed with a pound/hashtag sign:"
      ]
    },
    {
      "cell_type": "code",
      "execution_count": null,
      "metadata": {
        "id": "Z7Xqejm74d2S"
      },
      "outputs": [],
      "source": [
        "# this is a comment"
      ]
    },
    {
      "cell_type": "code",
      "execution_count": null,
      "metadata": {
        "id": "ESPAWSDo4d2T"
      },
      "outputs": [],
      "source": [
        "# it doesn't produce any output"
      ]
    },
    {
      "cell_type": "code",
      "execution_count": null,
      "metadata": {
        "id": "abyYbWZY4d2U"
      },
      "outputs": [],
      "source": [
        "# can be above...\n",
        "print(\"Hello World\")  # next to...\n",
        "# or below your code"
      ]
    },
    {
      "cell_type": "markdown",
      "metadata": {
        "id": "IwnUkTJa4d2U"
      },
      "source": [
        "![green-divider](https://user-images.githubusercontent.com/7065401/52071924-c003ad80-2562-11e9-8297-1c6595f8a7ff.png)\n",
        "\n",
        "### Variables\n",
        "\n",
        "We've defined a variable `language` in one of our previous examples. In Python, you can set a variable at any time, in any block of code, by just assigning a valid name to any value you want:"
      ]
    },
    {
      "cell_type": "code",
      "execution_count": null,
      "metadata": {
        "id": "EaIA9sO64d2V"
      },
      "outputs": [],
      "source": [
        "name = \"Mary\"\n",
        "print(name)"
      ]
    },
    {
      "cell_type": "code",
      "execution_count": null,
      "metadata": {
        "id": "tErXBwOs4d2V"
      },
      "outputs": [],
      "source": [
        "age = 30\n",
        "print(age)"
      ]
    },
    {
      "cell_type": "markdown",
      "metadata": {
        "id": "-cz0_L0l4d2V"
      },
      "source": [
        "Variables, once set, will be preserved:"
      ]
    },
    {
      "cell_type": "code",
      "execution_count": null,
      "metadata": {
        "id": "GUM9ugs84d2W"
      },
      "outputs": [],
      "source": [
        "print(name, \"is\", age, \"years old\")"
      ]
    },
    {
      "cell_type": "markdown",
      "metadata": {
        "id": "kzyIEc4y4d2W"
      },
      "source": [
        "![green-divider](https://user-images.githubusercontent.com/7065401/52071924-c003ad80-2562-11e9-8297-1c6595f8a7ff.png)\n",
        "\n",
        "### Data Types\n",
        "\n",
        "Python supports the most common data types, the usual suspects we could say:\n",
        "\n",
        "#### Integers, type `int`:\n",
        "\n",
        "Integers have unlimited magnitude."
      ]
    },
    {
      "cell_type": "code",
      "execution_count": null,
      "metadata": {
        "id": "nWGsmv2y4d2W"
      },
      "outputs": [],
      "source": [
        "# an int\n",
        "age = 30"
      ]
    },
    {
      "cell_type": "code",
      "execution_count": null,
      "metadata": {
        "id": "Rcb6BM064d2W"
      },
      "outputs": [],
      "source": [
        "age"
      ]
    },
    {
      "cell_type": "code",
      "execution_count": null,
      "metadata": {
        "id": "BKd1AsBK4d2X"
      },
      "outputs": [],
      "source": [
        "type(age)"
      ]
    },
    {
      "cell_type": "markdown",
      "metadata": {
        "id": "2oIPxTV94d2X"
      },
      "source": [
        "#### Floats, type `float`:\n",
        "\n",
        "The standard floating point number"
      ]
    },
    {
      "cell_type": "code",
      "execution_count": null,
      "metadata": {
        "id": "4uMuaYl-4d2X"
      },
      "outputs": [],
      "source": [
        "# a float\n",
        "price = 2.50"
      ]
    },
    {
      "cell_type": "code",
      "execution_count": null,
      "metadata": {
        "id": "2vOmR0AA4d2X"
      },
      "outputs": [],
      "source": [
        "price"
      ]
    },
    {
      "cell_type": "code",
      "execution_count": null,
      "metadata": {
        "id": "wVgYRDml4d2Y"
      },
      "outputs": [],
      "source": [
        "type(price)"
      ]
    },
    {
      "cell_type": "markdown",
      "metadata": {
        "id": "VLHRrRXq4d2Y"
      },
      "source": [
        "Remember that floats sometimes exhibit \"extraneous\" behavior:"
      ]
    },
    {
      "cell_type": "code",
      "execution_count": null,
      "metadata": {
        "id": "2SbKRLXZ4d2Y"
      },
      "outputs": [],
      "source": [
        "0.1 * 3"
      ]
    },
    {
      "cell_type": "markdown",
      "metadata": {
        "id": "z7gQ_grf4d2Y"
      },
      "source": [
        "If you need decimal fixed point precision, you can use the [`decimal`](https://docs.python.org/3/library/decimal.html#module-decimal) module:"
      ]
    },
    {
      "cell_type": "code",
      "execution_count": null,
      "metadata": {
        "id": "Uykr3CLc4d2Y"
      },
      "outputs": [],
      "source": [
        "from decimal import Decimal"
      ]
    },
    {
      "cell_type": "code",
      "execution_count": null,
      "metadata": {
        "id": "dFA6BTvR4d2Y"
      },
      "outputs": [],
      "source": [
        "Decimal('0.1') * 3"
      ]
    },
    {
      "cell_type": "markdown",
      "metadata": {
        "id": "4OswsU-M4d2Z"
      },
      "source": [
        "#### Strings, type `str`\n",
        "\n",
        "Strings are used to store text. Technically, they're _\"immutable sequences of Unicode code points\"_. Which means that Python supports Unicode:"
      ]
    },
    {
      "cell_type": "code",
      "execution_count": null,
      "metadata": {
        "id": "bQD_yRSh4d2Z"
      },
      "outputs": [],
      "source": [
        "# Create them with double quotes:\n",
        "print(\"Hello unicode 👋\")"
      ]
    },
    {
      "cell_type": "code",
      "execution_count": null,
      "metadata": {
        "id": "ct2pxh9d4d2Z"
      },
      "outputs": [],
      "source": [
        "# single quotes:\n",
        "print('Omelette Du Fromage 🧀')"
      ]
    },
    {
      "cell_type": "code",
      "execution_count": null,
      "metadata": {
        "id": "Xj3hZsir4d2Z"
      },
      "outputs": [],
      "source": [
        "type('Hello World')"
      ]
    },
    {
      "cell_type": "code",
      "execution_count": null,
      "metadata": {
        "id": "2bqVmkrE4d2Z"
      },
      "outputs": [],
      "source": [
        "len(\"Hello\")"
      ]
    },
    {
      "cell_type": "markdown",
      "metadata": {
        "id": "zxGpvPdz4d2a"
      },
      "source": [
        "You can use double or single quotes, it's the same. We also have \"multi-line\" strings, that are created with a pair of 3 quotes (simple or double, either works):"
      ]
    },
    {
      "cell_type": "code",
      "execution_count": null,
      "metadata": {
        "id": "cI9tUf9_4d2a"
      },
      "outputs": [],
      "source": [
        "joke = \"\"\"\n",
        "Me: What’s the best thing about Switzerland?\n",
        "Friend: I don't know. What?\n",
        "Me: I don’t know, but the flag is a big plus.\n",
        "F: 😒\n",
        "\"\"\"\n",
        "\n",
        "print(joke)"
      ]
    },
    {
      "cell_type": "markdown",
      "metadata": {
        "id": "-nKLz3TL4d2b"
      },
      "source": [
        "#### Booleans, type `bool`\n",
        "\n",
        "Python booleans are as simple as they get: `True` and `False`, **capitalized**."
      ]
    },
    {
      "cell_type": "code",
      "execution_count": null,
      "metadata": {
        "id": "-4O_Z_fF4d2b"
      },
      "outputs": [],
      "source": [
        "True"
      ]
    },
    {
      "cell_type": "code",
      "execution_count": null,
      "metadata": {
        "id": "fJhVPBws4d2c"
      },
      "outputs": [],
      "source": [
        "type(False)"
      ]
    },
    {
      "cell_type": "markdown",
      "metadata": {
        "id": "zyNYtiyZ4d2c"
      },
      "source": [
        "#### None, type `NoneType`\n",
        "\n",
        "As other languages have `null`, in Python we have `None`, which pretty much represents the absence of value:"
      ]
    },
    {
      "cell_type": "code",
      "execution_count": null,
      "metadata": {
        "id": "bLiXr_ZE4d2c"
      },
      "outputs": [],
      "source": [
        "x = None"
      ]
    },
    {
      "cell_type": "code",
      "execution_count": null,
      "metadata": {
        "id": "_ohioYyU4d2i"
      },
      "outputs": [],
      "source": [
        "x"
      ]
    },
    {
      "cell_type": "code",
      "execution_count": null,
      "metadata": {
        "id": "Z5JIQlpE4d2i"
      },
      "outputs": [],
      "source": [
        "print(x)"
      ]
    },
    {
      "cell_type": "code",
      "execution_count": null,
      "metadata": {
        "id": "A3B7TNmg4d2j"
      },
      "outputs": [],
      "source": [
        "type(None)"
      ]
    },
    {
      "cell_type": "markdown",
      "metadata": {
        "id": "TCgaN7TT4d2j"
      },
      "source": [
        "![green-divider](https://user-images.githubusercontent.com/7065401/52071924-c003ad80-2562-11e9-8297-1c6595f8a7ff.png)\n",
        "\n",
        "### `int`, `float`, `str` and `bool` objects and functions\n",
        "\n",
        "You'll often see some of these _\"keywords/names\"_ used both as functions and as individual objects. When used as functions, their usage is to transform/cast objects into its corresponding type. Example:"
      ]
    },
    {
      "cell_type": "code",
      "execution_count": null,
      "metadata": {
        "id": "G1ZcFCpB4d2j"
      },
      "outputs": [],
      "source": [
        "age_as_string = \"28\""
      ]
    },
    {
      "cell_type": "code",
      "execution_count": null,
      "metadata": {
        "id": "-sUqId1r4d2j"
      },
      "outputs": [],
      "source": [
        "type(age_as_string)"
      ]
    },
    {
      "cell_type": "code",
      "execution_count": null,
      "metadata": {
        "id": "hX5OeVbt4d2k"
      },
      "outputs": [],
      "source": [
        "int(age_as_string)"
      ]
    },
    {
      "cell_type": "code",
      "execution_count": null,
      "metadata": {
        "id": "9nFE8exi4d2k"
      },
      "outputs": [],
      "source": [
        "age = int(age_as_string)"
      ]
    },
    {
      "cell_type": "code",
      "execution_count": null,
      "metadata": {
        "id": "8eFxf6sK4d2k"
      },
      "outputs": [],
      "source": [
        "type(age)"
      ]
    },
    {
      "cell_type": "markdown",
      "metadata": {
        "id": "zhMXl43e4d2k"
      },
      "source": [
        "Their use as objects is mainly associated with their type:"
      ]
    },
    {
      "cell_type": "code",
      "execution_count": null,
      "metadata": {
        "id": "F8VYWmbq4d2k"
      },
      "outputs": [],
      "source": [
        "type(13) == int"
      ]
    },
    {
      "cell_type": "markdown",
      "metadata": {
        "id": "4UfDBoWI4d2k"
      },
      "source": [
        "![green-divider](https://user-images.githubusercontent.com/7065401/52071924-c003ad80-2562-11e9-8297-1c6595f8a7ff.png)\n",
        "\n",
        "### Functions\n",
        "\n",
        "We've seen a couple of functions defined already, but let's dig a little bit deeper. Functions in Python are very intuitive. Let's start with an example of a function without parameters:"
      ]
    },
    {
      "cell_type": "code",
      "execution_count": null,
      "metadata": {
        "id": "A-2ytDxB4d2l"
      },
      "outputs": [],
      "source": [
        "def hello():\n",
        "    return \"Hello World\""
      ]
    },
    {
      "cell_type": "markdown",
      "metadata": {
        "id": "DiGSjXfv4d2l"
      },
      "source": [
        "The `def` keyword indicate the _definition_ of a function, followed by a name and a list of arguments (which this function doesn't receive). The `return` statement is used to break the flow of the function and return a value back to the caller:"
      ]
    },
    {
      "cell_type": "code",
      "execution_count": null,
      "metadata": {
        "id": "xNqF8ORr4d2l"
      },
      "outputs": [],
      "source": [
        "result = hello()"
      ]
    },
    {
      "cell_type": "code",
      "execution_count": null,
      "metadata": {
        "id": "mrCf61sQ4d2l"
      },
      "outputs": [],
      "source": [
        "result"
      ]
    },
    {
      "cell_type": "markdown",
      "metadata": {
        "id": "B4XaY4ta4d2m"
      },
      "source": [
        "If a function doesn't explicitly include a `return` statement, Python will return `None` by default:"
      ]
    },
    {
      "cell_type": "code",
      "execution_count": null,
      "metadata": {
        "id": "Drk7Jnzg4d2m"
      },
      "outputs": [],
      "source": [
        "def empty():\n",
        "    x = 3"
      ]
    },
    {
      "cell_type": "code",
      "execution_count": null,
      "metadata": {
        "id": "TPIfijK94d2n"
      },
      "outputs": [],
      "source": [
        "result = empty()"
      ]
    },
    {
      "cell_type": "code",
      "execution_count": null,
      "metadata": {
        "id": "9khCq79j4d2n"
      },
      "outputs": [],
      "source": [
        "print(result)"
      ]
    },
    {
      "cell_type": "markdown",
      "metadata": {
        "id": "ZTdY9K9A4d2o"
      },
      "source": [
        "#### Receiving parameters\n",
        "\n",
        "There's a lot that can be done with Python parameters; including default and named parameters, and even variable/dynamic ones. But for now, we'll just focus on the basics. Function parameters are listed at the function definition, and they're part of the function's local scope:"
      ]
    },
    {
      "cell_type": "code",
      "execution_count": null,
      "metadata": {
        "id": "SsQNIqzu4d2o"
      },
      "outputs": [],
      "source": [
        "def add(x, y):\n",
        "    return x + y"
      ]
    },
    {
      "cell_type": "code",
      "execution_count": null,
      "metadata": {
        "id": "eaxa0Kf-4d2o"
      },
      "outputs": [],
      "source": [
        "add(2, 3)"
      ]
    },
    {
      "cell_type": "markdown",
      "metadata": {
        "id": "Rq0QN3cs4d2p"
      },
      "source": [
        "We can also define functions that accept variable number of arguments, using the star args `*`:"
      ]
    },
    {
      "cell_type": "code",
      "execution_count": null,
      "metadata": {
        "id": "z49UeBe04d2p"
      },
      "outputs": [],
      "source": [
        "def add(*args):\n",
        "    return sum(args)"
      ]
    },
    {
      "cell_type": "code",
      "execution_count": null,
      "metadata": {
        "id": "4mY2Q2-d4d2q"
      },
      "outputs": [],
      "source": [
        "add(1, 1, 1)"
      ]
    },
    {
      "cell_type": "code",
      "execution_count": null,
      "metadata": {
        "id": "l0kdnXmj4d2q"
      },
      "outputs": [],
      "source": [
        "add(1)"
      ]
    },
    {
      "cell_type": "markdown",
      "metadata": {
        "id": "S00Ryhe84d2r"
      },
      "source": [
        "![green-divider](https://user-images.githubusercontent.com/7065401/52071924-c003ad80-2562-11e9-8297-1c6595f8a7ff.png)\n",
        "\n",
        "### Operators\n",
        "\n",
        "Both arithmetic and boolean operators are available, for example:\n",
        "\n",
        "#### Arithmetic operators"
      ]
    },
    {
      "cell_type": "code",
      "execution_count": null,
      "metadata": {
        "id": "2tBTlK-t4d2r"
      },
      "outputs": [],
      "source": [
        "3 + 3"
      ]
    },
    {
      "cell_type": "code",
      "execution_count": null,
      "metadata": {
        "id": "7ciZMMUJ4d2r"
      },
      "outputs": [],
      "source": [
        "11 % 7"
      ]
    },
    {
      "cell_type": "code",
      "execution_count": null,
      "metadata": {
        "id": "ECs6fZog4d2s"
      },
      "outputs": [],
      "source": [
        "2 ** 4"
      ]
    },
    {
      "cell_type": "markdown",
      "metadata": {
        "id": "5x8v7-S44d2s"
      },
      "source": [
        "Precedence can be consulted on [the official docs](https://docs.python.org/3/reference/expressions.html#operator-precedence). But, for the most part, the precedence is similar to the usual in arithmetic:"
      ]
    },
    {
      "cell_type": "code",
      "execution_count": null,
      "metadata": {
        "id": "2m7hZ9WR4d2s"
      },
      "outputs": [],
      "source": [
        "3 + 4 * 5"
      ]
    },
    {
      "cell_type": "code",
      "execution_count": null,
      "metadata": {
        "id": "cywnSsuG4d2t"
      },
      "outputs": [],
      "source": [
        "3 + 4 * 2**3"
      ]
    },
    {
      "cell_type": "markdown",
      "metadata": {
        "id": "X5P-f-5o4d2t"
      },
      "source": [
        "#### Boolean operators\n",
        "\n",
        "Regular comparison operators are available:"
      ]
    },
    {
      "cell_type": "code",
      "execution_count": null,
      "metadata": {
        "id": "5nxGDHOq4d2t"
      },
      "outputs": [],
      "source": [
        "7 > 3"
      ]
    },
    {
      "cell_type": "code",
      "execution_count": null,
      "metadata": {
        "id": "FC3oi2yX4d2t"
      },
      "outputs": [],
      "source": [
        "8 >= 8"
      ]
    },
    {
      "cell_type": "markdown",
      "metadata": {
        "id": "ddxpf3AU4d2t"
      },
      "source": [
        "We said that Python is strongly typed, so comparison between different types will fail if these types are not compatible:"
      ]
    },
    {
      "cell_type": "code",
      "execution_count": null,
      "metadata": {
        "id": "-ZdrfPUx4d2u"
      },
      "outputs": [],
      "source": [
        "8 > \"abc\""
      ]
    },
    {
      "cell_type": "markdown",
      "metadata": {
        "id": "LJWd2V184d2u"
      },
      "source": [
        "Python also has other common boolean operators like `and`, `or`, `not`, etc. They are short circuited, as most modern programming languages:"
      ]
    },
    {
      "cell_type": "code",
      "execution_count": null,
      "metadata": {
        "id": "IHiyiNiH4d2u"
      },
      "outputs": [],
      "source": [
        "True and True"
      ]
    },
    {
      "cell_type": "code",
      "execution_count": null,
      "metadata": {
        "id": "XjILXDhd4d2u"
      },
      "outputs": [],
      "source": [
        "not False"
      ]
    },
    {
      "cell_type": "code",
      "execution_count": null,
      "metadata": {
        "id": "gcu1_5za4d2v"
      },
      "outputs": [],
      "source": [
        "False or True"
      ]
    },
    {
      "cell_type": "markdown",
      "metadata": {
        "id": "xW6iKnwm4d2v"
      },
      "source": [
        "![green-divider](https://user-images.githubusercontent.com/7065401/52071924-c003ad80-2562-11e9-8297-1c6595f8a7ff.png)\n",
        "\n",
        "### Control Flow\n",
        "\n",
        "Python supports the most common control flow blocks. Keep in mind they're defined with indentation.\n",
        "\n",
        "#### If/else/elif statements"
      ]
    },
    {
      "cell_type": "code",
      "execution_count": null,
      "metadata": {
        "id": "Wp7zTjxx4d2v"
      },
      "outputs": [],
      "source": [
        "days_subscribed = 28"
      ]
    },
    {
      "cell_type": "code",
      "execution_count": null,
      "metadata": {
        "id": "SB80nQ6s4d2v"
      },
      "outputs": [],
      "source": [
        "if days_subscribed >= 30:\n",
        "    print(\"Loyal customer\")\n",
        "elif days_subscribed >= 15:\n",
        "    print(\"Halfway there\")\n",
        "elif days_subscribed >= 1:\n",
        "    print(\"Building confidence\")\n",
        "else:\n",
        "    print(\"Too early\")"
      ]
    },
    {
      "cell_type": "markdown",
      "metadata": {
        "id": "1lYQn3-A4d2v"
      },
      "source": [
        "#### For loops\n",
        "\n",
        "For loops in Python are different than other languages, specially those C/Java-inspired languages. In Python, `for` loops are designed to iterate over collections (we'll see collections later). But keep that in mind."
      ]
    },
    {
      "cell_type": "code",
      "execution_count": null,
      "metadata": {
        "id": "2Iju1jnd4d2w"
      },
      "outputs": [],
      "source": [
        "names = ['Monica', 'Ross', 'Chandler', 'Joey', 'Rachel']"
      ]
    },
    {
      "cell_type": "code",
      "execution_count": null,
      "metadata": {
        "id": "2uVXSIXw4d2w"
      },
      "outputs": [],
      "source": [
        "for name in names:\n",
        "    print(name)"
      ]
    },
    {
      "cell_type": "markdown",
      "metadata": {
        "id": "NsquToLZ4d2w"
      },
      "source": [
        "#### While loops\n",
        "\n",
        "While loops are seldom used in Python. For loops are the preferred choice 99% of the time. Still, they're available and are useful for some situations:"
      ]
    },
    {
      "cell_type": "code",
      "execution_count": null,
      "metadata": {
        "id": "MVF_ZryG4d2x"
      },
      "outputs": [],
      "source": [
        "count = 0"
      ]
    },
    {
      "cell_type": "code",
      "execution_count": null,
      "metadata": {
        "id": "HoCgYTu14d2x"
      },
      "outputs": [],
      "source": [
        "while count < 3:\n",
        "    print(\"Counting...\")\n",
        "    count += 1"
      ]
    },
    {
      "cell_type": "markdown",
      "metadata": {
        "id": "5XP80iHw4d2x"
      },
      "source": [
        "There's another block to mention, `try/except`, but it's in the **_Exceptions_** section."
      ]
    },
    {
      "cell_type": "markdown",
      "metadata": {
        "id": "l7dyyLBz4d2x"
      },
      "source": [
        "![green-divider](https://user-images.githubusercontent.com/7065401/52071924-c003ad80-2562-11e9-8297-1c6595f8a7ff.png)\n",
        "\n",
        "### Collections\n",
        "\n",
        "Python has multiple versatile collection types, each with different features and capabilities. These are the most common collections we'll explore:\n",
        "\n",
        "* Lists\n",
        "* Tuples\n",
        "* Dictionaries\n",
        "* Sets\n",
        "\n",
        "Even though they all have different capabilities, there is one common property to all of them, and it's that Python collections are heterogeneous, that is, you can mix multiple types. That **doesn't mean we should** mix types, usually it's better to have a consistent collection. But it's still possible.\n",
        "\n",
        "#### Lists\n",
        "\n",
        "Lists are mutable, ordered sequences. We could argue, the most common collection type."
      ]
    },
    {
      "cell_type": "code",
      "execution_count": null,
      "metadata": {
        "id": "dmhhrk6N4d2x"
      },
      "outputs": [],
      "source": [
        "l = [3, 'Hello World', True]"
      ]
    },
    {
      "cell_type": "code",
      "execution_count": null,
      "metadata": {
        "id": "i5k_CKtp4d2y"
      },
      "outputs": [],
      "source": [
        "len(l)"
      ]
    },
    {
      "cell_type": "markdown",
      "metadata": {
        "id": "IuE16KvF4d2y"
      },
      "source": [
        "List elements are accessed using sequential indices (starting from `0`):"
      ]
    },
    {
      "cell_type": "code",
      "execution_count": null,
      "metadata": {
        "id": "_aA875-r4d2y"
      },
      "outputs": [],
      "source": [
        "l[0]"
      ]
    },
    {
      "cell_type": "code",
      "execution_count": null,
      "metadata": {
        "id": "W4QxuL3i4d2y"
      },
      "outputs": [],
      "source": [
        "l[1]"
      ]
    },
    {
      "cell_type": "markdown",
      "metadata": {
        "id": "fnpxW9mG4d2y"
      },
      "source": [
        "Negative indices are also supported:"
      ]
    },
    {
      "cell_type": "code",
      "execution_count": null,
      "metadata": {
        "id": "vczRFobD4d2z"
      },
      "outputs": [],
      "source": [
        "l[-1]"
      ]
    },
    {
      "cell_type": "code",
      "execution_count": null,
      "metadata": {
        "id": "ik5Oq2r64d2z"
      },
      "outputs": [],
      "source": [
        "l[-2]"
      ]
    },
    {
      "cell_type": "markdown",
      "metadata": {
        "id": "NA4kMmTd4d2z"
      },
      "source": [
        "Lists have many useful methods to add/remove elements:"
      ]
    },
    {
      "cell_type": "code",
      "execution_count": null,
      "metadata": {
        "id": "9Wk4xiDB4d2z"
      },
      "outputs": [],
      "source": [
        "l.append('Python 🐍')"
      ]
    },
    {
      "cell_type": "code",
      "execution_count": null,
      "metadata": {
        "id": "KNgaFNf64d20"
      },
      "outputs": [],
      "source": [
        "l"
      ]
    },
    {
      "cell_type": "code",
      "execution_count": null,
      "metadata": {
        "id": "9K5V61674d20"
      },
      "outputs": [],
      "source": [
        "'Python 🐍' in l"
      ]
    },
    {
      "cell_type": "code",
      "execution_count": null,
      "metadata": {
        "id": "zJmFelwA4d21"
      },
      "outputs": [],
      "source": [
        "'Ruby ♦️' in l"
      ]
    },
    {
      "cell_type": "markdown",
      "metadata": {
        "id": "F7_kEYNf4d21"
      },
      "source": [
        "#### Tuples\n",
        "\n",
        "Tuples are very similar to lists, but with a huge difference: **they're immutable**. That means, once a tuple is created, it can't be further modified:"
      ]
    },
    {
      "cell_type": "code",
      "execution_count": null,
      "metadata": {
        "id": "ywOqlsdG4d21"
      },
      "outputs": [],
      "source": [
        "t = (3, 'Hello World', True)"
      ]
    },
    {
      "cell_type": "markdown",
      "metadata": {
        "id": "yMWTK-fj4d22"
      },
      "source": [
        "Indexing them works in the same way:"
      ]
    },
    {
      "cell_type": "code",
      "execution_count": null,
      "metadata": {
        "id": "QjR2V_SP4d22"
      },
      "outputs": [],
      "source": [
        "t[0]"
      ]
    },
    {
      "cell_type": "code",
      "execution_count": null,
      "metadata": {
        "id": "rjFjQtZA4d22"
      },
      "outputs": [],
      "source": [
        "t[-1]"
      ]
    },
    {
      "cell_type": "code",
      "execution_count": null,
      "metadata": {
        "id": "Hlz1PYSZ4d22"
      },
      "outputs": [],
      "source": [
        "'Hello World' in t"
      ]
    },
    {
      "cell_type": "markdown",
      "metadata": {
        "id": "iFoxbQIk4d22"
      },
      "source": [
        "But there's no way of modifying them."
      ]
    },
    {
      "cell_type": "markdown",
      "metadata": {
        "id": "uev5mpMN4d23"
      },
      "source": [
        "#### Dictionaries\n",
        "\n",
        "Dictionaries are map-like collections that store values under a user-defined key. The key must be an immutable object; we usually employ strings for keys. Dictionaries are mutable, and more importantly, **unordered**."
      ]
    },
    {
      "cell_type": "code",
      "execution_count": null,
      "metadata": {
        "id": "ieRXRZVC4d23"
      },
      "outputs": [],
      "source": [
        "user = {\n",
        "    \"name\": \"Mary Smith\",\n",
        "    \"email\": \"mary@example.com\",\n",
        "    \"age\": 30,\n",
        "    \"subscribed\": True\n",
        "}"
      ]
    },
    {
      "cell_type": "code",
      "execution_count": null,
      "metadata": {
        "id": "MR5Zswbn4d23"
      },
      "outputs": [],
      "source": [
        "user"
      ]
    },
    {
      "cell_type": "markdown",
      "metadata": {
        "id": "ywPRGR1w4d23"
      },
      "source": [
        "Access is by key, also using square brackets:"
      ]
    },
    {
      "cell_type": "code",
      "execution_count": null,
      "metadata": {
        "id": "8220mxaM4d23"
      },
      "outputs": [],
      "source": [
        "user['email']"
      ]
    },
    {
      "cell_type": "code",
      "execution_count": null,
      "metadata": {
        "id": "cWA5X_BN4d24"
      },
      "outputs": [],
      "source": [
        "'age' in user"
      ]
    },
    {
      "cell_type": "code",
      "execution_count": null,
      "metadata": {
        "id": "jefFBVFo4d24"
      },
      "outputs": [],
      "source": [
        "'last_name' in user"
      ]
    },
    {
      "cell_type": "markdown",
      "metadata": {
        "id": "WJ0_8bMl4d24"
      },
      "source": [
        "#### Sets\n",
        "\n",
        "Sets are unordered collection which the unique characteristic that they only contain unique elements:"
      ]
    },
    {
      "cell_type": "code",
      "execution_count": null,
      "metadata": {
        "id": "Gdi9LO5D4d24"
      },
      "outputs": [],
      "source": [
        "s = {3, 1, 3, 7, 9, 1, 3, 1}"
      ]
    },
    {
      "cell_type": "code",
      "execution_count": null,
      "metadata": {
        "id": "ey7J1agp4d24"
      },
      "outputs": [],
      "source": [
        "s"
      ]
    },
    {
      "cell_type": "markdown",
      "metadata": {
        "id": "r9YxsOt-4d24"
      },
      "source": [
        "Adding elements is done with the `add` method:"
      ]
    },
    {
      "cell_type": "code",
      "execution_count": null,
      "metadata": {
        "id": "iF9wtm_64d25"
      },
      "outputs": [],
      "source": [
        "s.add(10)"
      ]
    },
    {
      "cell_type": "markdown",
      "metadata": {
        "id": "yiaRkACX4d25"
      },
      "source": [
        "Removing elements can be done with `pop()`:"
      ]
    },
    {
      "cell_type": "code",
      "execution_count": null,
      "metadata": {
        "id": "rmfNH-hz4d25"
      },
      "outputs": [],
      "source": [
        "s.pop()"
      ]
    },
    {
      "cell_type": "markdown",
      "metadata": {
        "id": "hFTPmT0-4d25"
      },
      "source": [
        "![green-divider](https://user-images.githubusercontent.com/7065401/52071924-c003ad80-2562-11e9-8297-1c6595f8a7ff.png)\n",
        "\n",
        "### Iterating collections\n",
        "\n",
        "As mentioned in the control flow section, Python's `for` loop is specially designed to iterate over collections:"
      ]
    },
    {
      "cell_type": "code",
      "execution_count": null,
      "metadata": {
        "id": "VRB7dwrw4d25"
      },
      "outputs": [],
      "source": [
        "l = [3, 'Hello World', True]"
      ]
    },
    {
      "cell_type": "code",
      "execution_count": null,
      "metadata": {
        "id": "1rhJQy804d26"
      },
      "outputs": [],
      "source": [
        "for elem in l:\n",
        "    print(elem)"
      ]
    },
    {
      "cell_type": "code",
      "execution_count": null,
      "metadata": {
        "id": "eulWH0km4d26"
      },
      "outputs": [],
      "source": [
        "for key in user:\n",
        "    print(key.title(), '=>', user[key])"
      ]
    },
    {
      "cell_type": "markdown",
      "metadata": {
        "id": "uYD_VqCk4d26"
      },
      "source": [
        "![green-divider](https://user-images.githubusercontent.com/7065401/52071924-c003ad80-2562-11e9-8297-1c6595f8a7ff.png)\n",
        "\n",
        "### Modules\n",
        "\n",
        "One of the best features of Python as a language, is its rich builtin library. To use external modules, you must first import them:"
      ]
    },
    {
      "cell_type": "code",
      "execution_count": null,
      "metadata": {
        "id": "BQSwDFav4d26"
      },
      "outputs": [],
      "source": [
        "import random"
      ]
    },
    {
      "cell_type": "code",
      "execution_count": null,
      "metadata": {
        "id": "Je4-sDMy4d27"
      },
      "outputs": [],
      "source": [
        "random.randint(0, 99)"
      ]
    },
    {
      "cell_type": "markdown",
      "metadata": {
        "id": "lOCihlof4d27"
      },
      "source": [
        "![green-divider](https://user-images.githubusercontent.com/7065401/52071924-c003ad80-2562-11e9-8297-1c6595f8a7ff.png)\n",
        "\n",
        "### Exceptions\n",
        "\n",
        "Exceptions are raised at runtime when an abnormal situation is produced in your program. Exceptions can also be constructed and raised by your code. Example of an exception:"
      ]
    },
    {
      "cell_type": "code",
      "execution_count": null,
      "metadata": {
        "id": "cGExwbYm4d27"
      },
      "outputs": [],
      "source": [
        "age = \"30\""
      ]
    },
    {
      "cell_type": "code",
      "execution_count": null,
      "metadata": {
        "id": "YH5fTSpb4d27"
      },
      "outputs": [],
      "source": [
        "if age > 21:\n",
        "    print(\"Allowed entrance\")"
      ]
    },
    {
      "cell_type": "markdown",
      "metadata": {
        "id": "WYhxUXuK4d28"
      },
      "source": [
        "Exceptions can be handled at runtime with a `try/except` block:"
      ]
    },
    {
      "cell_type": "code",
      "execution_count": null,
      "metadata": {
        "id": "Tpfs2tFd4d29"
      },
      "outputs": [],
      "source": [
        "try:\n",
        "    if age > 21:\n",
        "        print(\"Allowed entrance\")\n",
        "except:\n",
        "    print(\"Something went wrong\")"
      ]
    },
    {
      "cell_type": "markdown",
      "metadata": {
        "id": "GApYpjTP4d29"
      },
      "source": [
        "The `except` portion can receive also be parametrized with the expected exception:"
      ]
    },
    {
      "cell_type": "code",
      "execution_count": null,
      "metadata": {
        "id": "bUcNzYp94d2-"
      },
      "outputs": [],
      "source": [
        "try:\n",
        "    if age > 21:\n",
        "        print(\"Allowed entrance\")\n",
        "except TypeError:\n",
        "    print(\"Age is probably of a wrong type\")"
      ]
    },
    {
      "cell_type": "markdown",
      "metadata": {
        "id": "lrTNwfZO4d2-"
      },
      "source": [
        "![green-divider](https://user-images.githubusercontent.com/7065401/52071924-c003ad80-2562-11e9-8297-1c6595f8a7ff.png)\n",
        "\n",
        "## We're just getting started\n",
        "\n",
        "As you can imagine, there's a lot more to add about such a versatile and powerful language as Python. We're still missing many important topics like _OOP_, _File Management_, _Networking_, _Concurrency_, etc.\n",
        "\n",
        "If you're eager to learn more about Python, we've compiled a list of [3 recommended free Python books](https://blog.rmotr.com/the-3-python-books-you-need-to-get-started-for-free-9b72a2c6fb17) to get started."
      ]
    },
    {
      "cell_type": "markdown",
      "metadata": {
        "id": "KVA50NBF4d2-"
      },
      "source": [
        "![purple-divider](https://user-images.githubusercontent.com/7065401/52071927-c1cd7100-2562-11e9-908a-dde91ba14e59.png)"
      ]
    }
  ],
  "metadata": {
    "kernelspec": {
      "display_name": "Python 3",
      "language": "python",
      "name": "python3"
    },
    "language_info": {
      "codemirror_mode": {
        "name": "ipython",
        "version": 3
      },
      "file_extension": ".py",
      "mimetype": "text/x-python",
      "name": "python",
      "nbconvert_exporter": "python",
      "pygments_lexer": "ipython3",
      "version": "3.6.8"
    },
    "colab": {
      "provenance": []
    }
  },
  "nbformat": 4,
  "nbformat_minor": 0
}