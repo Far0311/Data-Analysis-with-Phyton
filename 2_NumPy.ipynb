{
  "cells": [
    {
      "cell_type": "markdown",
      "metadata": {
        "id": "SWStu-2RIcck"
      },
      "source": [
        "![rmotr](https://user-images.githubusercontent.com/7065401/52071918-bda15380-2562-11e9-828c-7f95297e4a82.png)\n",
        "<hr style=\"margin-bottom: 40px;\">\n",
        "\n",
        "<img src=\"https://user-images.githubusercontent.com/7065401/39118381-910eb0c2-46e9-11e8-81f1-a5b897401c23.jpeg\"\n",
        "    style=\"width:300px; float: right; margin: 0 40px 40px 40px;\"></img>\n",
        "\n",
        "# Numpy: Numeric computing library\n",
        "\n",
        "NumPy (Numerical Python) is one of the core packages for numerical computing in Python. Pandas, Matplotlib, Statmodels and many other Scientific libraries rely on NumPy.\n",
        "\n",
        "NumPy major contributions are:\n",
        "\n",
        "* Efficient numeric computation with C primitives\n",
        "* Efficient collections with vectorized operations\n",
        "* An integrated and natural Linear Algebra API\n",
        "* A C API for connecting NumPy with libraries written in C, C++, or FORTRAN.\n",
        "\n",
        "Let's develop on efficiency. In Python, **everything is an object**, which means that even simple ints are also objects, with all the required machinery to make object work. We call them \"Boxed Ints\". In contrast, NumPy uses primitive numeric types (floats, ints) which makes storing and computation efficient."
      ]
    },
    {
      "cell_type": "markdown",
      "metadata": {
        "id": "_9h_doN2Icco"
      },
      "source": [
        "<img src=\"https://docs.google.com/drawings/d/e/2PACX-1vTkDtKYMUVdpfVb3TTpr_8rrVtpal2dOknUUEOu85wJ1RitzHHf5nsJqz1O0SnTt8BwgJjxXMYXyIqs/pub?w=726&h=396\" />\n"
      ]
    },
    {
      "cell_type": "markdown",
      "metadata": {
        "id": "uT2VGkh_Icco"
      },
      "source": [
        "![purple-divider](https://user-images.githubusercontent.com/7065401/52071927-c1cd7100-2562-11e9-908a-dde91ba14e59.png)\n",
        "\n",
        "## Hands on!"
      ]
    },
    {
      "cell_type": "code",
      "execution_count": 2,
      "metadata": {
        "id": "F15asibGIcco"
      },
      "outputs": [],
      "source": [
        "import sys\n",
        "import numpy as np"
      ]
    },
    {
      "cell_type": "markdown",
      "metadata": {
        "id": "l5Kqp5pSIccp"
      },
      "source": [
        "## Basic Numpy Arrays"
      ]
    },
    {
      "cell_type": "code",
      "execution_count": null,
      "metadata": {
        "id": "4_Bo3NvRIccp",
        "outputId": "4670b09c-e35d-4966-8839-6b06ba8d4677",
        "colab": {
          "base_uri": "https://localhost:8080/"
        }
      },
      "outputs": [
        {
          "output_type": "execute_result",
          "data": {
            "text/plain": [
              "array([1, 2, 3, 4])"
            ]
          },
          "metadata": {},
          "execution_count": 3
        }
      ],
      "source": [
        "np.array([1, 2, 3, 4])"
      ]
    },
    {
      "cell_type": "code",
      "execution_count": null,
      "metadata": {
        "id": "uRmJW9QqIccq"
      },
      "outputs": [],
      "source": [
        "a = np.array([1, 2, 3, 4])\n",
        "            #0  1   2   3"
      ]
    },
    {
      "cell_type": "code",
      "execution_count": null,
      "metadata": {
        "id": "cGrWR25DIccq"
      },
      "outputs": [],
      "source": [
        "b = np.array([0, .5, 1, 1.5, 2])\n",
        "            #0    1   2   3   4"
      ]
    },
    {
      "cell_type": "code",
      "execution_count": null,
      "metadata": {
        "id": "3_qWVVsJIccq",
        "outputId": "946d900b-8cfe-4973-8054-0d4f28fa6f17",
        "colab": {
          "base_uri": "https://localhost:8080/"
        }
      },
      "outputs": [
        {
          "output_type": "execute_result",
          "data": {
            "text/plain": [
              "(1, 2)"
            ]
          },
          "metadata": {},
          "execution_count": 9
        }
      ],
      "source": [
        "a[0], a[1]"
      ]
    },
    {
      "cell_type": "code",
      "execution_count": null,
      "metadata": {
        "id": "RKslFg76Iccr",
        "outputId": "b48ce636-ba70-4c93-e603-87002aadeb04",
        "colab": {
          "base_uri": "https://localhost:8080/"
        }
      },
      "outputs": [
        {
          "output_type": "execute_result",
          "data": {
            "text/plain": [
              "array([1, 2, 3, 4])"
            ]
          },
          "metadata": {},
          "execution_count": 10
        }
      ],
      "source": [
        "a[0:]"
      ]
    },
    {
      "cell_type": "code",
      "execution_count": null,
      "metadata": {
        "id": "zRdZdBbJIccr",
        "outputId": "f57ca679-da94-4b71-ec83-306729a785a4",
        "colab": {
          "base_uri": "https://localhost:8080/"
        }
      },
      "outputs": [
        {
          "output_type": "execute_result",
          "data": {
            "text/plain": [
              "array([2, 3])"
            ]
          },
          "metadata": {},
          "execution_count": 11
        }
      ],
      "source": [
        "a[1:3]"
      ]
    },
    {
      "cell_type": "code",
      "execution_count": null,
      "metadata": {
        "scrolled": true,
        "id": "1RdC60UNIccr",
        "outputId": "49cf86bf-e241-4298-9378-4c89c815b7ae",
        "colab": {
          "base_uri": "https://localhost:8080/"
        }
      },
      "outputs": [
        {
          "output_type": "execute_result",
          "data": {
            "text/plain": [
              "array([2, 3])"
            ]
          },
          "metadata": {},
          "execution_count": 13
        }
      ],
      "source": [
        "a[1:-1]"
      ]
    },
    {
      "cell_type": "code",
      "execution_count": null,
      "metadata": {
        "id": "x9sRJG-lIccr",
        "outputId": "533d16f2-5f99-4465-9fc4-db7cd6e8c833",
        "colab": {
          "base_uri": "https://localhost:8080/"
        }
      },
      "outputs": [
        {
          "output_type": "execute_result",
          "data": {
            "text/plain": [
              "array([1, 3])"
            ]
          },
          "metadata": {},
          "execution_count": 15
        }
      ],
      "source": [
        "a[::2]"
      ]
    },
    {
      "cell_type": "code",
      "execution_count": null,
      "metadata": {
        "id": "EREVtsFBIccr",
        "outputId": "2ac18107-8e6e-4606-8d42-c02f291d3137",
        "colab": {
          "base_uri": "https://localhost:8080/"
        }
      },
      "outputs": [
        {
          "output_type": "execute_result",
          "data": {
            "text/plain": [
              "array([0. , 0.5, 1. , 1.5, 2. ])"
            ]
          },
          "metadata": {},
          "execution_count": 16
        }
      ],
      "source": [
        "b"
      ]
    },
    {
      "cell_type": "code",
      "execution_count": null,
      "metadata": {
        "scrolled": true,
        "id": "NGRGjMB4Iccr",
        "outputId": "3488d709-f005-4241-f483-aca4adef2f34",
        "colab": {
          "base_uri": "https://localhost:8080/"
        }
      },
      "outputs": [
        {
          "output_type": "execute_result",
          "data": {
            "text/plain": [
              "(0.0, 1.0, 2.0)"
            ]
          },
          "metadata": {},
          "execution_count": 17
        }
      ],
      "source": [
        "b[0], b[2], b[-1]"
      ]
    },
    {
      "cell_type": "code",
      "execution_count": null,
      "metadata": {
        "id": "ipmHEQHXIccr",
        "outputId": "9580f99b-3524-45e0-a52e-2de4f0f77828",
        "colab": {
          "base_uri": "https://localhost:8080/"
        }
      },
      "outputs": [
        {
          "output_type": "execute_result",
          "data": {
            "text/plain": [
              "array([0., 1., 2.])"
            ]
          },
          "metadata": {},
          "execution_count": 18
        }
      ],
      "source": [
        "b[[0, 2, -1]]"
      ]
    },
    {
      "cell_type": "markdown",
      "metadata": {
        "id": "s4hwzmAgIccs"
      },
      "source": [
        "![green-divider](https://user-images.githubusercontent.com/7065401/52071924-c003ad80-2562-11e9-8297-1c6595f8a7ff.png)\n",
        "\n",
        "## Array Types"
      ]
    },
    {
      "cell_type": "code",
      "execution_count": null,
      "metadata": {
        "id": "28x8Gf8kIccs",
        "outputId": "e01c6bea-d82d-47c9-e336-71184acb3a26",
        "colab": {
          "base_uri": "https://localhost:8080/"
        }
      },
      "outputs": [
        {
          "output_type": "execute_result",
          "data": {
            "text/plain": [
              "array([1, 2, 3, 4])"
            ]
          },
          "metadata": {},
          "execution_count": 19
        }
      ],
      "source": [
        "a"
      ]
    },
    {
      "cell_type": "code",
      "execution_count": null,
      "metadata": {
        "id": "VMehdyFaIccs",
        "outputId": "4a0335ed-46b4-4182-80e5-a33835c55a41",
        "colab": {
          "base_uri": "https://localhost:8080/"
        }
      },
      "outputs": [
        {
          "output_type": "execute_result",
          "data": {
            "text/plain": [
              "dtype('int64')"
            ]
          },
          "metadata": {},
          "execution_count": 20
        }
      ],
      "source": [
        "a.dtype"
      ]
    },
    {
      "cell_type": "code",
      "execution_count": null,
      "metadata": {
        "id": "fUuuqTPCIccs",
        "outputId": "e6173a3f-1522-4f0c-e5b4-2a6e359ffcf6",
        "colab": {
          "base_uri": "https://localhost:8080/"
        }
      },
      "outputs": [
        {
          "output_type": "execute_result",
          "data": {
            "text/plain": [
              "array([0. , 0.5, 1. , 1.5, 2. ])"
            ]
          },
          "metadata": {},
          "execution_count": 21
        }
      ],
      "source": [
        "b"
      ]
    },
    {
      "cell_type": "code",
      "execution_count": null,
      "metadata": {
        "id": "VLWWYE0GIccs",
        "outputId": "778ab94e-3e9f-4feb-c89c-fa3516abeeea",
        "colab": {
          "base_uri": "https://localhost:8080/"
        }
      },
      "outputs": [
        {
          "output_type": "execute_result",
          "data": {
            "text/plain": [
              "dtype('float64')"
            ]
          },
          "metadata": {},
          "execution_count": 22
        }
      ],
      "source": [
        "b.dtype"
      ]
    },
    {
      "cell_type": "code",
      "execution_count": null,
      "metadata": {
        "scrolled": true,
        "id": "4fd34NxNIccs",
        "outputId": "ff814eca-4f83-4c72-89c4-bbec39f58754",
        "colab": {
          "base_uri": "https://localhost:8080/"
        }
      },
      "outputs": [
        {
          "output_type": "stream",
          "name": "stderr",
          "text": [
            "<ipython-input-23-6aadc0eb779c>:1: DeprecationWarning: `np.float` is a deprecated alias for the builtin `float`. To silence this warning, use `float` by itself. Doing this will not modify any behavior and is safe. If you specifically wanted the numpy scalar type, use `np.float64` here.\n",
            "Deprecated in NumPy 1.20; for more details and guidance: https://numpy.org/devdocs/release/1.20.0-notes.html#deprecations\n",
            "  np.array([1, 2, 3, 4], dtype=np.float)\n"
          ]
        },
        {
          "output_type": "execute_result",
          "data": {
            "text/plain": [
              "array([1., 2., 3., 4.])"
            ]
          },
          "metadata": {},
          "execution_count": 23
        }
      ],
      "source": [
        "np.array([1, 2, 3, 4], dtype=np.float)"
      ]
    },
    {
      "cell_type": "code",
      "execution_count": null,
      "metadata": {
        "scrolled": true,
        "id": "NMYg2jb1Iccs",
        "outputId": "389dfbdb-a42b-4901-86bd-5ac33891ca41",
        "colab": {
          "base_uri": "https://localhost:8080/"
        }
      },
      "outputs": [
        {
          "output_type": "execute_result",
          "data": {
            "text/plain": [
              "array([1, 2, 3, 4], dtype=int8)"
            ]
          },
          "metadata": {},
          "execution_count": 24
        }
      ],
      "source": [
        "np.array([1, 2, 3, 4], dtype=np.int8)"
      ]
    },
    {
      "cell_type": "code",
      "execution_count": null,
      "metadata": {
        "id": "Zh2LGsL9Icct"
      },
      "outputs": [],
      "source": [
        "c = np.array(['a', 'b', 'c'])"
      ]
    },
    {
      "cell_type": "code",
      "execution_count": null,
      "metadata": {
        "id": "dCfA_cNQIcct",
        "outputId": "fe84c3ca-5259-4f79-e600-85e2a010bde2",
        "colab": {
          "base_uri": "https://localhost:8080/"
        }
      },
      "outputs": [
        {
          "output_type": "execute_result",
          "data": {
            "text/plain": [
              "dtype('<U1')"
            ]
          },
          "metadata": {},
          "execution_count": 27
        }
      ],
      "source": [
        "c.dtype"
      ]
    },
    {
      "cell_type": "code",
      "execution_count": null,
      "metadata": {
        "id": "xX01ANJCIcct"
      },
      "outputs": [],
      "source": [
        "d = np.array([{'a': 1}, sys])"
      ]
    },
    {
      "cell_type": "code",
      "execution_count": null,
      "metadata": {
        "id": "q-9sXc5hIcct",
        "outputId": "f6f5bb73-8bb5-437d-ea8a-294cc830528d",
        "colab": {
          "base_uri": "https://localhost:8080/"
        }
      },
      "outputs": [
        {
          "output_type": "execute_result",
          "data": {
            "text/plain": [
              "dtype('O')"
            ]
          },
          "metadata": {},
          "execution_count": 29
        }
      ],
      "source": [
        "d.dtype"
      ]
    },
    {
      "cell_type": "markdown",
      "metadata": {
        "id": "QbXoWh1MIcct"
      },
      "source": [
        "![green-divider](https://user-images.githubusercontent.com/7065401/52071924-c003ad80-2562-11e9-8297-1c6595f8a7ff.png)\n",
        "\n",
        "## Dimensions and shapes"
      ]
    },
    {
      "cell_type": "code",
      "execution_count": null,
      "metadata": {
        "id": "Ddr0fRBuIcct"
      },
      "outputs": [],
      "source": [
        "A = np.array([\n",
        "    [1, 2, 3],\n",
        "    [4, 5, 6]\n",
        "])"
      ]
    },
    {
      "cell_type": "code",
      "execution_count": null,
      "metadata": {
        "id": "131FGTHMIcct",
        "outputId": "09eb95cd-d7c4-4fcc-e382-552c117d3f52",
        "colab": {
          "base_uri": "https://localhost:8080/"
        }
      },
      "outputs": [
        {
          "output_type": "execute_result",
          "data": {
            "text/plain": [
              "(2, 3)"
            ]
          },
          "metadata": {},
          "execution_count": 35
        }
      ],
      "source": [
        "A.shape #(row, Column)"
      ]
    },
    {
      "cell_type": "code",
      "execution_count": null,
      "metadata": {
        "id": "o7xWD-CdIcct",
        "outputId": "610ff3ee-b2b7-4138-c0e1-7667eb52fe89",
        "colab": {
          "base_uri": "https://localhost:8080/"
        }
      },
      "outputs": [
        {
          "output_type": "execute_result",
          "data": {
            "text/plain": [
              "2"
            ]
          },
          "metadata": {},
          "execution_count": 33
        }
      ],
      "source": [
        "A.ndim #number of dimensions"
      ]
    },
    {
      "cell_type": "code",
      "execution_count": null,
      "metadata": {
        "id": "ZF2dQNl3Icct",
        "outputId": "ceaa73bb-d2eb-4f79-8c26-c49afaeae4f8",
        "colab": {
          "base_uri": "https://localhost:8080/"
        }
      },
      "outputs": [
        {
          "output_type": "execute_result",
          "data": {
            "text/plain": [
              "6"
            ]
          },
          "metadata": {},
          "execution_count": 34
        }
      ],
      "source": [
        "A.size"
      ]
    },
    {
      "cell_type": "code",
      "execution_count": null,
      "metadata": {
        "id": "oul6G67dIcct"
      },
      "outputs": [],
      "source": [
        "B = np.array([\n",
        "    [\n",
        "        [12, 11, 10],\n",
        "        [9, 8, 7],\n",
        "    ],\n",
        "    [\n",
        "        [6, 5, 4],\n",
        "        [3, 2, 1]\n",
        "    ]\n",
        "])"
      ]
    },
    {
      "cell_type": "code",
      "execution_count": null,
      "metadata": {
        "id": "yuvtMQrDIcct",
        "outputId": "f3da2457-8548-41ba-cdf7-c91c0b679a9a",
        "colab": {
          "base_uri": "https://localhost:8080/"
        }
      },
      "outputs": [
        {
          "output_type": "execute_result",
          "data": {
            "text/plain": [
              "array([[[12, 11, 10],\n",
              "        [ 9,  8,  7]],\n",
              "\n",
              "       [[ 6,  5,  4],\n",
              "        [ 3,  2,  1]]])"
            ]
          },
          "metadata": {},
          "execution_count": 37
        }
      ],
      "source": [
        "B"
      ]
    },
    {
      "cell_type": "code",
      "execution_count": null,
      "metadata": {
        "id": "s58CkXdKIcct",
        "outputId": "8ac267f9-e81a-4526-e04f-568cac671f62",
        "colab": {
          "base_uri": "https://localhost:8080/"
        }
      },
      "outputs": [
        {
          "output_type": "execute_result",
          "data": {
            "text/plain": [
              "(2, 2, 3)"
            ]
          },
          "metadata": {},
          "execution_count": 39
        }
      ],
      "source": [
        "B.shape #it has 2 rows, 2 columns, and 3 elements in each column"
      ]
    },
    {
      "cell_type": "code",
      "execution_count": null,
      "metadata": {
        "id": "sABsYrtXIcct",
        "outputId": "b3dd6299-52cf-48e3-9436-e907193baa86",
        "colab": {
          "base_uri": "https://localhost:8080/"
        }
      },
      "outputs": [
        {
          "output_type": "execute_result",
          "data": {
            "text/plain": [
              "3"
            ]
          },
          "metadata": {},
          "execution_count": 40
        }
      ],
      "source": [
        "B.ndim"
      ]
    },
    {
      "cell_type": "code",
      "execution_count": null,
      "metadata": {
        "id": "jBtXOaDaIccu",
        "outputId": "6da1bce0-fa8c-4c22-b2de-4d89b0de5fa6",
        "colab": {
          "base_uri": "https://localhost:8080/"
        }
      },
      "outputs": [
        {
          "output_type": "execute_result",
          "data": {
            "text/plain": [
              "12"
            ]
          },
          "metadata": {},
          "execution_count": 41
        }
      ],
      "source": [
        "B.size"
      ]
    },
    {
      "cell_type": "markdown",
      "metadata": {
        "id": "OEiHUYelIccu"
      },
      "source": [
        "If the shape isn't consistent, it'll just fall back to regular Python objects:"
      ]
    },
    {
      "cell_type": "code",
      "execution_count": null,
      "metadata": {
        "id": "mgs_rPiYIccu",
        "outputId": "2de1e67e-cba2-4489-c9b6-3f0da73ebe83",
        "colab": {
          "base_uri": "https://localhost:8080/"
        }
      },
      "outputs": [
        {
          "output_type": "stream",
          "name": "stderr",
          "text": [
            "<ipython-input-42-39b57e6bbad9>:1: VisibleDeprecationWarning: Creating an ndarray from ragged nested sequences (which is a list-or-tuple of lists-or-tuples-or ndarrays with different lengths or shapes) is deprecated. If you meant to do this, you must specify 'dtype=object' when creating the ndarray.\n",
            "  C = np.array([\n"
          ]
        }
      ],
      "source": [
        "C = np.array([\n",
        "    [\n",
        "        [12, 11, 10],\n",
        "        [9, 8, 7],\n",
        "    ],\n",
        "    [\n",
        "        [6, 5, 4]\n",
        "    ]\n",
        "])"
      ]
    },
    {
      "cell_type": "code",
      "execution_count": null,
      "metadata": {
        "id": "6OQtKUdAIccz",
        "outputId": "731d5e6d-75db-496a-943e-22b046d3af59",
        "colab": {
          "base_uri": "https://localhost:8080/"
        }
      },
      "outputs": [
        {
          "output_type": "execute_result",
          "data": {
            "text/plain": [
              "dtype('O')"
            ]
          },
          "metadata": {},
          "execution_count": 43
        }
      ],
      "source": [
        "C.dtype"
      ]
    },
    {
      "cell_type": "code",
      "execution_count": null,
      "metadata": {
        "id": "kjPNmbt5Iccz",
        "outputId": "fa19121f-3619-4a25-d8b9-b1ebedc341b1",
        "colab": {
          "base_uri": "https://localhost:8080/"
        }
      },
      "outputs": [
        {
          "output_type": "execute_result",
          "data": {
            "text/plain": [
              "(2,)"
            ]
          },
          "metadata": {},
          "execution_count": 44
        }
      ],
      "source": [
        "C.shape"
      ]
    },
    {
      "cell_type": "code",
      "execution_count": null,
      "metadata": {
        "id": "SvLIG438Iccz",
        "outputId": "96ed4491-9f94-42e9-92e8-d8f80f0b8173",
        "colab": {
          "base_uri": "https://localhost:8080/"
        }
      },
      "outputs": [
        {
          "output_type": "execute_result",
          "data": {
            "text/plain": [
              "2"
            ]
          },
          "metadata": {},
          "execution_count": 45
        }
      ],
      "source": [
        "C.size"
      ]
    },
    {
      "cell_type": "code",
      "execution_count": null,
      "metadata": {
        "id": "u1SQqSVCIccz",
        "outputId": "80a379fd-5070-48db-b999-de0c2017d584",
        "colab": {
          "base_uri": "https://localhost:8080/"
        }
      },
      "outputs": [
        {
          "output_type": "execute_result",
          "data": {
            "text/plain": [
              "list"
            ]
          },
          "metadata": {},
          "execution_count": 46
        }
      ],
      "source": [
        "type(C[0])"
      ]
    },
    {
      "cell_type": "markdown",
      "metadata": {
        "id": "uKTgVCwLIccz"
      },
      "source": [
        "![green-divider](https://user-images.githubusercontent.com/7065401/52071924-c003ad80-2562-11e9-8297-1c6595f8a7ff.png)\n",
        "\n",
        "## Indexing and Slicing of Matrices"
      ]
    },
    {
      "cell_type": "code",
      "execution_count": null,
      "metadata": {
        "id": "VUFVArzOIccz"
      },
      "outputs": [],
      "source": [
        "# Square matrix\n",
        "A = np.array([\n",
        "#.   0. 1. 2\n",
        "    [1, 2, 3], # 0\n",
        "    [4, 5, 6], # 1\n",
        "    [7, 8, 9]  # 2\n",
        "])"
      ]
    },
    {
      "cell_type": "code",
      "execution_count": null,
      "metadata": {
        "id": "Pc9eGLZPIcc0",
        "outputId": "dbf19c90-173f-4e26-ff55-ac3e7f7550ab",
        "colab": {
          "base_uri": "https://localhost:8080/"
        }
      },
      "outputs": [
        {
          "output_type": "execute_result",
          "data": {
            "text/plain": [
              "array([4, 5, 6])"
            ]
          },
          "metadata": {},
          "execution_count": 48
        }
      ],
      "source": [
        "A[1]"
      ]
    },
    {
      "cell_type": "code",
      "execution_count": null,
      "metadata": {
        "id": "E-a1idw9Icc0",
        "outputId": "4488433e-d30b-4417-e1e1-19003402343c",
        "colab": {
          "base_uri": "https://localhost:8080/"
        }
      },
      "outputs": [
        {
          "output_type": "execute_result",
          "data": {
            "text/plain": [
              "4"
            ]
          },
          "metadata": {},
          "execution_count": 49
        }
      ],
      "source": [
        "A[1][0]"
      ]
    },
    {
      "cell_type": "code",
      "execution_count": null,
      "metadata": {
        "id": "YRf0_c2wIcc0"
      },
      "outputs": [],
      "source": [
        "# A[d1, d2, d3, d4]"
      ]
    },
    {
      "cell_type": "code",
      "execution_count": null,
      "metadata": {
        "id": "36PCfjH0Icc0",
        "outputId": "cea6f5fc-fe91-421e-9b96-be8cfab15280",
        "colab": {
          "base_uri": "https://localhost:8080/"
        }
      },
      "outputs": [
        {
          "output_type": "execute_result",
          "data": {
            "text/plain": [
              "4"
            ]
          },
          "metadata": {},
          "execution_count": 51
        }
      ],
      "source": [
        "A[1, 0]"
      ]
    },
    {
      "cell_type": "code",
      "execution_count": null,
      "metadata": {
        "scrolled": true,
        "id": "dbdSMW8RIcc0",
        "outputId": "bd59633e-dd59-409b-ab34-f2ff24dd6c20",
        "colab": {
          "base_uri": "https://localhost:8080/"
        }
      },
      "outputs": [
        {
          "output_type": "execute_result",
          "data": {
            "text/plain": [
              "array([[1, 2, 3],\n",
              "       [4, 5, 6]])"
            ]
          },
          "metadata": {},
          "execution_count": 52
        }
      ],
      "source": [
        "A[0:2]"
      ]
    },
    {
      "cell_type": "code",
      "execution_count": null,
      "metadata": {
        "id": "vLtSJtqfIcc0",
        "outputId": "877ec712-4a86-4b04-89ac-a710b047bdd2",
        "colab": {
          "base_uri": "https://localhost:8080/"
        }
      },
      "outputs": [
        {
          "output_type": "execute_result",
          "data": {
            "text/plain": [
              "array([[1, 2],\n",
              "       [4, 5],\n",
              "       [7, 8]])"
            ]
          },
          "metadata": {},
          "execution_count": 53
        }
      ],
      "source": [
        "A[:, :2]"
      ]
    },
    {
      "cell_type": "code",
      "execution_count": null,
      "metadata": {
        "id": "EXMTgvk0Icc1",
        "outputId": "ea9e608a-7b30-4700-e89c-6e21864029cb",
        "colab": {
          "base_uri": "https://localhost:8080/"
        }
      },
      "outputs": [
        {
          "output_type": "execute_result",
          "data": {
            "text/plain": [
              "array([[1, 2],\n",
              "       [4, 5]])"
            ]
          },
          "metadata": {},
          "execution_count": 54
        }
      ],
      "source": [
        "A[:2, :2]"
      ]
    },
    {
      "cell_type": "code",
      "execution_count": null,
      "metadata": {
        "id": "UvCe7zmMIcc1",
        "outputId": "49704981-1a93-40f6-ab41-9837bb082f5c",
        "colab": {
          "base_uri": "https://localhost:8080/"
        }
      },
      "outputs": [
        {
          "output_type": "execute_result",
          "data": {
            "text/plain": [
              "array([[3],\n",
              "       [6]])"
            ]
          },
          "metadata": {},
          "execution_count": 55
        }
      ],
      "source": [
        "A[:2, 2:]"
      ]
    },
    {
      "cell_type": "code",
      "execution_count": null,
      "metadata": {
        "id": "G6YFwUcOIcc1",
        "outputId": "28c9ac0d-1287-483c-ed45-9c187273fde4",
        "colab": {
          "base_uri": "https://localhost:8080/"
        }
      },
      "outputs": [
        {
          "output_type": "execute_result",
          "data": {
            "text/plain": [
              "array([[1, 2, 3],\n",
              "       [4, 5, 6],\n",
              "       [7, 8, 9]])"
            ]
          },
          "metadata": {},
          "execution_count": 56
        }
      ],
      "source": [
        "A"
      ]
    },
    {
      "cell_type": "code",
      "execution_count": null,
      "metadata": {
        "id": "73-nKoCfIcc1"
      },
      "outputs": [],
      "source": [
        "A[1] = np.array([10, 10, 10])"
      ]
    },
    {
      "cell_type": "code",
      "execution_count": null,
      "metadata": {
        "id": "e-2Ov5ESIcc1",
        "outputId": "9ed76ba3-7e0c-4242-bbfe-f78f9acc6c72",
        "colab": {
          "base_uri": "https://localhost:8080/"
        }
      },
      "outputs": [
        {
          "output_type": "execute_result",
          "data": {
            "text/plain": [
              "array([[ 1,  2,  3],\n",
              "       [10, 10, 10],\n",
              "       [ 7,  8,  9]])"
            ]
          },
          "metadata": {},
          "execution_count": 58
        }
      ],
      "source": [
        "A"
      ]
    },
    {
      "cell_type": "code",
      "execution_count": null,
      "metadata": {
        "id": "M7-xSXIBIcc2"
      },
      "outputs": [],
      "source": [
        "A[2] = 99"
      ]
    },
    {
      "cell_type": "code",
      "execution_count": null,
      "metadata": {
        "id": "zKam7ftlIcc2",
        "outputId": "ab1830c0-be25-4817-d187-34237b3d61f3",
        "colab": {
          "base_uri": "https://localhost:8080/"
        }
      },
      "outputs": [
        {
          "output_type": "execute_result",
          "data": {
            "text/plain": [
              "array([[ 1,  2,  3],\n",
              "       [10, 10, 10],\n",
              "       [99, 99, 99]])"
            ]
          },
          "metadata": {},
          "execution_count": 60
        }
      ],
      "source": [
        "A"
      ]
    },
    {
      "cell_type": "markdown",
      "metadata": {
        "id": "ciyE2clSIcc2"
      },
      "source": [
        "![green-divider](https://user-images.githubusercontent.com/7065401/52071924-c003ad80-2562-11e9-8297-1c6595f8a7ff.png)\n",
        "\n",
        "## Summary statistics"
      ]
    },
    {
      "cell_type": "code",
      "execution_count": null,
      "metadata": {
        "id": "Pp_BdF1VIcc2"
      },
      "outputs": [],
      "source": [
        "a = np.array([1, 2, 3, 4])"
      ]
    },
    {
      "cell_type": "code",
      "execution_count": null,
      "metadata": {
        "id": "lmyVPebuIcc2",
        "outputId": "4125ac44-fba7-40e7-b7fb-86745d44abdd",
        "colab": {
          "base_uri": "https://localhost:8080/"
        }
      },
      "outputs": [
        {
          "output_type": "execute_result",
          "data": {
            "text/plain": [
              "10"
            ]
          },
          "metadata": {},
          "execution_count": 62
        }
      ],
      "source": [
        "a.sum()"
      ]
    },
    {
      "cell_type": "code",
      "execution_count": null,
      "metadata": {
        "id": "2X8c5c80Icc2",
        "outputId": "66b5e24b-c692-4ba0-e4fb-711245fbd55b",
        "colab": {
          "base_uri": "https://localhost:8080/"
        }
      },
      "outputs": [
        {
          "output_type": "execute_result",
          "data": {
            "text/plain": [
              "2.5"
            ]
          },
          "metadata": {},
          "execution_count": 63
        }
      ],
      "source": [
        "a.mean()"
      ]
    },
    {
      "cell_type": "code",
      "execution_count": null,
      "metadata": {
        "id": "O9c-btBpIcc2",
        "outputId": "e9c7a6fe-e4a4-426d-fa62-a749c6bf20af",
        "colab": {
          "base_uri": "https://localhost:8080/"
        }
      },
      "outputs": [
        {
          "output_type": "execute_result",
          "data": {
            "text/plain": [
              "1.118033988749895"
            ]
          },
          "metadata": {},
          "execution_count": 64
        }
      ],
      "source": [
        "a.std()"
      ]
    },
    {
      "cell_type": "code",
      "execution_count": null,
      "metadata": {
        "id": "HzEHLb03Icc3",
        "outputId": "02fb4204-e8d5-440a-9557-c99dee36a1b6",
        "colab": {
          "base_uri": "https://localhost:8080/"
        }
      },
      "outputs": [
        {
          "output_type": "execute_result",
          "data": {
            "text/plain": [
              "1.25"
            ]
          },
          "metadata": {},
          "execution_count": 65
        }
      ],
      "source": [
        "a.var()"
      ]
    },
    {
      "cell_type": "code",
      "execution_count": null,
      "metadata": {
        "id": "69WXNQ9IIcc3"
      },
      "outputs": [],
      "source": [
        "A = np.array([\n",
        "    [1, 2, 3],\n",
        "    [4, 5, 6],\n",
        "    [7, 8, 9]\n",
        "])"
      ]
    },
    {
      "cell_type": "code",
      "execution_count": null,
      "metadata": {
        "id": "Wh6hl3bhIcc3",
        "outputId": "5e8fa824-8cb2-45b0-b15d-3993ea0a6b03",
        "colab": {
          "base_uri": "https://localhost:8080/"
        }
      },
      "outputs": [
        {
          "output_type": "execute_result",
          "data": {
            "text/plain": [
              "45"
            ]
          },
          "metadata": {},
          "execution_count": 67
        }
      ],
      "source": [
        "A.sum()"
      ]
    },
    {
      "cell_type": "code",
      "execution_count": null,
      "metadata": {
        "id": "fJT6LzWXIcc3",
        "outputId": "13f23b30-ab50-4e8f-a2cb-3201977193f8",
        "colab": {
          "base_uri": "https://localhost:8080/"
        }
      },
      "outputs": [
        {
          "output_type": "execute_result",
          "data": {
            "text/plain": [
              "5.0"
            ]
          },
          "metadata": {},
          "execution_count": 68
        }
      ],
      "source": [
        "A.mean()"
      ]
    },
    {
      "cell_type": "code",
      "execution_count": null,
      "metadata": {
        "id": "zn917nTWIcc3",
        "outputId": "eaec70f1-07e6-4600-a284-13e9490621ea",
        "colab": {
          "base_uri": "https://localhost:8080/"
        }
      },
      "outputs": [
        {
          "output_type": "execute_result",
          "data": {
            "text/plain": [
              "2.581988897471611"
            ]
          },
          "metadata": {},
          "execution_count": 69
        }
      ],
      "source": [
        "A.std()"
      ]
    },
    {
      "cell_type": "code",
      "execution_count": null,
      "metadata": {
        "id": "-Uf8WXW-Icc3",
        "outputId": "6cef14d1-8b3f-44d2-89ec-e07e308e724e",
        "colab": {
          "base_uri": "https://localhost:8080/"
        }
      },
      "outputs": [
        {
          "output_type": "execute_result",
          "data": {
            "text/plain": [
              "array([12, 15, 18])"
            ]
          },
          "metadata": {},
          "execution_count": 72
        }
      ],
      "source": [
        "A.sum(axis=0) #sum each column"
      ]
    },
    {
      "cell_type": "code",
      "execution_count": null,
      "metadata": {
        "id": "4kpGDRw2Icc3",
        "outputId": "f22917ec-22a9-4730-b130-1079aa10e770",
        "colab": {
          "base_uri": "https://localhost:8080/"
        }
      },
      "outputs": [
        {
          "output_type": "execute_result",
          "data": {
            "text/plain": [
              "array([ 6, 15, 24])"
            ]
          },
          "metadata": {},
          "execution_count": 73
        }
      ],
      "source": [
        "A.sum(axis=1) #sum each row"
      ]
    },
    {
      "cell_type": "code",
      "execution_count": null,
      "metadata": {
        "scrolled": true,
        "id": "2khet7STIcc3",
        "outputId": "2ef4bf00-ae75-4343-dc5c-0c8a72b304d6",
        "colab": {
          "base_uri": "https://localhost:8080/"
        }
      },
      "outputs": [
        {
          "output_type": "execute_result",
          "data": {
            "text/plain": [
              "array([4., 5., 6.])"
            ]
          },
          "metadata": {},
          "execution_count": 74
        }
      ],
      "source": [
        "A.mean(axis=0)"
      ]
    },
    {
      "cell_type": "code",
      "execution_count": null,
      "metadata": {
        "id": "j4OCqdAzIcc3",
        "outputId": "5f1aea5e-0270-42c7-d487-d58d58833fcb",
        "colab": {
          "base_uri": "https://localhost:8080/"
        }
      },
      "outputs": [
        {
          "output_type": "execute_result",
          "data": {
            "text/plain": [
              "array([2., 5., 8.])"
            ]
          },
          "metadata": {},
          "execution_count": 75
        }
      ],
      "source": [
        "A.mean(axis=1)"
      ]
    },
    {
      "cell_type": "code",
      "execution_count": null,
      "metadata": {
        "id": "drN7V2goIcc3",
        "outputId": "8f14c424-1ad8-471d-b30f-bd4a1d141ef0",
        "colab": {
          "base_uri": "https://localhost:8080/"
        }
      },
      "outputs": [
        {
          "output_type": "execute_result",
          "data": {
            "text/plain": [
              "array([2.44948974, 2.44948974, 2.44948974])"
            ]
          },
          "metadata": {},
          "execution_count": 76
        }
      ],
      "source": [
        "A.std(axis=0)"
      ]
    },
    {
      "cell_type": "code",
      "execution_count": null,
      "metadata": {
        "scrolled": true,
        "id": "ypN3DEX_Icc3",
        "outputId": "c86f9cc7-6279-4479-a79c-f4dbe2679f05",
        "colab": {
          "base_uri": "https://localhost:8080/"
        }
      },
      "outputs": [
        {
          "output_type": "execute_result",
          "data": {
            "text/plain": [
              "array([0.81649658, 0.81649658, 0.81649658])"
            ]
          },
          "metadata": {},
          "execution_count": 77
        }
      ],
      "source": [
        "A.std(axis=1)"
      ]
    },
    {
      "cell_type": "markdown",
      "metadata": {
        "id": "6QFHeq09Icc3"
      },
      "source": [
        "And [many more](https://docs.scipy.org/doc/numpy-1.13.0/reference/arrays.ndarray.html#array-methods)..."
      ]
    },
    {
      "cell_type": "markdown",
      "metadata": {
        "id": "4OuDpzThIcc4"
      },
      "source": [
        "![green-divider](https://user-images.githubusercontent.com/7065401/52071924-c003ad80-2562-11e9-8297-1c6595f8a7ff.png)\n",
        "\n",
        "## Broadcasting and Vectorized operations"
      ]
    },
    {
      "cell_type": "code",
      "execution_count": null,
      "metadata": {
        "id": "eio_Hna2Icc4"
      },
      "outputs": [],
      "source": [
        "a = np.arange(4)"
      ]
    },
    {
      "cell_type": "code",
      "execution_count": null,
      "metadata": {
        "id": "7JzqiwryIcc4",
        "outputId": "556dd6f6-a1eb-4143-8836-5907cd1cbaf8"
      },
      "outputs": [
        {
          "data": {
            "text/plain": [
              "array([0, 1, 2, 3])"
            ]
          },
          "execution_count": 67,
          "metadata": {},
          "output_type": "execute_result"
        }
      ],
      "source": [
        "a"
      ]
    },
    {
      "cell_type": "code",
      "execution_count": null,
      "metadata": {
        "id": "VoPb1kfmIcc4",
        "outputId": "64f01941-dcfa-455f-8d3a-7d990b381479"
      },
      "outputs": [
        {
          "data": {
            "text/plain": [
              "array([10, 11, 12, 13])"
            ]
          },
          "execution_count": 68,
          "metadata": {},
          "output_type": "execute_result"
        }
      ],
      "source": [
        "a + 10"
      ]
    },
    {
      "cell_type": "code",
      "execution_count": null,
      "metadata": {
        "id": "qnqyILWSIcc4",
        "outputId": "22a5f21b-826e-432a-98f2-cf3625bc0eea"
      },
      "outputs": [
        {
          "data": {
            "text/plain": [
              "array([ 0, 10, 20, 30])"
            ]
          },
          "execution_count": 69,
          "metadata": {},
          "output_type": "execute_result"
        }
      ],
      "source": [
        "a * 10"
      ]
    },
    {
      "cell_type": "code",
      "execution_count": null,
      "metadata": {
        "id": "iBjoo59ZIcc4",
        "outputId": "8d560a69-47bc-4d1f-9656-dce3af16aaf4"
      },
      "outputs": [
        {
          "data": {
            "text/plain": [
              "array([0, 1, 2, 3])"
            ]
          },
          "execution_count": 70,
          "metadata": {},
          "output_type": "execute_result"
        }
      ],
      "source": [
        "a"
      ]
    },
    {
      "cell_type": "code",
      "execution_count": null,
      "metadata": {
        "id": "FU1cbEbrIcc4"
      },
      "outputs": [],
      "source": [
        "a += 100"
      ]
    },
    {
      "cell_type": "code",
      "execution_count": null,
      "metadata": {
        "id": "1b31UyIvIcc4",
        "outputId": "f845ee31-90e8-4dd5-ea66-9cf348f032bb"
      },
      "outputs": [
        {
          "data": {
            "text/plain": [
              "array([100, 101, 102, 103])"
            ]
          },
          "execution_count": 73,
          "metadata": {},
          "output_type": "execute_result"
        }
      ],
      "source": [
        "a"
      ]
    },
    {
      "cell_type": "code",
      "execution_count": null,
      "metadata": {
        "id": "o8odUPgLIcc4"
      },
      "outputs": [],
      "source": [
        "l = [0, 1, 2, 3]"
      ]
    },
    {
      "cell_type": "code",
      "execution_count": null,
      "metadata": {
        "id": "BEeNWA4MIcc4",
        "outputId": "507b54ac-4309-4fcb-ecec-b251bbb48132"
      },
      "outputs": [
        {
          "data": {
            "text/plain": [
              "[0, 10, 20, 30]"
            ]
          },
          "execution_count": 75,
          "metadata": {},
          "output_type": "execute_result"
        }
      ],
      "source": [
        "[i * 10 for i in l]"
      ]
    },
    {
      "cell_type": "code",
      "execution_count": null,
      "metadata": {
        "id": "on-SXwkFIcc4"
      },
      "outputs": [],
      "source": [
        "a = np.arange(4)"
      ]
    },
    {
      "cell_type": "code",
      "execution_count": null,
      "metadata": {
        "id": "V2kcMpTIIcc4",
        "outputId": "7c9a94c9-6eca-495f-abfd-78677aa5ac05"
      },
      "outputs": [
        {
          "data": {
            "text/plain": [
              "array([0, 1, 2, 3])"
            ]
          },
          "execution_count": 77,
          "metadata": {},
          "output_type": "execute_result"
        }
      ],
      "source": [
        "a"
      ]
    },
    {
      "cell_type": "code",
      "execution_count": null,
      "metadata": {
        "id": "Q6daULN6Icc4"
      },
      "outputs": [],
      "source": [
        "b = np.array([10, 10, 10, 10])"
      ]
    },
    {
      "cell_type": "code",
      "execution_count": null,
      "metadata": {
        "id": "yy3kP70eIcc4",
        "outputId": "d10716fd-be7b-4f69-a1fd-34b111d9365a"
      },
      "outputs": [
        {
          "data": {
            "text/plain": [
              "array([10, 10, 10, 10])"
            ]
          },
          "execution_count": 79,
          "metadata": {},
          "output_type": "execute_result"
        }
      ],
      "source": [
        "b"
      ]
    },
    {
      "cell_type": "code",
      "execution_count": null,
      "metadata": {
        "id": "rVNsQSZ-Icc4",
        "outputId": "253ab2de-2b1c-47b7-f524-58650f08cd03"
      },
      "outputs": [
        {
          "data": {
            "text/plain": [
              "array([10, 11, 12, 13])"
            ]
          },
          "execution_count": 80,
          "metadata": {},
          "output_type": "execute_result"
        }
      ],
      "source": [
        "a + b"
      ]
    },
    {
      "cell_type": "code",
      "execution_count": null,
      "metadata": {
        "id": "ihXSPFw4Icc5",
        "outputId": "17b2368e-49a8-401f-c2bf-a2d42e1c5b93"
      },
      "outputs": [
        {
          "data": {
            "text/plain": [
              "array([ 0, 10, 20, 30])"
            ]
          },
          "execution_count": 81,
          "metadata": {},
          "output_type": "execute_result"
        }
      ],
      "source": [
        "a * b"
      ]
    },
    {
      "cell_type": "markdown",
      "metadata": {
        "id": "Xw4X29gBIcc5"
      },
      "source": [
        "![green-divider](https://user-images.githubusercontent.com/7065401/52071924-c003ad80-2562-11e9-8297-1c6595f8a7ff.png)\n",
        "\n",
        "## Boolean arrays\n",
        "_(Also called masks)_"
      ]
    },
    {
      "cell_type": "code",
      "execution_count": null,
      "metadata": {
        "id": "6cFkiPtMIcc5"
      },
      "outputs": [],
      "source": [
        "a = np.arange(4)"
      ]
    },
    {
      "cell_type": "code",
      "execution_count": null,
      "metadata": {
        "id": "y2yLD9_9Icc5",
        "outputId": "861571f2-c792-4af0-81e2-e14444542068",
        "colab": {
          "base_uri": "https://localhost:8080/"
        }
      },
      "outputs": [
        {
          "output_type": "execute_result",
          "data": {
            "text/plain": [
              "array([0, 1, 2, 3])"
            ]
          },
          "metadata": {},
          "execution_count": 79
        }
      ],
      "source": [
        "a"
      ]
    },
    {
      "cell_type": "code",
      "execution_count": null,
      "metadata": {
        "id": "jXh6ErcXIcc5",
        "outputId": "f1ca10d1-1c07-430d-85b0-7cf350aa6564",
        "colab": {
          "base_uri": "https://localhost:8080/"
        }
      },
      "outputs": [
        {
          "output_type": "execute_result",
          "data": {
            "text/plain": [
              "(0, 3)"
            ]
          },
          "metadata": {},
          "execution_count": 80
        }
      ],
      "source": [
        "a[0], a[-1]"
      ]
    },
    {
      "cell_type": "code",
      "execution_count": null,
      "metadata": {
        "id": "j5egZ_vbIcc5",
        "outputId": "d10b8d00-0731-43bd-f2e5-384397e12b08",
        "colab": {
          "base_uri": "https://localhost:8080/"
        }
      },
      "outputs": [
        {
          "output_type": "execute_result",
          "data": {
            "text/plain": [
              "array([0, 3])"
            ]
          },
          "metadata": {},
          "execution_count": 81
        }
      ],
      "source": [
        "a[[0, -1]]"
      ]
    },
    {
      "cell_type": "code",
      "execution_count": null,
      "metadata": {
        "id": "BTZ4UMIFIcc5",
        "outputId": "41302d9e-2089-4d1e-def9-7d88fee65223",
        "colab": {
          "base_uri": "https://localhost:8080/"
        }
      },
      "outputs": [
        {
          "output_type": "execute_result",
          "data": {
            "text/plain": [
              "array([0, 3])"
            ]
          },
          "metadata": {},
          "execution_count": 82
        }
      ],
      "source": [
        "a[[True, False, False, True]] #boolean arrays"
      ]
    },
    {
      "cell_type": "code",
      "execution_count": null,
      "metadata": {
        "id": "M0zyX-zeIcc5",
        "outputId": "146bc776-4bd9-4d2f-b483-442c0e4d52cc",
        "colab": {
          "base_uri": "https://localhost:8080/"
        }
      },
      "outputs": [
        {
          "output_type": "execute_result",
          "data": {
            "text/plain": [
              "array([0, 1, 2, 3])"
            ]
          },
          "metadata": {},
          "execution_count": 83
        }
      ],
      "source": [
        "a"
      ]
    },
    {
      "cell_type": "code",
      "execution_count": null,
      "metadata": {
        "id": "PDrf0C1FIcc5",
        "outputId": "76a6d056-d9d7-40cd-a538-148dfb3e97d8",
        "colab": {
          "base_uri": "https://localhost:8080/"
        }
      },
      "outputs": [
        {
          "output_type": "execute_result",
          "data": {
            "text/plain": [
              "array([False, False,  True,  True])"
            ]
          },
          "metadata": {},
          "execution_count": 84
        }
      ],
      "source": [
        "a >= 2"
      ]
    },
    {
      "cell_type": "code",
      "execution_count": null,
      "metadata": {
        "id": "wInTQsyZIcc5",
        "outputId": "aaa1aeb8-f9f6-47c3-cb15-4637f562eb3c",
        "colab": {
          "base_uri": "https://localhost:8080/"
        }
      },
      "outputs": [
        {
          "output_type": "execute_result",
          "data": {
            "text/plain": [
              "array([2, 3])"
            ]
          },
          "metadata": {},
          "execution_count": 86
        }
      ],
      "source": [
        "a[a >= 2] #filtering arrays quickly"
      ]
    },
    {
      "cell_type": "code",
      "execution_count": null,
      "metadata": {
        "id": "18Z8s8wmIcc5",
        "outputId": "502575f0-e3da-4190-fbdc-30097be65481",
        "colab": {
          "base_uri": "https://localhost:8080/"
        }
      },
      "outputs": [
        {
          "output_type": "execute_result",
          "data": {
            "text/plain": [
              "1.5"
            ]
          },
          "metadata": {},
          "execution_count": 87
        }
      ],
      "source": [
        "a.mean()"
      ]
    },
    {
      "cell_type": "code",
      "execution_count": null,
      "metadata": {
        "scrolled": true,
        "id": "j7_-lM-uIcc5",
        "outputId": "4ba1fd35-5944-469a-d2ae-4e71d5542e2e",
        "colab": {
          "base_uri": "https://localhost:8080/"
        }
      },
      "outputs": [
        {
          "output_type": "execute_result",
          "data": {
            "text/plain": [
              "array([2, 3])"
            ]
          },
          "metadata": {},
          "execution_count": 88
        }
      ],
      "source": [
        "a[a > a.mean()]"
      ]
    },
    {
      "cell_type": "code",
      "execution_count": null,
      "metadata": {
        "id": "txmixXqyIcc5",
        "outputId": "cf084351-436a-4f08-cf9f-ccbf87742d4e",
        "colab": {
          "base_uri": "https://localhost:8080/"
        }
      },
      "outputs": [
        {
          "output_type": "execute_result",
          "data": {
            "text/plain": [
              "array([0, 1])"
            ]
          },
          "metadata": {},
          "execution_count": 89
        }
      ],
      "source": [
        "a[~(a > a.mean())] #~ reverse the logical value of an expression"
      ]
    },
    {
      "cell_type": "code",
      "execution_count": null,
      "metadata": {
        "id": "BUJr9507Icc6",
        "outputId": "daff9342-db1b-41a8-8184-a5e51cd87127",
        "colab": {
          "base_uri": "https://localhost:8080/"
        }
      },
      "outputs": [
        {
          "output_type": "execute_result",
          "data": {
            "text/plain": [
              "array([0, 1])"
            ]
          },
          "metadata": {},
          "execution_count": 90
        }
      ],
      "source": [
        "a[(a == 0) | (a == 1)] # Boolean mask, | operator in Python is a logical or operator. a[(a == 0) | (a == 1)] will select the elements 0 and 1."
      ]
    },
    {
      "cell_type": "code",
      "execution_count": null,
      "metadata": {
        "id": "wpvHNmRvIcc6",
        "outputId": "2b9d2224-42ec-4def-cb16-cf336d35d5ae",
        "colab": {
          "base_uri": "https://localhost:8080/"
        }
      },
      "outputs": [
        {
          "output_type": "execute_result",
          "data": {
            "text/plain": [
              "array([0, 2])"
            ]
          },
          "metadata": {},
          "execution_count": 91
        }
      ],
      "source": [
        "a[(a <= 2) & (a % 2 == 0)]"
      ]
    },
    {
      "cell_type": "code",
      "execution_count": null,
      "metadata": {
        "id": "7TZx9IgcIcc6"
      },
      "outputs": [],
      "source": [
        "A = np.random.randint(100, size=(3, 3))"
      ]
    },
    {
      "cell_type": "code",
      "execution_count": null,
      "metadata": {
        "id": "WM5LVetnIcc6",
        "outputId": "eb509c22-1472-4ddd-9810-cbca1e811e02",
        "colab": {
          "base_uri": "https://localhost:8080/"
        }
      },
      "outputs": [
        {
          "output_type": "execute_result",
          "data": {
            "text/plain": [
              "array([[92, 20, 26],\n",
              "       [62,  6, 75],\n",
              "       [30, 39,  4]])"
            ]
          },
          "metadata": {},
          "execution_count": 93
        }
      ],
      "source": [
        "A"
      ]
    },
    {
      "cell_type": "code",
      "execution_count": null,
      "metadata": {
        "id": "FBPK2YFFIcc6",
        "outputId": "8cadbbe9-3b01-4f43-80b1-e488b5ea306b",
        "colab": {
          "base_uri": "https://localhost:8080/"
        }
      },
      "outputs": [
        {
          "output_type": "execute_result",
          "data": {
            "text/plain": [
              "array([92, 26,  6, 30,  4])"
            ]
          },
          "metadata": {},
          "execution_count": 94
        }
      ],
      "source": [
        "A[np.array([\n",
        "    [True, False, True],\n",
        "    [False, True, False],\n",
        "    [True, False, True]\n",
        "])]"
      ]
    },
    {
      "cell_type": "code",
      "execution_count": null,
      "metadata": {
        "id": "rEXbhhZWIcc6",
        "outputId": "5c762538-c094-4725-d954-601e26fc8c9d",
        "colab": {
          "base_uri": "https://localhost:8080/"
        }
      },
      "outputs": [
        {
          "output_type": "execute_result",
          "data": {
            "text/plain": [
              "array([[ True, False, False],\n",
              "       [ True, False,  True],\n",
              "       [False,  True, False]])"
            ]
          },
          "metadata": {},
          "execution_count": 95
        }
      ],
      "source": [
        "A > 30"
      ]
    },
    {
      "cell_type": "code",
      "execution_count": null,
      "metadata": {
        "id": "TXxtIEjBIcc6",
        "outputId": "bf66c679-0dc5-480f-9092-e5b419287e55",
        "colab": {
          "base_uri": "https://localhost:8080/"
        }
      },
      "outputs": [
        {
          "output_type": "execute_result",
          "data": {
            "text/plain": [
              "array([92, 62, 75, 39])"
            ]
          },
          "metadata": {},
          "execution_count": 96
        }
      ],
      "source": [
        "A[A > 30]"
      ]
    },
    {
      "cell_type": "markdown",
      "metadata": {
        "id": "TOsupud8Icc6"
      },
      "source": [
        "![green-divider](https://user-images.githubusercontent.com/7065401/52071924-c003ad80-2562-11e9-8297-1c6595f8a7ff.png)\n",
        "\n",
        "## Linear Algebra"
      ]
    },
    {
      "cell_type": "code",
      "execution_count": 3,
      "metadata": {
        "id": "rm0FRPFYIcc6"
      },
      "outputs": [],
      "source": [
        "A = np.array([\n",
        "    [1, 2, 3],\n",
        "    [4, 5, 6],\n",
        "    [7, 8, 9]\n",
        "])"
      ]
    },
    {
      "cell_type": "code",
      "execution_count": 4,
      "metadata": {
        "id": "e0c8hXxmIcc6"
      },
      "outputs": [],
      "source": [
        "B = np.array([\n",
        "    [6, 5],\n",
        "    [4, 3],\n",
        "    [2, 1]\n",
        "])"
      ]
    },
    {
      "cell_type": "code",
      "execution_count": 5,
      "metadata": {
        "id": "momc7DBkIcc6",
        "outputId": "13a1ba0d-3418-46c8-ab88-f52cf08f4d6e",
        "colab": {
          "base_uri": "https://localhost:8080/"
        }
      },
      "outputs": [
        {
          "output_type": "execute_result",
          "data": {
            "text/plain": [
              "array([[20, 14],\n",
              "       [56, 41],\n",
              "       [92, 68]])"
            ]
          },
          "metadata": {},
          "execution_count": 5
        }
      ],
      "source": [
        "A.dot(B)"
      ]
    },
    {
      "cell_type": "code",
      "execution_count": 6,
      "metadata": {
        "id": "xVUx5MzWIcc6",
        "outputId": "59ef6798-f599-4b53-c4c5-bdd06e0c276b",
        "colab": {
          "base_uri": "https://localhost:8080/"
        }
      },
      "outputs": [
        {
          "output_type": "execute_result",
          "data": {
            "text/plain": [
              "array([[20, 14],\n",
              "       [56, 41],\n",
              "       [92, 68]])"
            ]
          },
          "metadata": {},
          "execution_count": 6
        }
      ],
      "source": [
        "A @ B"
      ]
    },
    {
      "cell_type": "code",
      "execution_count": 8,
      "metadata": {
        "id": "8CBVgRAIIcc6",
        "outputId": "103a42f3-f1be-4315-c995-921abf941d52",
        "colab": {
          "base_uri": "https://localhost:8080/"
        }
      },
      "outputs": [
        {
          "output_type": "execute_result",
          "data": {
            "text/plain": [
              "array([[6, 4, 2],\n",
              "       [5, 3, 1]])"
            ]
          },
          "metadata": {},
          "execution_count": 8
        }
      ],
      "source": [
        "B.T #transpose"
      ]
    },
    {
      "cell_type": "code",
      "execution_count": 9,
      "metadata": {
        "id": "PRIpmq2hIcc6",
        "outputId": "c4f59967-027e-417e-e256-1595fa6428b1",
        "colab": {
          "base_uri": "https://localhost:8080/"
        }
      },
      "outputs": [
        {
          "output_type": "execute_result",
          "data": {
            "text/plain": [
              "array([[1, 2, 3],\n",
              "       [4, 5, 6],\n",
              "       [7, 8, 9]])"
            ]
          },
          "metadata": {},
          "execution_count": 9
        }
      ],
      "source": [
        "A"
      ]
    },
    {
      "cell_type": "code",
      "execution_count": 10,
      "metadata": {
        "scrolled": true,
        "id": "JbXPtyKJIcc7",
        "outputId": "5c82ee16-6fa0-4ea8-b495-025ab0eec4ad",
        "colab": {
          "base_uri": "https://localhost:8080/"
        }
      },
      "outputs": [
        {
          "output_type": "execute_result",
          "data": {
            "text/plain": [
              "array([[36, 48, 60],\n",
              "       [24, 33, 42]])"
            ]
          },
          "metadata": {},
          "execution_count": 10
        }
      ],
      "source": [
        "B.T @ A"
      ]
    },
    {
      "cell_type": "markdown",
      "metadata": {
        "id": "1eecReAbIcc7"
      },
      "source": [
        "![green-divider](https://user-images.githubusercontent.com/7065401/52071924-c003ad80-2562-11e9-8297-1c6595f8a7ff.png)\n",
        "\n",
        "## Size of objects in Memory"
      ]
    },
    {
      "cell_type": "markdown",
      "metadata": {
        "id": "h3YJaIGpIcc7"
      },
      "source": [
        "### Int, floats"
      ]
    },
    {
      "cell_type": "code",
      "execution_count": 11,
      "metadata": {
        "id": "itQzbh3iIcc7",
        "outputId": "356b5491-205f-48bc-a8ef-07b89377c7e2",
        "colab": {
          "base_uri": "https://localhost:8080/"
        }
      },
      "outputs": [
        {
          "output_type": "execute_result",
          "data": {
            "text/plain": [
              "28"
            ]
          },
          "metadata": {},
          "execution_count": 11
        }
      ],
      "source": [
        "# An integer in Python is > 24bytes. you need 28 bytes to store number 1\n",
        "sys.getsizeof(1)"
      ]
    },
    {
      "cell_type": "code",
      "execution_count": 12,
      "metadata": {
        "scrolled": true,
        "id": "G31eLu1SIcc7",
        "outputId": "65b0e3fb-d446-46cc-d654-abd6b8cdd7d1",
        "colab": {
          "base_uri": "https://localhost:8080/"
        }
      },
      "outputs": [
        {
          "output_type": "execute_result",
          "data": {
            "text/plain": [
              "72"
            ]
          },
          "metadata": {},
          "execution_count": 12
        }
      ],
      "source": [
        "# Longs are even larger\n",
        "sys.getsizeof(10**100)"
      ]
    },
    {
      "cell_type": "code",
      "execution_count": 13,
      "metadata": {
        "scrolled": true,
        "id": "HXA7YAp0Icc7",
        "outputId": "6370f3c7-2582-4eb4-b582-dfa24fff797f",
        "colab": {
          "base_uri": "https://localhost:8080/"
        }
      },
      "outputs": [
        {
          "output_type": "execute_result",
          "data": {
            "text/plain": [
              "8"
            ]
          },
          "metadata": {},
          "execution_count": 13
        }
      ],
      "source": [
        "# Numpy size is much smaller\n",
        "np.dtype(int).itemsize"
      ]
    },
    {
      "cell_type": "code",
      "execution_count": 14,
      "metadata": {
        "scrolled": true,
        "id": "FzZS_FYxIcc7",
        "outputId": "b2c14cd3-0f54-42e5-abf1-601f1aea3c8f",
        "colab": {
          "base_uri": "https://localhost:8080/"
        }
      },
      "outputs": [
        {
          "output_type": "execute_result",
          "data": {
            "text/plain": [
              "1"
            ]
          },
          "metadata": {},
          "execution_count": 14
        }
      ],
      "source": [
        "# Numpy size is much smaller\n",
        "np.dtype(np.int8).itemsize"
      ]
    },
    {
      "cell_type": "code",
      "execution_count": 15,
      "metadata": {
        "scrolled": true,
        "id": "HNVh0RTJIcc7",
        "outputId": "5d7869b5-d5e5-48ea-a2f4-406294d556ac",
        "colab": {
          "base_uri": "https://localhost:8080/"
        }
      },
      "outputs": [
        {
          "output_type": "execute_result",
          "data": {
            "text/plain": [
              "8"
            ]
          },
          "metadata": {},
          "execution_count": 15
        }
      ],
      "source": [
        "np.dtype(float).itemsize"
      ]
    },
    {
      "cell_type": "markdown",
      "metadata": {
        "id": "AukWNcRLIcc7"
      },
      "source": [
        "### Lists are even larger"
      ]
    },
    {
      "cell_type": "code",
      "execution_count": 16,
      "metadata": {
        "id": "q0PD0N_gIcc7",
        "outputId": "fd3aceaf-3f30-4d20-b053-d933cf1be265",
        "colab": {
          "base_uri": "https://localhost:8080/"
        }
      },
      "outputs": [
        {
          "output_type": "execute_result",
          "data": {
            "text/plain": [
              "64"
            ]
          },
          "metadata": {},
          "execution_count": 16
        }
      ],
      "source": [
        "# A one-element list\n",
        "sys.getsizeof([1])"
      ]
    },
    {
      "cell_type": "code",
      "execution_count": 17,
      "metadata": {
        "scrolled": true,
        "id": "yTGdQ0SRIcc7",
        "outputId": "ba21c580-87b1-4263-c656-b33ae79b1ff9",
        "colab": {
          "base_uri": "https://localhost:8080/"
        }
      },
      "outputs": [
        {
          "output_type": "execute_result",
          "data": {
            "text/plain": [
              "8"
            ]
          },
          "metadata": {},
          "execution_count": 17
        }
      ],
      "source": [
        "# An array of one element in numpy\n",
        "np.array([1]).nbytes"
      ]
    },
    {
      "cell_type": "markdown",
      "metadata": {
        "id": "If7Gx30kIcc7"
      },
      "source": [
        "### And performance is also important"
      ]
    },
    {
      "cell_type": "code",
      "execution_count": 18,
      "metadata": {
        "id": "Q1caKIv7Icc8"
      },
      "outputs": [],
      "source": [
        "l = list(range(100000))"
      ]
    },
    {
      "cell_type": "code",
      "execution_count": 19,
      "metadata": {
        "id": "dazWSqMMIcc8"
      },
      "outputs": [],
      "source": [
        "a = np.arange(100000)"
      ]
    },
    {
      "cell_type": "code",
      "execution_count": 21,
      "metadata": {
        "scrolled": true,
        "id": "9lt9tXr7Icc8",
        "outputId": "53c067bc-b19a-4fb4-8803-0813d30bdd73",
        "colab": {
          "base_uri": "https://localhost:8080/"
        }
      },
      "outputs": [
        {
          "output_type": "stream",
          "name": "stdout",
          "text": [
            "CPU times: user 1.39 ms, sys: 60 µs, total: 1.45 ms\n",
            "Wall time: 3.14 ms\n"
          ]
        },
        {
          "output_type": "execute_result",
          "data": {
            "text/plain": [
              "333328333350000"
            ]
          },
          "metadata": {},
          "execution_count": 21
        }
      ],
      "source": [
        "%time np.sum(a ** 2)"
      ]
    },
    {
      "cell_type": "code",
      "execution_count": 20,
      "metadata": {
        "scrolled": true,
        "id": "Z58qyviHIcc8",
        "outputId": "97124b63-a4ed-42ee-c5e2-26eed3e9eba1",
        "colab": {
          "base_uri": "https://localhost:8080/"
        }
      },
      "outputs": [
        {
          "output_type": "stream",
          "name": "stdout",
          "text": [
            "CPU times: user 32.9 ms, sys: 3.92 ms, total: 36.8 ms\n",
            "Wall time: 37.4 ms\n"
          ]
        },
        {
          "output_type": "execute_result",
          "data": {
            "text/plain": [
              "333328333350000"
            ]
          },
          "metadata": {},
          "execution_count": 20
        }
      ],
      "source": [
        "%time sum([x ** 2 for x in l])"
      ]
    },
    {
      "cell_type": "markdown",
      "metadata": {
        "id": "gNLkZtvkIcc8"
      },
      "source": [
        "![green-divider](https://user-images.githubusercontent.com/7065401/52071924-c003ad80-2562-11e9-8297-1c6595f8a7ff.png)\n",
        "\n",
        "## Useful Numpy functions"
      ]
    },
    {
      "cell_type": "markdown",
      "metadata": {
        "id": "gDOLwwBdIcc8"
      },
      "source": [
        "### `random`"
      ]
    },
    {
      "cell_type": "code",
      "execution_count": 22,
      "metadata": {
        "id": "LZw8354dIcc8",
        "outputId": "4ead346e-d2e9-4b0c-ac7b-93b8473ef6a0",
        "colab": {
          "base_uri": "https://localhost:8080/"
        }
      },
      "outputs": [
        {
          "output_type": "execute_result",
          "data": {
            "text/plain": [
              "array([0.91564491, 0.83680651])"
            ]
          },
          "metadata": {},
          "execution_count": 22
        }
      ],
      "source": [
        "np.random.random(size=2)"
      ]
    },
    {
      "cell_type": "code",
      "execution_count": 23,
      "metadata": {
        "id": "itxpW2n9Icc8",
        "outputId": "4eaf6787-0b30-4ea2-bf2a-af591f74439e",
        "colab": {
          "base_uri": "https://localhost:8080/"
        }
      },
      "outputs": [
        {
          "output_type": "execute_result",
          "data": {
            "text/plain": [
              "array([-0.29365934,  1.82557117])"
            ]
          },
          "metadata": {},
          "execution_count": 23
        }
      ],
      "source": [
        "np.random.normal(size=2)"
      ]
    },
    {
      "cell_type": "code",
      "execution_count": 24,
      "metadata": {
        "id": "NuLOJhVdIcc8",
        "outputId": "61cfa4e3-16f8-47ca-d05d-131164657a0b",
        "colab": {
          "base_uri": "https://localhost:8080/"
        }
      },
      "outputs": [
        {
          "output_type": "execute_result",
          "data": {
            "text/plain": [
              "array([[0.44107628, 0.70497814, 0.51991935, 0.02245125],\n",
              "       [0.37185234, 0.80141512, 0.92017583, 0.57157104]])"
            ]
          },
          "metadata": {},
          "execution_count": 24
        }
      ],
      "source": [
        "np.random.rand(2, 4)"
      ]
    },
    {
      "cell_type": "markdown",
      "metadata": {
        "id": "vtupi298Icc8"
      },
      "source": [
        "---\n",
        "### `arange`"
      ]
    },
    {
      "cell_type": "code",
      "execution_count": 25,
      "metadata": {
        "id": "-cxno3QhIcc8",
        "outputId": "bc43b08f-e317-4ad3-d179-67138fa47f86",
        "colab": {
          "base_uri": "https://localhost:8080/"
        }
      },
      "outputs": [
        {
          "output_type": "execute_result",
          "data": {
            "text/plain": [
              "array([0, 1, 2, 3, 4, 5, 6, 7, 8, 9])"
            ]
          },
          "metadata": {},
          "execution_count": 25
        }
      ],
      "source": [
        "np.arange(10)"
      ]
    },
    {
      "cell_type": "code",
      "execution_count": 26,
      "metadata": {
        "id": "6eUObICJIcc9",
        "outputId": "38e52242-9289-4e05-cac1-95d9d5f31ff5",
        "colab": {
          "base_uri": "https://localhost:8080/"
        }
      },
      "outputs": [
        {
          "output_type": "execute_result",
          "data": {
            "text/plain": [
              "array([5, 6, 7, 8, 9])"
            ]
          },
          "metadata": {},
          "execution_count": 26
        }
      ],
      "source": [
        "np.arange(5, 10)"
      ]
    },
    {
      "cell_type": "code",
      "execution_count": 27,
      "metadata": {
        "id": "_3YzJ_nJIcc9",
        "outputId": "50b047a4-1688-4020-9e5d-fb262b712a68",
        "colab": {
          "base_uri": "https://localhost:8080/"
        }
      },
      "outputs": [
        {
          "output_type": "execute_result",
          "data": {
            "text/plain": [
              "array([0. , 0.1, 0.2, 0.3, 0.4, 0.5, 0.6, 0.7, 0.8, 0.9])"
            ]
          },
          "metadata": {},
          "execution_count": 27
        }
      ],
      "source": [
        "np.arange(0, 1, .1)"
      ]
    },
    {
      "cell_type": "markdown",
      "metadata": {
        "id": "VM3gzdCAIcc9"
      },
      "source": [
        "---\n",
        "### `reshape`"
      ]
    },
    {
      "cell_type": "code",
      "execution_count": 28,
      "metadata": {
        "id": "8RuKdgNkIcc9",
        "outputId": "6a1b3c48-06d4-43c2-d4b5-40cc29646c03",
        "colab": {
          "base_uri": "https://localhost:8080/"
        }
      },
      "outputs": [
        {
          "output_type": "execute_result",
          "data": {
            "text/plain": [
              "array([[0, 1, 2, 3, 4],\n",
              "       [5, 6, 7, 8, 9]])"
            ]
          },
          "metadata": {},
          "execution_count": 28
        }
      ],
      "source": [
        "np.arange(10).reshape(2, 5)"
      ]
    },
    {
      "cell_type": "code",
      "execution_count": 29,
      "metadata": {
        "id": "pDpdiExNIcc9",
        "outputId": "f34dc217-c5d8-4871-f0f7-03e2db53d678",
        "colab": {
          "base_uri": "https://localhost:8080/"
        }
      },
      "outputs": [
        {
          "output_type": "execute_result",
          "data": {
            "text/plain": [
              "array([[0, 1],\n",
              "       [2, 3],\n",
              "       [4, 5],\n",
              "       [6, 7],\n",
              "       [8, 9]])"
            ]
          },
          "metadata": {},
          "execution_count": 29
        }
      ],
      "source": [
        "np.arange(10).reshape(5, 2)"
      ]
    },
    {
      "cell_type": "markdown",
      "metadata": {
        "id": "PlxxLo0pIcc9"
      },
      "source": [
        "---\n",
        "### `linspace`"
      ]
    },
    {
      "cell_type": "code",
      "execution_count": 31,
      "metadata": {
        "id": "YOLDNOXDIcc-",
        "outputId": "261d15fa-bd9f-4da4-bcdb-4f8f779fa29d",
        "colab": {
          "base_uri": "https://localhost:8080/"
        }
      },
      "outputs": [
        {
          "output_type": "execute_result",
          "data": {
            "text/plain": [
              "array([0.  , 0.25, 0.5 , 0.75, 1.  ])"
            ]
          },
          "metadata": {},
          "execution_count": 31
        }
      ],
      "source": [
        "np.linspace(0, 1, 5) #create a linearly spaced array. (the start value, the end value, and the number of elements in the array)"
      ]
    },
    {
      "cell_type": "code",
      "execution_count": 32,
      "metadata": {
        "id": "gmPo_8_nIcc-",
        "outputId": "e737fefc-7173-41b7-96e0-e89c1238dc98",
        "colab": {
          "base_uri": "https://localhost:8080/"
        }
      },
      "outputs": [
        {
          "output_type": "execute_result",
          "data": {
            "text/plain": [
              "array([0.        , 0.05263158, 0.10526316, 0.15789474, 0.21052632,\n",
              "       0.26315789, 0.31578947, 0.36842105, 0.42105263, 0.47368421,\n",
              "       0.52631579, 0.57894737, 0.63157895, 0.68421053, 0.73684211,\n",
              "       0.78947368, 0.84210526, 0.89473684, 0.94736842, 1.        ])"
            ]
          },
          "metadata": {},
          "execution_count": 32
        }
      ],
      "source": [
        "np.linspace(0, 1, 20)"
      ]
    },
    {
      "cell_type": "code",
      "execution_count": 33,
      "metadata": {
        "scrolled": true,
        "id": "RJhqMsWfIcc_",
        "outputId": "0ef90128-2aec-4b4b-95a7-db91f9d5352e",
        "colab": {
          "base_uri": "https://localhost:8080/"
        }
      },
      "outputs": [
        {
          "output_type": "execute_result",
          "data": {
            "text/plain": [
              "array([0.  , 0.05, 0.1 , 0.15, 0.2 , 0.25, 0.3 , 0.35, 0.4 , 0.45, 0.5 ,\n",
              "       0.55, 0.6 , 0.65, 0.7 , 0.75, 0.8 , 0.85, 0.9 , 0.95])"
            ]
          },
          "metadata": {},
          "execution_count": 33
        }
      ],
      "source": [
        "np.linspace(0, 1, 20, False) #to control whether the endpoint of the range is included in the array, false -  endpoint of the range is not included in the array."
      ]
    },
    {
      "cell_type": "markdown",
      "metadata": {
        "id": "MKACgr7RIcc_"
      },
      "source": [
        "---\n",
        "### `zeros`, `ones`, `empty`"
      ]
    },
    {
      "cell_type": "code",
      "execution_count": 34,
      "metadata": {
        "id": "kZAM7D4_Icc_",
        "outputId": "e7b427b2-d7a4-4e06-8524-96a56d70f712",
        "colab": {
          "base_uri": "https://localhost:8080/"
        }
      },
      "outputs": [
        {
          "output_type": "execute_result",
          "data": {
            "text/plain": [
              "array([0., 0., 0., 0., 0.])"
            ]
          },
          "metadata": {},
          "execution_count": 34
        }
      ],
      "source": [
        "np.zeros(5)"
      ]
    },
    {
      "cell_type": "code",
      "execution_count": 35,
      "metadata": {
        "scrolled": true,
        "id": "L5TsimjWIcc_",
        "outputId": "0872797a-f587-4d81-d3fb-2158bbac60cb",
        "colab": {
          "base_uri": "https://localhost:8080/"
        }
      },
      "outputs": [
        {
          "output_type": "execute_result",
          "data": {
            "text/plain": [
              "array([[0., 0., 0.],\n",
              "       [0., 0., 0.],\n",
              "       [0., 0., 0.]])"
            ]
          },
          "metadata": {},
          "execution_count": 35
        }
      ],
      "source": [
        "np.zeros((3, 3))"
      ]
    },
    {
      "cell_type": "code",
      "execution_count": 36,
      "metadata": {
        "scrolled": true,
        "id": "F7JTfNnTIcdA",
        "outputId": "d8ec2190-8823-4c40-c84f-494fe78eeb4f",
        "colab": {
          "base_uri": "https://localhost:8080/"
        }
      },
      "outputs": [
        {
          "output_type": "stream",
          "name": "stderr",
          "text": [
            "<ipython-input-36-ef30deaab30c>:1: DeprecationWarning: `np.int` is a deprecated alias for the builtin `int`. To silence this warning, use `int` by itself. Doing this will not modify any behavior and is safe. When replacing `np.int`, you may wish to use e.g. `np.int64` or `np.int32` to specify the precision. If you wish to review your current use, check the release note link for additional information.\n",
            "Deprecated in NumPy 1.20; for more details and guidance: https://numpy.org/devdocs/release/1.20.0-notes.html#deprecations\n",
            "  np.zeros((3, 3), dtype=np.int)\n"
          ]
        },
        {
          "output_type": "execute_result",
          "data": {
            "text/plain": [
              "array([[0, 0, 0],\n",
              "       [0, 0, 0],\n",
              "       [0, 0, 0]])"
            ]
          },
          "metadata": {},
          "execution_count": 36
        }
      ],
      "source": [
        "np.zeros((3, 3), dtype=np.int)"
      ]
    },
    {
      "cell_type": "code",
      "execution_count": 37,
      "metadata": {
        "id": "k7lNoZiPIcdA",
        "outputId": "8eaa0373-3779-4fb8-cf3d-e0056ed16e29",
        "colab": {
          "base_uri": "https://localhost:8080/"
        }
      },
      "outputs": [
        {
          "output_type": "execute_result",
          "data": {
            "text/plain": [
              "array([1., 1., 1., 1., 1.])"
            ]
          },
          "metadata": {},
          "execution_count": 37
        }
      ],
      "source": [
        "np.ones(5)"
      ]
    },
    {
      "cell_type": "code",
      "execution_count": 38,
      "metadata": {
        "id": "DOfk4JdAIcdA",
        "outputId": "0f670bb0-156d-4449-d3ae-496b4ed18009",
        "colab": {
          "base_uri": "https://localhost:8080/"
        }
      },
      "outputs": [
        {
          "output_type": "execute_result",
          "data": {
            "text/plain": [
              "array([[1., 1., 1.],\n",
              "       [1., 1., 1.],\n",
              "       [1., 1., 1.]])"
            ]
          },
          "metadata": {},
          "execution_count": 38
        }
      ],
      "source": [
        "np.ones((3, 3))"
      ]
    },
    {
      "cell_type": "code",
      "execution_count": 39,
      "metadata": {
        "id": "aF-yS-DYIcdA",
        "outputId": "ab35b561-a5a5-47ac-dd71-c85925447e48",
        "colab": {
          "base_uri": "https://localhost:8080/"
        }
      },
      "outputs": [
        {
          "output_type": "execute_result",
          "data": {
            "text/plain": [
              "array([1., 1., 1., 1., 1.])"
            ]
          },
          "metadata": {},
          "execution_count": 39
        }
      ],
      "source": [
        "np.empty(5)"
      ]
    },
    {
      "cell_type": "code",
      "execution_count": 40,
      "metadata": {
        "scrolled": true,
        "id": "tM6ipPPvIcdA",
        "outputId": "813597b5-8289-4b43-a1ee-673e44d04cf8",
        "colab": {
          "base_uri": "https://localhost:8080/"
        }
      },
      "outputs": [
        {
          "output_type": "execute_result",
          "data": {
            "text/plain": [
              "array([[0.25, 0.5 ],\n",
              "       [0.75, 1.  ]])"
            ]
          },
          "metadata": {},
          "execution_count": 40
        }
      ],
      "source": [
        "np.empty((2, 2))"
      ]
    },
    {
      "cell_type": "markdown",
      "metadata": {
        "id": "Nil95ao8IcdB"
      },
      "source": [
        "---\n",
        "### `identity` and `eye`"
      ]
    },
    {
      "cell_type": "code",
      "execution_count": 41,
      "metadata": {
        "id": "c956lIQyIcdB",
        "outputId": "b9819b02-52e1-49d9-ce03-bccb503255dd",
        "colab": {
          "base_uri": "https://localhost:8080/"
        }
      },
      "outputs": [
        {
          "output_type": "execute_result",
          "data": {
            "text/plain": [
              "array([[1., 0., 0.],\n",
              "       [0., 1., 0.],\n",
              "       [0., 0., 1.]])"
            ]
          },
          "metadata": {},
          "execution_count": 41
        }
      ],
      "source": [
        "np.identity(3)"
      ]
    },
    {
      "cell_type": "code",
      "execution_count": 42,
      "metadata": {
        "id": "aYLh3GGxIcdB",
        "outputId": "8c6a23ee-e9ef-4e5c-8b47-38e4cfe62b04",
        "colab": {
          "base_uri": "https://localhost:8080/"
        }
      },
      "outputs": [
        {
          "output_type": "execute_result",
          "data": {
            "text/plain": [
              "array([[1., 0., 0.],\n",
              "       [0., 1., 0.],\n",
              "       [0., 0., 1.]])"
            ]
          },
          "metadata": {},
          "execution_count": 42
        }
      ],
      "source": [
        "np.eye(3, 3) #to create an identity matrix (the number of rows, the number of columns in the matrix)"
      ]
    },
    {
      "cell_type": "code",
      "execution_count": 43,
      "metadata": {
        "id": "1QKQ3gNVIcdB",
        "outputId": "612d1cde-ce7e-4499-a6f4-f57e56f54b6d",
        "colab": {
          "base_uri": "https://localhost:8080/"
        }
      },
      "outputs": [
        {
          "output_type": "execute_result",
          "data": {
            "text/plain": [
              "array([[1., 0., 0., 0.],\n",
              "       [0., 1., 0., 0.],\n",
              "       [0., 0., 1., 0.],\n",
              "       [0., 0., 0., 1.],\n",
              "       [0., 0., 0., 0.],\n",
              "       [0., 0., 0., 0.],\n",
              "       [0., 0., 0., 0.],\n",
              "       [0., 0., 0., 0.]])"
            ]
          },
          "metadata": {},
          "execution_count": 43
        }
      ],
      "source": [
        "np.eye(8, 4)"
      ]
    },
    {
      "cell_type": "code",
      "execution_count": 44,
      "metadata": {
        "scrolled": true,
        "id": "DJQMecHdIcdB",
        "outputId": "b4566c0c-f6e3-417d-f68f-3304363321d2",
        "colab": {
          "base_uri": "https://localhost:8080/"
        }
      },
      "outputs": [
        {
          "output_type": "execute_result",
          "data": {
            "text/plain": [
              "array([[0., 1., 0., 0.],\n",
              "       [0., 0., 1., 0.],\n",
              "       [0., 0., 0., 1.],\n",
              "       [0., 0., 0., 0.],\n",
              "       [0., 0., 0., 0.],\n",
              "       [0., 0., 0., 0.],\n",
              "       [0., 0., 0., 0.],\n",
              "       [0., 0., 0., 0.]])"
            ]
          },
          "metadata": {},
          "execution_count": 44
        }
      ],
      "source": [
        "np.eye(8, 4, k=1)"
      ]
    },
    {
      "cell_type": "code",
      "execution_count": 45,
      "metadata": {
        "id": "3L_fxFlbIcdB",
        "outputId": "d200c5c1-96ba-4c6f-e55c-d5c1a2327414",
        "colab": {
          "base_uri": "https://localhost:8080/"
        }
      },
      "outputs": [
        {
          "output_type": "execute_result",
          "data": {
            "text/plain": [
              "array([[0., 0., 0., 0.],\n",
              "       [0., 0., 0., 0.],\n",
              "       [0., 0., 0., 0.],\n",
              "       [1., 0., 0., 0.],\n",
              "       [0., 1., 0., 0.],\n",
              "       [0., 0., 1., 0.],\n",
              "       [0., 0., 0., 1.],\n",
              "       [0., 0., 0., 0.]])"
            ]
          },
          "metadata": {},
          "execution_count": 45
        }
      ],
      "source": [
        "np.eye(8, 4, k=-3)"
      ]
    },
    {
      "cell_type": "code",
      "execution_count": 46,
      "metadata": {
        "scrolled": true,
        "id": "d5ePJELGIcdB",
        "outputId": "3890e585-a3f5-4fca-e5ad-a8a85b640445",
        "colab": {
          "base_uri": "https://localhost:8080/",
          "height": 36
        }
      },
      "outputs": [
        {
          "output_type": "execute_result",
          "data": {
            "text/plain": [
              "'W'"
            ],
            "application/vnd.google.colaboratory.intrinsic+json": {
              "type": "string"
            }
          },
          "metadata": {},
          "execution_count": 46
        }
      ],
      "source": [
        "\"Hello World\"[6]"
      ]
    },
    {
      "cell_type": "markdown",
      "metadata": {
        "id": "mHDNM9iyIcdB"
      },
      "source": [
        "![purple-divider](https://user-images.githubusercontent.com/7065401/52071927-c1cd7100-2562-11e9-908a-dde91ba14e59.png)"
      ]
    }
  ],
  "metadata": {
    "kernelspec": {
      "display_name": "Python 3",
      "language": "python",
      "name": "python3"
    },
    "language_info": {
      "codemirror_mode": {
        "name": "ipython",
        "version": 3
      },
      "file_extension": ".py",
      "mimetype": "text/x-python",
      "name": "python",
      "nbconvert_exporter": "python",
      "pygments_lexer": "ipython3",
      "version": "3.8.1"
    },
    "colab": {
      "provenance": []
    }
  },
  "nbformat": 4,
  "nbformat_minor": 0
}